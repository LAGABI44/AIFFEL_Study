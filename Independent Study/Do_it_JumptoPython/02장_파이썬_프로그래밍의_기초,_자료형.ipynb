{
  "nbformat": 4,
  "nbformat_minor": 0,
  "metadata": {
    "colab": {
      "name": "02장 파이썬 프로그래밍의 기초, 자료형.ipynb",
      "provenance": []
    },
    "kernelspec": {
      "name": "python3",
      "display_name": "Python 3"
    },
    "language_info": {
      "name": "python"
    }
  },
  "cells": [
    {
      "cell_type": "markdown",
      "source": [
        "#02-1 숫자형\n",
        "##숫자형은 어떻게 만들고 사용할까?\n",
        "정수형/실수형/8진수와 16진수   \n",
        "복소수   \n",
        "- 복소수.real : 복소수의 실수 부분 리턴\n",
        "- 복소수.imag : 복소수의 허수 부분 리턴\n",
        "- 복소수.conjugate() : 복소수의 켤레복소수 리턴\n",
        "- abs(복소수) : 복소수의 절댓값 리턴\n",
        "\n",
        "\n",
        "##숫자형을 활용하기 위한 연산자\n",
        "사칙연산 : +, -, *, /   \n",
        "*** : x의 y제곱   \n",
        "% : 나눗셈 후 나머지 반환   \n",
        "// : 나눗셈 후 소수점 아랫자리 버리기   \n",
        "\n",
        "\n",
        "---\n",
        "\n",
        "#02-2 문자열 자료형\n",
        "##<문자열은 어떻게 만들고 사용할까?>\n",
        "문자열(String)이란?   \n",
        "문자, 단어 등으로 구성된 문자들의 집합\n",
        "\n",
        "1. 큰따옴표(\")로 양쪽 둘러싸기\n",
        "2. 작은따옴표(')로 양쪽 둘러싸기\n",
        "3. 큰따옴표 3개를 연속(\"\"\")으로 써서 양쪽 둘러싸기\n",
        "4. 작은따옴표 3개를 연속(''')으로 싸서 양쪽 둘러싸기\n",
        "\n",
        "왜 이렇게 다양할까?   \n",
        "문자열 안에 작은 따옴표와 큰따옴표가 들어 있어야하는 상황이 발생하기 때문에!\n",
        "\n",
        "###문자열 안에 작은따옴표나 큰따옴표를 포함시키고 싶을 때\n",
        "\n",
        "1. 문자열 안에 작은 따옴표를 써야하는 경우 큰 따옴표로 들러싸야 함 -> 작은 따옴표로 둘러 쌀 경우 SyntaxError 구문 오류 발생   \n",
        "2. 문자열 안에 큰 따옴표 써야하는 경우 작은따옴표로 둘러싸면 됨   \n",
        "3. \\(백슬러시) 이용해서 '와 \"를 문자열 안에 포함 가능\n",
        "\n",
        "###여러 줄인 문자열을 변수에 대입하고 싶을 때\n",
        "1. 줄을 바꾸기 위해 이스케이프 코디'\\n'삽입하기\n",
        "<multiline = \"Life is too short\\n You need python\">\n",
        "2. 연속된 작은따옴표 3개(''') 또는 큰따옴표 3개(\"\"\")이용\n",
        "\n",
        "###이스케이프 코드\n",
        "- ⭐\\n : 문자열 안에서 줄을 바꿀 때 사용\n",
        "- ⭐\\t : 문자열 사이에 탭 간격을 줄 때 사용\n",
        "- ⭐\\\\\\ : 문자 \\를 그대로 표현할 때 사용\n",
        "- ⭐\\\\' : 작은따옴표(')를 그대로 표현할 때 사용\n",
        "- ⭐\\\\\" : 큰따옴표(\")를 그대로 표현할 때 사용\n",
        "- \\r : 캐리지 리턴(줄바꿈 문자, 헌재 커서를 가장 앞으로 이동)\n",
        "- \\f : 폼 피드(줄바꿈 문자, 현재 커서를 다음 줄로 이동)\n",
        "- \\a : 벨 소리(출력 시 PC 스피커에서 '삑' 소리가 난다)\n",
        "- \\b : 백 스페이스\n",
        "- \\000 : 널 문자\n",
        "\n",
        "\n",
        "##<문자열 연산하기>\n",
        "\n",
        "1. 문자열 더해서 연결하기(Concatenation)   \n",
        "\n",
        "head라는 '변수'와 tail라는 '변수'가 합쳐진 것"
      ],
      "metadata": {
        "id": "X6zG_4N3qFCY"
      }
    },
    {
      "cell_type": "code",
      "source": [
        "head = \"Python\"\n",
        "tail = \"is fun!\"\n",
        "head+tail"
      ],
      "metadata": {
        "colab": {
          "base_uri": "https://localhost:8080/",
          "height": 35
        },
        "id": "ss12Wrm996FT",
        "outputId": "900e88b9-7c9e-4205-bba5-9c213a7e31b3"
      },
      "execution_count": null,
      "outputs": [
        {
          "output_type": "execute_result",
          "data": {
            "application/vnd.google.colaboratory.intrinsic+json": {
              "type": "string"
            },
            "text/plain": [
              "'Pythonis fun!'"
            ]
          },
          "metadata": {},
          "execution_count": 2
        }
      ]
    },
    {
      "cell_type": "markdown",
      "source": [
        "2. 문자열 곱하기\n",
        "*는 문자열의 반복을 뜻함"
      ],
      "metadata": {
        "id": "t3liK2xW-PVr"
      }
    },
    {
      "cell_type": "code",
      "source": [
        "a=\"python\"\n",
        "a*2"
      ],
      "metadata": {
        "colab": {
          "base_uri": "https://localhost:8080/",
          "height": 35
        },
        "id": "fyi7eAQP-V7m",
        "outputId": "a27687bd-427c-4e06-cd6c-7cc63db16f8c"
      },
      "execution_count": null,
      "outputs": [
        {
          "output_type": "execute_result",
          "data": {
            "application/vnd.google.colaboratory.intrinsic+json": {
              "type": "string"
            },
            "text/plain": [
              "'pythonpython'"
            ]
          },
          "metadata": {},
          "execution_count": 3
        }
      ]
    },
    {
      "cell_type": "markdown",
      "source": [
        "3. 문자열 곱하기 응용"
      ],
      "metadata": {
        "id": "5sZyYe3Q-n35"
      }
    },
    {
      "cell_type": "code",
      "source": [
        "print(\"=\"*50)\n",
        "print(\"My Program\")\n",
        "print(\"=\"*50)"
      ],
      "metadata": {
        "colab": {
          "base_uri": "https://localhost:8080/"
        },
        "id": "fSJeTOkY-0mO",
        "outputId": "8c8339da-af0a-4205-97de-1d774f48873a"
      },
      "execution_count": null,
      "outputs": [
        {
          "output_type": "stream",
          "name": "stdout",
          "text": [
            "==================================================\n",
            "My Program\n",
            "==================================================\n"
          ]
        }
      ]
    },
    {
      "cell_type": "markdown",
      "source": [
        "##<문자열 인덱싱과 슬라이싱>\n",
        "인덱싱(Indexing) => '가리킨다'\n",
        "슬라이싱(Slicing) => '잘라낸다'\n",
        "\n",
        "###문자열 인덱싱이란?\n",
        "a=\"Life is too short, You need Python\"   \n",
        "위 소스 코드에서 변수 a에 저장한 문자열의 각 문자마다 번호를 매겨 보면 다음과 같다.   \n",
        "L은 첫 번째 자리를 뜻하는 숫자 0, 중간 short의 s는 12가 됨.   \n",
        "파이썬은 0부터 숫자를 세기에 문자열을 다음과 같이 바라본다.   \n",
        "a[0]:'L', a[1]:'i', a[2]:'f', a[3]:'e', a[4]:'', ....   \n",
        "- a[번호] : 문자열 내 특정한 값을 뽑아내는 역할 =>인덱싱"
      ],
      "metadata": {
        "id": "Po26S9efByin"
      }
    },
    {
      "cell_type": "code",
      "source": [
        "a=\"Life is too short, You need Python\"   \n",
        "a[3]"
      ],
      "metadata": {
        "colab": {
          "base_uri": "https://localhost:8080/",
          "height": 35
        },
        "id": "ce82FxluCkrH",
        "outputId": "aeee21c0-327b-4534-c963-45adff5e1498"
      },
      "execution_count": null,
      "outputs": [
        {
          "output_type": "execute_result",
          "data": {
            "application/vnd.google.colaboratory.intrinsic+json": {
              "type": "string"
            },
            "text/plain": [
              "'e'"
            ]
          },
          "metadata": {},
          "execution_count": 5
        }
      ]
    },
    {
      "cell_type": "markdown",
      "source": [
        "###문자열 인덱싱 활용하기\n",
        "문자열을 뒤에서부터 읽고 싶을 때는 마이너스(-) 기호를 붙이면 된다.   \n",
        "a[-1]은 뒤에서부터 세었을 때 첫 번쨰 문자를 뜻함"
      ],
      "metadata": {
        "id": "Dhjoa34VDHll"
      }
    },
    {
      "cell_type": "code",
      "source": [
        "a=\"Life is too short, You need Python\"\n",
        "print(a[0])\n",
        "print(a[12])\n",
        "print(a[-1])"
      ],
      "metadata": {
        "colab": {
          "base_uri": "https://localhost:8080/"
        },
        "id": "7youXo9BDMsw",
        "outputId": "98173fd1-b41a-49c5-e28e-628e6ed11696"
      },
      "execution_count": null,
      "outputs": [
        {
          "output_type": "stream",
          "name": "stdout",
          "text": [
            "L\n",
            "s\n",
            "n\n"
          ]
        }
      ]
    },
    {
      "cell_type": "markdown",
      "source": [
        "###문자열 슬라이싱이란?\n"
      ],
      "metadata": {
        "id": "m0As8CpfDrpZ"
      }
    },
    {
      "cell_type": "code",
      "source": [
        "a=\"Life is too short, You need Python\"\n",
        "b=a[0]+a[1]+a[2]+a[3]\n",
        "b"
      ],
      "metadata": {
        "colab": {
          "base_uri": "https://localhost:8080/",
          "height": 35
        },
        "id": "hZHjI-hWDyUR",
        "outputId": "572a7c50-109f-4983-cb4f-c7543beb07ef"
      },
      "execution_count": null,
      "outputs": [
        {
          "output_type": "execute_result",
          "data": {
            "application/vnd.google.colaboratory.intrinsic+json": {
              "type": "string"
            },
            "text/plain": [
              "'Life'"
            ]
          },
          "metadata": {},
          "execution_count": 8
        }
      ]
    },
    {
      "cell_type": "markdown",
      "source": [
        "단순하게 접근 가능하지만 훨씬 간결하게 작성 가능하다.   \n",
        "바로 '슬라이싱(Slicing) 기법 활용   \n",
        "a[시작 번호 : 끝 번호]  ❗ 이때 끝 번호는 포함되지 않는다.   \n",
        "a[0:3]을 수식으로 나타내면 0 <= a < 3 과 같다."
      ],
      "metadata": {
        "id": "m83X2yWvEFwV"
      }
    },
    {
      "cell_type": "code",
      "source": [
        "a=\"Life is too short, You need Python\"\n",
        "a[0:4]    #0부터 4까지의 문자를 뽑아내라."
      ],
      "metadata": {
        "colab": {
          "base_uri": "https://localhost:8080/",
          "height": 35
        },
        "id": "762xJeHEERhb",
        "outputId": "7710cc19-3fa3-480c-d5e8-a6af03b8be6e"
      },
      "execution_count": null,
      "outputs": [
        {
          "output_type": "execute_result",
          "data": {
            "application/vnd.google.colaboratory.intrinsic+json": {
              "type": "string"
            },
            "text/plain": [
              "'Life'"
            ]
          },
          "metadata": {},
          "execution_count": 13
        }
      ]
    },
    {
      "cell_type": "code",
      "source": [
        "a=\"Life is too short, You need Python\"\n",
        "print(a[19:])    #끝 번호 부분을 생략하면 시작 번호부터 그 문자열의 끝까지 뽑아냄\n",
        "print(a[:17])    #시작 번호를 생략하면 문자열의 처음부터 끝 번호까지 뽑아냄\n",
        "print(a[:])    #시작 번호, 끝 번호 모두 생략하면 문자열의 처음부터 끝까지 뽑아냄\n",
        "print(a[19:-7])    #19번째부터 -8번째까지를 말함"
      ],
      "metadata": {
        "colab": {
          "base_uri": "https://localhost:8080/"
        },
        "id": "WTrnAqaYFeuu",
        "outputId": "e4006b81-f41a-4941-e9bc-5d7ed8d64c9d"
      },
      "execution_count": null,
      "outputs": [
        {
          "output_type": "stream",
          "name": "stdout",
          "text": [
            "You need Python\n",
            "Life is too short\n",
            "Life is too short, You need Python\n",
            "You need\n"
          ]
        }
      ]
    },
    {
      "cell_type": "markdown",
      "source": [
        "###슬라이싱으로 문자열 나누기\n"
      ],
      "metadata": {
        "id": "W9gIAgXYF5WT"
      }
    },
    {
      "cell_type": "code",
      "source": [
        "a=\"20010331Rainy\"\n",
        "year = a[:4]\n",
        "day = a[4:8]\n",
        "weather = a[8:]\n",
        "print(year)\n",
        "print(day)\n",
        "weather"
      ],
      "metadata": {
        "colab": {
          "base_uri": "https://localhost:8080/",
          "height": 72
        },
        "id": "EoeDNphRHX5G",
        "outputId": "584cc0bc-4e62-4863-9ef9-e3f790b1082e"
      },
      "execution_count": null,
      "outputs": [
        {
          "output_type": "stream",
          "name": "stdout",
          "text": [
            "2001\n",
            "0331\n"
          ]
        },
        {
          "output_type": "execute_result",
          "data": {
            "application/vnd.google.colaboratory.intrinsic+json": {
              "type": "string"
            },
            "text/plain": [
              "'Rainy'"
            ]
          },
          "metadata": {},
          "execution_count": 18
        }
      ]
    },
    {
      "cell_type": "markdown",
      "source": [
        "###(번외)문자열 바꾸기"
      ],
      "metadata": {
        "id": "1ajcTmX1HzuJ"
      }
    },
    {
      "cell_type": "code",
      "source": [
        "#'Pithon'이라는 문자열을 'Python'으로 바꾸기\n",
        "a = \"Pithon\"\n",
        "a[1]='y'"
      ],
      "metadata": {
        "colab": {
          "base_uri": "https://localhost:8080/",
          "height": 211
        },
        "id": "LxD-5P7tHzPS",
        "outputId": "00e1cf4e-bca8-4c54-965a-879a67b5df1d"
      },
      "execution_count": null,
      "outputs": [
        {
          "output_type": "error",
          "ename": "TypeError",
          "evalue": "ignored",
          "traceback": [
            "\u001b[0;31m---------------------------------------------------------------------------\u001b[0m",
            "\u001b[0;31mTypeError\u001b[0m                                 Traceback (most recent call last)",
            "\u001b[0;32m<ipython-input-19-4bec2b3c82a0>\u001b[0m in \u001b[0;36m<module>\u001b[0;34m()\u001b[0m\n\u001b[1;32m      1\u001b[0m \u001b[0;31m#'Pithon'이라는 문자열을 'Python'으로 바꾸기\u001b[0m\u001b[0;34m\u001b[0m\u001b[0;34m\u001b[0m\u001b[0;34m\u001b[0m\u001b[0m\n\u001b[1;32m      2\u001b[0m \u001b[0ma\u001b[0m \u001b[0;34m=\u001b[0m \u001b[0;34m\"Pithon\"\u001b[0m\u001b[0;34m\u001b[0m\u001b[0;34m\u001b[0m\u001b[0m\n\u001b[0;32m----> 3\u001b[0;31m \u001b[0ma\u001b[0m\u001b[0;34m[\u001b[0m\u001b[0;36m1\u001b[0m\u001b[0;34m]\u001b[0m\u001b[0;34m=\u001b[0m\u001b[0;34m'y'\u001b[0m\u001b[0;34m\u001b[0m\u001b[0;34m\u001b[0m\u001b[0m\n\u001b[0m",
            "\u001b[0;31mTypeError\u001b[0m: 'str' object does not support item assignment"
          ]
        }
      ]
    },
    {
      "cell_type": "markdown",
      "source": [
        "단순하게 접근하면 될 것 같지만 에러남!   \n",
        "문자열의 요소값은 바꿀 수 있는 값이 아님   \n",
        "(문자열, 튜플 등의 자료형은 그 요소값을 변경할 수 없다.   \n",
        "따라서 immutable한 자료형이라고도 부른다.)   \n",
        "이때 슬라이싱과 추가를 사용해서 진행!"
      ],
      "metadata": {
        "id": "eH7MEMVxIJzU"
      }
    },
    {
      "cell_type": "code",
      "source": [
        "a = \"Pithon\"\n",
        "a[:1]+\"y\"+a[2:]"
      ],
      "metadata": {
        "colab": {
          "base_uri": "https://localhost:8080/",
          "height": 35
        },
        "id": "IOL5BlBkId6d",
        "outputId": "b0bc233f-3951-425f-8ed7-10efa3790965"
      },
      "execution_count": null,
      "outputs": [
        {
          "output_type": "execute_result",
          "data": {
            "application/vnd.google.colaboratory.intrinsic+json": {
              "type": "string"
            },
            "text/plain": [
              "'Python'"
            ]
          },
          "metadata": {},
          "execution_count": 20
        }
      ]
    },
    {
      "cell_type": "markdown",
      "source": [
        "##<문자열 포매팅>\n",
        "포매팅(Formatting) : 문자열 내 특정한 값을 바꿔주는 기법\n",
        "\n",
        "###문자열 포매팅 따라 하기\n",
        "1. 숫자 바로 대입   \n",
        "%d : 문자열 포맷 코드(숫자)"
      ],
      "metadata": {
        "id": "7C4kU99aI0Bq"
      }
    },
    {
      "cell_type": "code",
      "source": [
        "\"I eat %d apples.\" %3"
      ],
      "metadata": {
        "colab": {
          "base_uri": "https://localhost:8080/",
          "height": 35
        },
        "id": "c1p1yINWNYh5",
        "outputId": "f9cefd72-14be-4549-e984-ccc3837237e5"
      },
      "execution_count": null,
      "outputs": [
        {
          "output_type": "execute_result",
          "data": {
            "application/vnd.google.colaboratory.intrinsic+json": {
              "type": "string"
            },
            "text/plain": [
              "'I eat 3 apples.'"
            ]
          },
          "metadata": {},
          "execution_count": 21
        }
      ]
    },
    {
      "cell_type": "markdown",
      "source": [
        "2. 문자열 바로 대입   \n",
        "%s : 문자열 포맷 코드(문자열)   \n",
        "참고로 대입할 문자열에도 큰따옴표나 작은따옴표로 묶어주어야 함"
      ],
      "metadata": {
        "id": "CocUjxhrNsbS"
      }
    },
    {
      "cell_type": "code",
      "source": [
        "\"I eat %s apples.\" %\"five\""
      ],
      "metadata": {
        "colab": {
          "base_uri": "https://localhost:8080/",
          "height": 35
        },
        "id": "576WBFaRN1VU",
        "outputId": "9f4fcd25-6dba-43fa-ee9c-2b1b660724db"
      },
      "execution_count": null,
      "outputs": [
        {
          "output_type": "execute_result",
          "data": {
            "application/vnd.google.colaboratory.intrinsic+json": {
              "type": "string"
            },
            "text/plain": [
              "'I eat five apples.'"
            ]
          },
          "metadata": {},
          "execution_count": 23
        }
      ]
    },
    {
      "cell_type": "markdown",
      "source": [
        "3. 숫자 값을 나타내는 변수로 대입"
      ],
      "metadata": {
        "id": "b6pGaXGvOETr"
      }
    },
    {
      "cell_type": "code",
      "source": [
        "number = 3\n",
        "\"I eat %d apples.\" %number"
      ],
      "metadata": {
        "colab": {
          "base_uri": "https://localhost:8080/",
          "height": 35
        },
        "id": "IFxQGaS7OHOV",
        "outputId": "b393ece0-0e4d-4c40-e0a6-599d7bf3e5f3"
      },
      "execution_count": null,
      "outputs": [
        {
          "output_type": "execute_result",
          "data": {
            "application/vnd.google.colaboratory.intrinsic+json": {
              "type": "string"
            },
            "text/plain": [
              "'I eat 3 apples.'"
            ]
          },
          "metadata": {},
          "execution_count": 24
        }
      ]
    },
    {
      "cell_type": "code",
      "source": [
        ""
      ],
      "metadata": {
        "id": "tpoFdOurvk82"
      },
      "execution_count": null,
      "outputs": []
    },
    {
      "cell_type": "markdown",
      "source": [
        "4. 2개 이상의 값 넣기   \n",
        "콤마(,)로 구분하기!"
      ],
      "metadata": {
        "id": "5WxY7LvsOQti"
      }
    },
    {
      "cell_type": "code",
      "source": [
        "number = 3\n",
        "day = \"three\"\n",
        "\"I eat %d apples. so I was sick for %s days.\" %(number, day)"
      ],
      "metadata": {
        "colab": {
          "base_uri": "https://localhost:8080/",
          "height": 35
        },
        "id": "qO8DKLhpOcaG",
        "outputId": "66c1eff6-ebb2-4da5-9ce3-5c0d5bdab103"
      },
      "execution_count": null,
      "outputs": [
        {
          "output_type": "execute_result",
          "data": {
            "application/vnd.google.colaboratory.intrinsic+json": {
              "type": "string"
            },
            "text/plain": [
              "'I eat 3 apples. so I was sick for three days.'"
            ]
          },
          "metadata": {},
          "execution_count": 25
        }
      ]
    },
    {
      "cell_type": "markdown",
      "source": [
        "###문자열 포맷 코드\n",
        "%s : 문자열(String)   \n",
        "%c : 문자 1개(character)   \n",
        "%d : 정수(integer)   \n",
        "%f : 부동소수(floating-point)   \n",
        "%o : 8진수   \n",
        "%x : 16진수   \n",
        "%% : Literal %(문자 %자체)   \n",
        "\n",
        "3을 문자열 안에 삽입하려면 %d를 사용하고, 3.234를 삽입하려면 %f를 사용해야 한다. 하지만 %s를 사용하면 이런 것을 생각하지 않아도 된다. 왜냐하면 %s는 자동으로 % 뒤에 있는 값을 문자열로 바꾸기 때문이다.\n"
      ],
      "metadata": {
        "id": "L4eab2IdOs8Y"
      }
    }
  ]
}