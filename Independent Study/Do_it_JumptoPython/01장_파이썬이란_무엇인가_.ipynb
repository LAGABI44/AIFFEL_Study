{
  "nbformat": 4,
  "nbformat_minor": 0,
  "metadata": {
    "colab": {
      "name": "01장 파이썬이란 무엇인가?.ipynb",
      "provenance": []
    },
    "kernelspec": {
      "name": "python3",
      "display_name": "Python 3"
    },
    "language_info": {
      "name": "python"
    }
  },
  "cells": [
    {
      "cell_type": "markdown",
      "source": [
        "#01-5 파이썬 둘러보기   \n",
        "\n",
        "⭐문장 종류에 대해 명확하게 이해하고 인지하기⭐\n",
        "\n",
        "##조건문 if   \n"
      ],
      "metadata": {
        "id": "AxwLdlzznnxa"
      }
    },
    {
      "cell_type": "code",
      "execution_count": null,
      "metadata": {
        "colab": {
          "base_uri": "https://localhost:8080/"
        },
        "id": "f_i4dQ2yncIv",
        "outputId": "ede9d4d5-713a-4dc0-9bc7-e6de443e7764"
      },
      "outputs": [
        {
          "output_type": "stream",
          "name": "stdout",
          "text": [
            "a is greater than 1\n"
          ]
        }
      ],
      "source": [
        "a=3\n",
        "if a>1:\n",
        "    print(\"a is greater than 1\")"
      ]
    },
    {
      "cell_type": "markdown",
      "source": [
        "##반복문 for\n",
        "for문을 이용하면 실행해야 할 문장을 여러 번 반복 실행 가능   \n",
        "코드 의미 : [1,2,3]이라는 리스트의 앞에서부터 하나씩 꺼내어 a라는 변수에 대입한 후 print(a)를 수행하라   \n"
      ],
      "metadata": {
        "id": "o263fkI6oKzN"
      }
    },
    {
      "cell_type": "code",
      "source": [
        "for a in [1, 2, 3]:\n",
        "    print(a)"
      ],
      "metadata": {
        "colab": {
          "base_uri": "https://localhost:8080/"
        },
        "id": "kwx0GD2eoc5f",
        "outputId": "60f0e935-dd3a-4566-f08f-49fb09ca223e"
      },
      "execution_count": null,
      "outputs": [
        {
          "output_type": "stream",
          "name": "stdout",
          "text": [
            "1\n",
            "2\n",
            "3\n"
          ]
        }
      ]
    },
    {
      "cell_type": "markdown",
      "source": [
        "##반복문 while\n",
        "while은 ~인 동안의 뜻으로 for문과 유사하게 반복해서 문장을 수행할 수 있게 해줌\n",
        "코드 의미 : i값이 3보다 작은 동안 i=i+1과 print(i)를 수행하라   \n",
        "i=i+1이라는 문장은 i의 값을 1씩 더하게 함   \n",
        "i값이 3보다 커지게 되면 while 문을 빠져나가게 됨"
      ],
      "metadata": {
        "id": "3YhWG8P0og4n"
      }
    },
    {
      "cell_type": "code",
      "source": [
        "i=0\n",
        "while i<3:\n",
        "    i=i+1\n",
        "    print(i)"
      ],
      "metadata": {
        "colab": {
          "base_uri": "https://localhost:8080/"
        },
        "id": "7or7GkCto-dc",
        "outputId": "9faf3251-4502-4517-b8b8-dbfe78aacdf5"
      },
      "execution_count": null,
      "outputs": [
        {
          "output_type": "stream",
          "name": "stdout",
          "text": [
            "1\n",
            "2\n",
            "3\n"
          ]
        }
      ]
    },
    {
      "cell_type": "markdown",
      "source": [
        "##함수\n",
        "def는 함수를 만들 때 사용하는 예약어\n",
        "코드 의미 : sum이라는 함수를 만들고 사용법을 알려줌"
      ],
      "metadata": {
        "id": "M0vpE91tpG94"
      }
    },
    {
      "cell_type": "code",
      "source": [
        "def sum(a,b):\n",
        "    return a+b\n",
        "\n",
        "print(sum(3,4))"
      ],
      "metadata": {
        "colab": {
          "base_uri": "https://localhost:8080/"
        },
        "id": "ljyTAzlcpShm",
        "outputId": "23a17ac5-a7a2-4251-b316-b500536d6226"
      },
      "execution_count": null,
      "outputs": [
        {
          "output_type": "stream",
          "name": "stdout",
          "text": [
            "7\n"
          ]
        }
      ]
    }
  ]
}