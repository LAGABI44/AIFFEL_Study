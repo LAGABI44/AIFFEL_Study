{
  "nbformat": 4,
  "nbformat_minor": 0,
  "metadata": {
    "colab": {
      "name": "[E-09]Pneumonia_Diagnosis.ipynb",
      "provenance": [],
      "mount_file_id": "17JBZGcTyRR42wDBXl00VUoj4SKZlMY71",
      "authorship_tag": "ABX9TyMWV93i8V9jMmOuq+3nbSaL"
    },
    "kernelspec": {
      "name": "python3",
      "display_name": "Python 3"
    },
    "language_info": {
      "name": "python"
    }
  },
  "cells": [
    {
      "cell_type": "code",
      "execution_count": null,
      "metadata": {
        "id": "KdcMu8L4YS00"
      },
      "outputs": [],
      "source": [
        "! mkdir -p /content/aiffel/chest_xray\n",
        "! ln -s /content/aiffel/chest_xray"
      ]
    },
    {
      "cell_type": "markdown",
      "source": [
        "# Step 1. 실험환경 Set-up"
      ],
      "metadata": {
        "id": "pvVu8SbNhrGT"
      }
    },
    {
      "cell_type": "code",
      "source": [
        "import os, re\n",
        "import random, math\n",
        "import numpy as np\n",
        "import tensorflow as tf\n",
        "import matplotlib.pyplot as plt\n",
        "import warnings \n",
        "warnings.filterwarnings(action='ignore')"
      ],
      "metadata": {
        "id": "I-eQTCkwh-IA"
      },
      "execution_count": null,
      "outputs": []
    },
    {
      "cell_type": "code",
      "source": [
        "import os, re\n",
        "import random, math\n",
        "import numpy as np\n",
        "import tensorflow as tf\n",
        "import matplotlib.pyplot as plt\n",
        "import warnings \n",
        "warnings.filterwarnings(action='ignore')"
      ],
      "metadata": {
        "id": "XpVy1b3gh_Xj"
      },
      "execution_count": null,
      "outputs": []
    },
    {
      "cell_type": "markdown",
      "source": [
        "# Step 2. 데이터 준비하기"
      ],
      "metadata": {
        "id": "JIO6Xz1UhtBn"
      }
    },
    {
      "cell_type": "code",
      "source": [
        "# 각 데이터들의 개수 체크\n",
        "train_filenames = tf.io.gfile.glob(TRAIN_PATH)\n",
        "test_filenames = tf.io.gfile.glob(TEST_PATH)\n",
        "val_filenames = tf.io.gfile.glob(VAL_PATH)\n",
        "\n",
        "print(len(train_filenames))\n",
        "print(len(test_filenames))\n",
        "print(len(val_filenames))"
      ],
      "metadata": {
        "id": "qyN0U2zrhwbx"
      },
      "execution_count": 1,
      "outputs": []
    },
    {
      "cell_type": "code",
      "source": [
        "# train 데이터와 validation 데이터를 모두 filenames에 담습니다\n",
        "filenames = tf.io.gfile.glob(TRAIN_PATH)\n",
        "filenames.extend(tf.io.gfile.glob(VAL_PATH))\n",
        "\n",
        "# 모아진 filenames를 8:2로 나눕니다\n",
        "train_size = math.floor(len(filenames)*0.8)\n",
        "random.seed(8)\n",
        "random.shuffle(filenames)\n",
        "train_filenames = filenames[:train_size]\n",
        "val_filenames = filenames[train_size:]\n",
        "\n",
        "print(len(train_filenames))\n",
        "print(len(val_filenames))"
      ],
      "metadata": {
        "id": "L0FnCogfiB1L"
      },
      "execution_count": null,
      "outputs": []
    },
    {
      "cell_type": "code",
      "source": [
        "print(f'Normal image path\\n{filenames[0]}')\n",
        "print(f'Pneumonia image path\\n{filenames[2000]}')"
      ],
      "metadata": {
        "id": "kJMFzc07iDKk"
      },
      "execution_count": null,
      "outputs": []
    },
    {
      "cell_type": "code",
      "source": [
        "COUNT_NORMAL = len([filename for filename in train_filenames if \"NORMAL\" in filename])\n",
        "print(f\"Normal images count in training set: {COUNT_NORMAL}\")\n",
        "\n",
        "\n",
        "COUNT_PNEUMONIA = len([filename for filename in train_filenames if \"PNEUMONIA\" in filename])\n",
        "print(f\"Pneumonia images count in training set: {COUNT_PNEUMONIA}\")"
      ],
      "metadata": {
        "id": "FSqYClWciESk"
      },
      "execution_count": null,
      "outputs": []
    },
    {
      "cell_type": "markdown",
      "source": [
        "tf.data 인스턴스를 만들기   \n",
        "\n",
        "tf.data는 tensorflow에서 학습시킬 때, mini-batch로 작업할 수 있도록 해 줌"
      ],
      "metadata": {
        "id": "_VFqxt5TiNda"
      }
    },
    {
      "cell_type": "code",
      "source": [
        "train_list_ds = tf.data.Dataset.from_tensor_slices(train_filenames)\n",
        "val_list_ds = tf.data.Dataset.from_tensor_slices(val_filenames)"
      ],
      "metadata": {
        "id": "135zw6-4iLg1"
      },
      "execution_count": null,
      "outputs": []
    },
    {
      "cell_type": "code",
      "source": [
        "TRAIN_IMG_COUNT = tf.data.experimental.cardinality(train_list_ds).numpy()\n",
        "print(f\"Training images count: {TRAIN_IMG_COUNT}\")\n",
        "\n",
        "VAL_IMG_COUNT = tf.data.experimental.cardinality(val_list_ds).numpy()\n",
        "print(f\"Validating images count: {VAL_IMG_COUNT}\")"
      ],
      "metadata": {
        "id": "W4WbBIU6iSyA"
      },
      "execution_count": null,
      "outputs": []
    },
    {
      "cell_type": "markdown",
      "source": [
        "라벨 데이터 만들어주기"
      ],
      "metadata": {
        "id": "yZ0mlKv3iVWC"
      }
    },
    {
      "cell_type": "code",
      "source": [
        "TRAIN_IMG_COUNT = tf.data.experimental.cardinality(train_list_ds).numpy()\n",
        "print(f\"Training images count: {TRAIN_IMG_COUNT}\")\n",
        "\n",
        "VAL_IMG_COUNT = tf.data.experimental.cardinality(val_list_ds).numpy()\n",
        "print(f\"Validating images count: {VAL_IMG_COUNT}\")"
      ],
      "metadata": {
        "id": "FUzry3GeiW7j"
      },
      "execution_count": null,
      "outputs": []
    },
    {
      "cell_type": "code",
      "source": [
        "# 이미지를 알맞은 형식으로 바꿉니다.\n",
        "def decode_img(img):\n",
        "    img = tf.image.decode_jpeg(img, channels=3) # 이미지를 uint8 tensor로 수정\n",
        "    img = tf.image.convert_image_dtype(img, tf.float32) # float32 타입으로 수정\n",
        "    img = tf.image.resize(img, IMAGE_SIZE) # 이미지 사이즈를 IMAGE_SIZE로 수정\n",
        "    return img\n",
        "\n",
        "# 이미지 파일의 경로를 입력하면 이미지와 라벨을 읽어옵니다.\n",
        "def process_path(file_path):\n",
        "    label = get_label(file_path) # 라벨 검출\n",
        "    img = tf.io.read_file(file_path) # 이미지 읽기\n",
        "    img = decode_img(img) # 이미지를 알맞은 형식으로 수정\n",
        "    return img, label"
      ],
      "metadata": {
        "id": "9bXK_2fIiYkj"
      },
      "execution_count": null,
      "outputs": []
    },
    {
      "cell_type": "code",
      "source": [
        "train_ds = train_list_ds.map(process_path, num_parallel_calls=AUTOTUNE)\n",
        "val_ds = val_list_ds.map(process_path, num_parallel_calls=AUTOTUNE)"
      ],
      "metadata": {
        "id": "NzRtUKz-iZ4t"
      },
      "execution_count": null,
      "outputs": []
    },
    {
      "cell_type": "code",
      "source": [
        "#이미지 확인\n",
        "for image, label in train_ds.take(1):\n",
        "    print(\"Image shape: \", image.numpy().shape)\n",
        "    print(\"Label: \", label.numpy())"
      ],
      "metadata": {
        "id": "TGwM4OEhidSZ"
      },
      "execution_count": null,
      "outputs": []
    },
    {
      "cell_type": "markdown",
      "source": [
        "test 데이터셋 만들기"
      ],
      "metadata": {
        "id": "NO4XKm-gifU5"
      }
    },
    {
      "cell_type": "code",
      "source": [
        "test_list_ds = tf.data.Dataset.list_files(TEST_PATH)\n",
        "TEST_IMAGE_COUNT = tf.data.experimental.cardinality(test_list_ds).numpy()\n",
        "test_ds = test_list_ds.map(process_path, num_parallel_calls=AUTOTUNE)\n",
        "test_ds = test_ds.batch(BATCH_SIZE)\n",
        "\n",
        "print(TEST_IMAGE_COUNT)"
      ],
      "metadata": {
        "id": "MK7gtsdeigi_"
      },
      "execution_count": null,
      "outputs": []
    },
    {
      "cell_type": "code",
      "source": [
        "def prepare_for_training(ds, shuffle_buffer_size=1000):\n",
        "    ds = ds.shuffle(buffer_size=shuffle_buffer_size)\n",
        "    ds = ds.repeat()\n",
        "    ds = ds.batch(BATCH_SIZE)\n",
        "    ds = ds.prefetch(buffer_size=AUTOTUNE)\n",
        "    return ds\n",
        "\n",
        "train_ds = prepare_for_training(train_ds)\n",
        "val_ds = prepare_for_training(val_ds)"
      ],
      "metadata": {
        "id": "msjbbEmQijAy"
      },
      "execution_count": null,
      "outputs": []
    },
    {
      "cell_type": "markdown",
      "source": [
        "# Step 3. 데이터 시각화"
      ],
      "metadata": {
        "id": "yKfnuGKihx79"
      }
    },
    {
      "cell_type": "code",
      "source": [
        "# 이미지 배치를 입력하면 여러장의 이미지를 보여줍니다.\n",
        "def show_batch(image_batch, label_batch):\n",
        "    plt.figure(figsize=(10,10))\n",
        "    for n in range(BATCH_SIZE):\n",
        "        ax = plt.subplot(4,math.ceil(BATCH_SIZE/4),n+1)\n",
        "        plt.imshow(image_batch[n])\n",
        "        if label_batch[n]:\n",
        "            plt.title(\"PNEUMONIA\")\n",
        "        else:\n",
        "            plt.title(\"NORMAL\")\n",
        "        plt.axis(\"off\")\n",
        "\n",
        "\n",
        "image_batch, label_batch = next(iter(train_ds))\n",
        "show_batch(image_batch.numpy(), label_batch.numpy())"
      ],
      "metadata": {
        "id": "mVuXwAw-hxAT"
      },
      "execution_count": null,
      "outputs": []
    },
    {
      "cell_type": "markdown",
      "source": [
        "# Step 4. CNN 모델링\n",
        "## Convolution block 만들기"
      ],
      "metadata": {
        "id": "1OXuGEiLh1dm"
      }
    },
    {
      "cell_type": "code",
      "source": [
        "def conv_block(filters):\n",
        "    block = tf.keras.Sequential([\n",
        "        tf.keras.layers.SeparableConv2D(filters, 3, activation='relu', padding='same'),\n",
        "        tf.keras.layers.SeparableConv2D(filters, 3, activation='relu', padding='same'),\n",
        "        tf.keras.layers.BatchNormalization(),\n",
        "        tf.keras.layers.MaxPool2D()\n",
        "    ])\n",
        "    \n",
        "    return block"
      ],
      "metadata": {
        "id": "_pEhKvk_iqkk"
      },
      "execution_count": null,
      "outputs": []
    },
    {
      "cell_type": "markdown",
      "source": [
        "## Dense Block 만들기"
      ],
      "metadata": {
        "id": "P2_uYXKSisE3"
      }
    },
    {
      "cell_type": "code",
      "source": [
        "def dense_block(units, dropout_rate):\n",
        "    block = tf.keras.Sequential([\n",
        "        tf.keras.layers.Dense(units, activation='relu'),\n",
        "        tf.keras.layers.BatchNormalization(),\n",
        "        tf.keras.layers.Dropout(dropout_rate)\n",
        "    ])\n",
        "    \n",
        "    return block"
      ],
      "metadata": {
        "id": "Ga6wdJa5itMf"
      },
      "execution_count": null,
      "outputs": []
    },
    {
      "cell_type": "markdown",
      "source": [
        "## 빌드업"
      ],
      "metadata": {
        "id": "ULJ8kYeIiusW"
      }
    },
    {
      "cell_type": "code",
      "source": [
        "def build_model():\n",
        "    model = tf.keras.Sequential([\n",
        "        tf.keras.Input(shape=(IMAGE_SIZE[0], IMAGE_SIZE[1], 3)),\n",
        "        \n",
        "        tf.keras.layers.Conv2D(16, 3, activation='relu', padding='same'),\n",
        "        tf.keras.layers.Conv2D(16, 3, activation='relu', padding='same'),\n",
        "        tf.keras.layers.MaxPool2D(),\n",
        "        \n",
        "        conv_block(32),\n",
        "        conv_block(64),\n",
        "        \n",
        "        conv_block(128),\n",
        "        tf.keras.layers.Dropout(0.2),\n",
        "        \n",
        "        conv_block(256),\n",
        "        tf.keras.layers.Dropout(0.2),\n",
        "        \n",
        "        tf.keras.layers.Flatten(),\n",
        "        dense_block(512, 0.7),\n",
        "        dense_block(128, 0.5),\n",
        "        dense_block(64, 0.3),\n",
        "        \n",
        "        tf.keras.layers.Dense(1, activation='sigmoid')\n",
        "    ])\n",
        "    \n",
        "    return model"
      ],
      "metadata": {
        "id": "xH1mKSXeixP5"
      },
      "execution_count": null,
      "outputs": []
    },
    {
      "cell_type": "markdown",
      "source": [
        "# Step 5. 데이터 imbalance 처리"
      ],
      "metadata": {
        "id": "xtg5ph1qh33A"
      }
    },
    {
      "cell_type": "code",
      "source": [
        "weight_for_0 = (1 / COUNT_NORMAL)*(TRAIN_IMG_COUNT)/2.0 \n",
        "weight_for_1 = (1 / COUNT_PNEUMONIA)*(TRAIN_IMG_COUNT)/2.0\n",
        "\n",
        "class_weight = {0: weight_for_0, 1: weight_for_1}\n",
        "\n",
        "print('Weight for NORMAL: {:.2f}'.format(weight_for_0))\n",
        "print('Weight for PNEUMONIA: {:.2f}'.format(weight_for_1))"
      ],
      "metadata": {
        "id": "fpj7Ul1yizjJ"
      },
      "execution_count": null,
      "outputs": []
    },
    {
      "cell_type": "markdown",
      "source": [
        "# Step 6. 모델 훈련"
      ],
      "metadata": {
        "id": "cJLKwT7Ih44P"
      }
    },
    {
      "cell_type": "code",
      "source": [
        "with tf.device('/GPU:0'):\n",
        "    model = build_model()\n",
        "\n",
        "    METRICS = [\n",
        "        'accuracy',\n",
        "        tf.keras.metrics.Precision(name='precision'),\n",
        "        tf.keras.metrics.Recall(name='recall')\n",
        "    ]\n",
        "    \n",
        "    model.compile(\n",
        "        optimizer='adam',\n",
        "        loss='binary_crossentropy',\n",
        "        metrics=METRICS\n",
        "    )"
      ],
      "metadata": {
        "id": "uAV-fysMi2OS"
      },
      "execution_count": null,
      "outputs": []
    },
    {
      "cell_type": "code",
      "source": [
        "with tf.device('/GPU:0'):\n",
        "    history = model.fit(\n",
        "        train_ds,\n",
        "        steps_per_epoch=TRAIN_IMG_COUNT // BATCH_SIZE,\n",
        "        epochs=EPOCHS,\n",
        "        validation_data=val_ds,\n",
        "        validation_steps=VAL_IMG_COUNT // BATCH_SIZE,\n",
        "        class_weight=class_weight,\n",
        "    )"
      ],
      "metadata": {
        "id": "DYTSvULgi5Od"
      },
      "execution_count": null,
      "outputs": []
    },
    {
      "cell_type": "markdown",
      "source": [
        "# Step 7. 결과 확인과 시각화"
      ],
      "metadata": {
        "id": "mPmD4CJBh6Il"
      }
    },
    {
      "cell_type": "code",
      "source": [
        "fig, ax = plt.subplots(1, 4, figsize=(20, 3))\n",
        "ax = ax.ravel()\n",
        "\n",
        "for i, met in enumerate(['precision', 'recall', 'accuracy', 'loss']):\n",
        "    ax[i].plot(history.history[met])\n",
        "    ax[i].plot(history.history['val_' + met])\n",
        "    ax[i].set_title('Model {}'.format(met))\n",
        "    ax[i].set_xlabel('epochs')\n",
        "    ax[i].set_ylabel(met)\n",
        "    ax[i].legend(['train', 'val'])"
      ],
      "metadata": {
        "id": "-OaH8ymXi7Sz"
      },
      "execution_count": null,
      "outputs": []
    },
    {
      "cell_type": "markdown",
      "source": [
        "테스트 데이터로 모델 평가를 해보겠습니다.   \n",
        "\n",
        "모델 평가를 위해 loss, accuracy, precision, recall 값을 출력해보겠습니다."
      ],
      "metadata": {
        "id": "2Eg0Gytwi9WM"
      }
    },
    {
      "cell_type": "code",
      "source": [
        "loss, accuracy, precision, recall = model.evaluate(test_ds)\n",
        "print(f'Loss: {loss},\\nAccuracy: {accuracy},\\nPrecision: {precision},\\nRecall: {recall}'"
      ],
      "metadata": {
        "id": "WqZiEKjMjCwW"
      },
      "execution_count": null,
      "outputs": []
    }
  ]
}