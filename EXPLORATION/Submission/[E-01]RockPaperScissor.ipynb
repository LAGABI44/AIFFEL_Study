{
  "nbformat": 4,
  "nbformat_minor": 0,
  "metadata": {
    "colab": {
      "name": "[E-01]RockPaperScissor.ipynb",
      "provenance": [],
      "authorship_tag": "ABX9TyOYp9S++ecDct6S0vOeWxmI"
    },
    "kernelspec": {
      "name": "python3",
      "display_name": "Python 3"
    },
    "language_info": {
      "name": "python"
    }
  },
  "cells": [
    {
      "cell_type": "markdown",
      "source": [
        "# EXPLORATION 01. 인공지능과 가위바위보 하기"
      ],
      "metadata": {
        "id": "1DXHQZf77b49"
      }
    },
    {
      "cell_type": "markdown",
      "source": [
        "### **1. 폴더 생성 및 압축 풀기**"
      ],
      "metadata": {
        "id": "c4JhZYHL3mwd"
      }
    },
    {
      "cell_type": "code",
      "execution_count": 2,
      "metadata": {
        "colab": {
          "base_uri": "https://localhost:8080/"
        },
        "id": "sA5wtT3mPwUJ",
        "outputId": "7ebcf3ea-fbdd-43de-ca1d-e4403ef87fdf"
      },
      "outputs": [
        {
          "output_type": "stream",
          "name": "stdout",
          "text": [
            "total 12\n",
            "drwxr-xr-x 2 root root 4096 Jan 11 08:24 paper\n",
            "drwxr-xr-x 2 root root 4096 Jan 11 08:24 rock\n",
            "drwxr-xr-x 2 root root 4096 Jan 11 08:24 scissor\n"
          ]
        }
      ],
      "source": [
        "# 폴더 생성하기\n",
        "\n",
        "! mkdir rock_scissor_paper\n",
        "! mkdir rock_scissor_paper/scissor\n",
        "! mkdir rock_scissor_paper/rock\n",
        "! mkdir rock_scissor_paper/paper\n",
        "\n",
        "! ls -l rock_scissor_paper/"
      ]
    },
    {
      "cell_type": "code",
      "source": [
        "# .zip 파일 압축 풀기\n",
        "\n",
        "!unzip -uq \"/content/rock_scissor_paper/paper/paper.zip\" -d \"/content/rock_scissor_paper/paper\"\n",
        "!unzip -uq \"/content/rock_scissor_paper/rock/rock.zip\" -d \"/content/rock_scissor_paper/rock\"\n",
        "!unzip -uq \"/content/rock_scissor_paper/scissor/scissor.zip\" -d \"/content/rock_scissor_paper/scissor\"\n",
        "\n",
        "# l압축 해제 명령어 : unzip <파일명>.zip"
      ],
      "metadata": {
        "id": "upl9rqMSPxBF"
      },
      "execution_count": 17,
      "outputs": []
    },
    {
      "cell_type": "markdown",
      "source": [
        "### **2. 데이터 준비하기**"
      ],
      "metadata": {
        "id": "qqdHF9ZYJ2kJ"
      }
    },
    {
      "cell_type": "code",
      "source": [
        "#시작 전 import 하기\n",
        "\n",
        "import tensorflow as tf\n",
        "from tensorflow import keras\n",
        "import numpy as np\n",
        "import matplotlib.pyplot as plt\n"
      ],
      "metadata": {
        "id": "Q4opd_OMTKf9"
      },
      "execution_count": 58,
      "outputs": []
    },
    {
      "cell_type": "code",
      "source": [
        "# 가위 사진 리사이즈하기\n",
        "from PIL import Image\n",
        "import glob\n",
        "\n",
        "# 가위 이미지가 저장된 디렉토리 아래의 모든 jpg 파일을 읽어들이기\n",
        "image_dir_path = '/content/rock_scissor_paper/scissor'\n",
        "resize_images(image_dir_path)\n",
        "\n",
        "def resize_images(img_path):\n",
        "\timages=glob.glob(img_path + \"/*.jpg\")  \n",
        "    \n",
        "\tprint(len(images), \" images to be resized.\")\n",
        "\n",
        "# 모든 파일 28x28 사이즈로 바꾸어 저장\n",
        "\ttarget_size=(28,28)\n",
        "\tfor img in images:\n",
        "\t\told_img=Image.open(img)\n",
        "\t\tnew_img=old_img.resize(target_size,Image.ANTIALIAS)\n",
        "\t\tnew_img.save(img, \"JPEG\")\n",
        "    \n",
        "\tprint(len(images), \" images resized.\")    #개수도 표시하기\n",
        "\n",
        "print(\"가위 이미지 resize 완료!\")"
      ],
      "metadata": {
        "colab": {
          "base_uri": "https://localhost:8080/"
        },
        "id": "Rx7dGMPMTRW2",
        "outputId": "443b2bef-af71-40a4-f140-55cf674be5ee"
      },
      "execution_count": 59,
      "outputs": [
        {
          "output_type": "stream",
          "name": "stdout",
          "text": [
            "181  images to be resized.\n",
            "181  images resized.\n",
            "가위 이미지 resize 완료!\n"
          ]
        }
      ]
    },
    {
      "cell_type": "code",
      "source": [
        "# 바위 사진 리사이즈하기\n",
        "\n",
        "# 바위 이미지가 저장된 디렉토리 아래의 모든 jpg 파일을 읽어들이기\n",
        "image_dir_path = '/content/rock_scissor_paper/rock'\n",
        "resize_images(image_dir_path)\n",
        "\n",
        "def resize_image(image_path):\n",
        "    images=glob.glob(img_path + \"/*.jpg\")\n",
        "    print(len(images), \" images to be resized.\")\n",
        "\n",
        "# 모든 파일 28x28 사이즈로 바꾸어 저장\n",
        "    target_size(28, 28)\n",
        "    for img in image:\n",
        "        old_img=Image.open(img)\n",
        "        new_img=old_img.resize(target_size,Image.ANTIALIAS)\n",
        "        new_img.save(img, \"JPEG\")\n",
        "    print(len(images), \" images resized.\")    #개수도 표시하기\n",
        "    \n",
        "print(\"바위 이미지 resize 완료!\")"
      ],
      "metadata": {
        "colab": {
          "base_uri": "https://localhost:8080/"
        },
        "id": "YcOA4BTkZQPg",
        "outputId": "b3e8dfa1-89b8-4c1d-ed40-f3301f37f18d"
      },
      "execution_count": 60,
      "outputs": [
        {
          "output_type": "stream",
          "name": "stdout",
          "text": [
            "154  images to be resized.\n",
            "154  images resized.\n",
            "바위 이미지 resize 완료!\n"
          ]
        }
      ]
    },
    {
      "cell_type": "code",
      "source": [
        "# 보자기 사진 리사이즈하기\n",
        "\n",
        "# 보자기 이미지가 저장된 디렉토리 아래의 모든 jpg 파일을 읽어들이기\n",
        "image_dir_path = '/content/rock_scissor_paper/paper'\n",
        "resize_images(image_dir_path)\n",
        "\n",
        "def resize_image(image_path):\n",
        "    images=glob.glob(img_path + \"/*.jpg\")\n",
        "    print(len(images), \" images to be resized.\")\n",
        "    \n",
        "# 모든 파일 28x28 사이즈로 바꾸어 저장\n",
        "    target_size(28, 28)\n",
        "    for img in image:\n",
        "        old_img=Image.open(img)\n",
        "        new_img=old_img.resize(target_size,Image.ANTIALIAS)\n",
        "        new_img.save(img, \"JPEG\")\n",
        "    print(len(images), \" images resized.\")    #개수도 표시하기\n",
        "    \n",
        "print(\"보 이미지 resize 완료!\")"
      ],
      "metadata": {
        "colab": {
          "base_uri": "https://localhost:8080/"
        },
        "id": "vODwWnF9ZkYI",
        "outputId": "540c97f4-1bef-4825-f64f-7fb68ed63a23"
      },
      "execution_count": 61,
      "outputs": [
        {
          "output_type": "stream",
          "name": "stdout",
          "text": [
            "180  images to be resized.\n",
            "180  images resized.\n",
            "보 이미지 resize 완료!\n"
          ]
        }
      ]
    },
    {
      "cell_type": "code",
      "source": [
        "# 학습 시키기\n",
        "# 가위는 0, 바위는 1, 보는 2로 정답지를 낼 수 있게 설정할 것이다.\n",
        "import numpy as np\n",
        "\n",
        "def load_data(img_path, number_of_data=515):  #직접 촬영한 가위바위보 사진들의 총개수는 515장이다.\n",
        "    img_size=28\n",
        "    color=3    #흑백은 1, 컬러는 3\n",
        "    #이미지 데이터와 라벨(가위 : 0, 바위 : 1, 보 : 2) 데이터를 담을 행렬(matrix) 영역을 생성합니다.\n",
        "    imgs=np.zeros(number_of_data*img_size*img_size*color,dtype=np.int32).reshape(number_of_data,img_size,img_size,color)\n",
        "    labels=np.zeros(number_of_data,dtype=np.int32)\n",
        "\n",
        "    idx=0\n",
        "    for file in glob.iglob(img_path+'/scissor/*.jpg'):\n",
        "        img = np.array(Image.open(file),dtype=np.int32)\n",
        "        imgs[idx,:,:,:]=img    # 데이터 영역에 이미지 행렬을 복사\n",
        "        labels[idx]=0   # 가위 : 0\n",
        "        idx=idx+1\n",
        "\n",
        "    for file in glob.iglob(img_path+'/rock/*.jpg'):\n",
        "        img = np.array(Image.open(file),dtype=np.int32)\n",
        "        imgs[idx,:,:,:]=img    # 데이터 영역에 이미지 행렬을 복사\n",
        "        labels[idx]=1   # 바위 : 1\n",
        "        idx=idx+1  \n",
        "    \n",
        "    for file in glob.iglob(img_path+'/paper/*.jpg'):\n",
        "        img = np.array(Image.open(file),dtype=np.int32)\n",
        "        imgs[idx,:,:,:]=img    # 데이터 영역에 이미지 행렬을 복사\n",
        "        labels[idx]=2   # 보 : 2\n",
        "        idx=idx+1\n",
        "        \n",
        "    print(\"학습데이터(x_train)의 이미지 개수는\", idx,\"입니다.\")\n",
        "    return imgs, labels\n",
        "\n",
        "image_dir_path = '/content/rock_scissor_paper'\n",
        "(x_train, y_train)=load_data(image_dir_path)\n",
        "x_train_norm = x_train/300.0   # 입력은 0~1 사이의 값으로 정규화\n",
        "\n",
        "print(\"x_train shape: {}\".format(x_train.shape))\n",
        "print(\"y_train shape: {}\".format(y_train.shape))"
      ],
      "metadata": {
        "colab": {
          "base_uri": "https://localhost:8080/"
        },
        "id": "8O5GzgsFZ3fg",
        "outputId": "ad20ea3e-14a6-4b79-cd5a-bf722f900092"
      },
      "execution_count": 67,
      "outputs": [
        {
          "output_type": "stream",
          "name": "stdout",
          "text": [
            "학습데이터(x_train)의 이미지 개수는 515 입니다.\n",
            "x_train shape: (515, 28, 28, 3)\n",
            "y_train shape: (515,)\n"
          ]
        }
      ]
    },
    {
      "cell_type": "markdown",
      "source": [
        "`load_data()` 함수는 입력으로 이미지가 있는 폴더 위치를 받음.\n",
        "이때 3개의 클래스가 가위: 0, 바위: 1, 보: 2 로 라벨링 됨."
      ],
      "metadata": {
        "id": "JsBdcSNpYJiL"
      }
    },
    {
      "cell_type": "code",
      "source": [
        "#이미지 불러와서 확인하기\n",
        "plt.imshow(x_train[0])    #문제지\n",
        "print('라벨: ', y_train[0])    #정답지, 정답을 보면 가위가 0에 잘 매치되어있음을 볼 수 있다."
      ],
      "metadata": {
        "colab": {
          "base_uri": "https://localhost:8080/",
          "height": 283
        },
        "id": "wNiZ4KydaGgw",
        "outputId": "4bf6ecdb-b608-4bd9-80ab-15c2204f950f"
      },
      "execution_count": 68,
      "outputs": [
        {
          "output_type": "stream",
          "name": "stdout",
          "text": [
            "라벨:  0\n"
          ]
        },
        {
          "output_type": "display_data",
          "data": {
            "image/png": "[encoded data removed]",
            "text/plain": [
              "<Figure size 432x288 with 1 Axes>"
            ]
          },
          "metadata": {
            "needs_background": "light"
          }
        }
      ]
    },
    {
      "cell_type": "markdown",
      "source": [
        "### **3. 딥러닝 네트워크 설계하기**"
      ],
      "metadata": {
        "id": "XcTiDZ4hYooq"
      }
    },
    {
      "cell_type": "code",
      "source": [
        "import tensorflow as tf\n",
        "from tensorflow import keras\n",
        "import numpy as np\n",
        "import random \n",
        "\n",
        "n_channel_1=25    #얼마나 다양한 이미지의 특징을 살펴볼 것인지에 대해 설정 해주는 것\n",
        "n_channel_2=40    ##얼마나 다양한 이미지의 특징을 살펴볼 것인지에 대해 설정 해주는 것\n",
        "n_dense=32    #알고리즘의 복잡도를 나타낸다. 숫자가 높을수록 복잡도 up\n",
        "n_train_epoch=10\n",
        "\n",
        "model=keras.models.Sequential()\n",
        "model.add(keras.layers.Conv2D(n_channel_1, (3,3), activation='relu', input_shape=(28,28,3)))    #컬러 사진이므로 3을 넣어준다.\n",
        "model.add(keras.layers.MaxPool2D(2,2))\n",
        "model.add(keras.layers.Conv2D(n_channel_2, (3,3), activation='relu'))\n",
        "model.add(keras.layers.MaxPooling2D((2,2)))\n",
        "model.add(keras.layers.Flatten())\n",
        "model.add(keras.layers.Dense(n_dense, activation='relu'))\n",
        "model.add(keras.layers.Dense(10, activation='softmax'))\n",
        "\n",
        "model.summary()\n",
        "model.compile(optimizer='adam',\n",
        "             loss='sparse_categorical_crossentropy',\n",
        "             metrics=['accuracy'])"
      ],
      "metadata": {
        "colab": {
          "base_uri": "https://localhost:8080/"
        },
        "id": "UB_ufng8aL4S",
        "outputId": "08b4e6ea-6180-463c-be56-e483909fa8f9"
      },
      "execution_count": 69,
      "outputs": [
        {
          "output_type": "stream",
          "name": "stdout",
          "text": [
            "Model: \"sequential_6\"\n",
            "_________________________________________________________________\n",
            " Layer (type)                Output Shape              Param #   \n",
            "=================================================================\n",
            " conv2d_12 (Conv2D)          (None, 26, 26, 25)        700       \n",
            "                                                                 \n",
            " max_pooling2d_12 (MaxPoolin  (None, 13, 13, 25)       0         \n",
            " g2D)                                                            \n",
            "                                                                 \n",
            " conv2d_13 (Conv2D)          (None, 11, 11, 40)        9040      \n",
            "                                                                 \n",
            " max_pooling2d_13 (MaxPoolin  (None, 5, 5, 40)         0         \n",
            " g2D)                                                            \n",
            "                                                                 \n",
            " flatten_6 (Flatten)         (None, 1000)              0         \n",
            "                                                                 \n",
            " dense_12 (Dense)            (None, 32)                32032     \n",
            "                                                                 \n",
            " dense_13 (Dense)            (None, 10)                330       \n",
            "                                                                 \n",
            "=================================================================\n",
            "Total params: 42,102\n",
            "Trainable params: 42,102\n",
            "Non-trainable params: 0\n",
            "_________________________________________________________________\n"
          ]
        }
      ]
    },
    {
      "cell_type": "markdown",
      "source": [
        "### **4. 딥러닝 네크워크 학습시키기**"
      ],
      "metadata": {
        "id": "WTTHPdgxaC22"
      }
    },
    {
      "cell_type": "code",
      "source": [
        "print(\"Before Reshape - x_train_norm shape: {}\".format(x_train_norm.shape))\n",
        "\n",
        "\n",
        "x_train_reshaped=x_train_norm.reshape(-1, 28, 28, 3)  # 데이터갯수에 -1을 쓰면 reshape시 자동 계산 됨.\n",
        "\n",
        "\n",
        "print(\"After Reshape - x_train_reshaped shape: {}\".format(x_train_reshaped.shape))"
      ],
      "metadata": {
        "colab": {
          "base_uri": "https://localhost:8080/"
        },
        "id": "HvrnF1mna93K",
        "outputId": "92a54e62-0db4-408c-9d09-9e33567fcf77"
      },
      "execution_count": 70,
      "outputs": [
        {
          "output_type": "stream",
          "name": "stdout",
          "text": [
            "Before Reshape - x_train_norm shape: (515, 28, 28, 3)\n",
            "After Reshape - x_train_reshaped shape: (515, 28, 28, 3)\n"
          ]
        }
      ]
    },
    {
      "cell_type": "code",
      "source": [
        "#x_train으로 학습시키기\n",
        "model.compile(optimizer='adam',\n",
        "             loss='sparse_categorical_crossentropy',\n",
        "             metrics=['accuracy'])\n",
        "\n",
        "model.fit(x_train_reshaped, y_train, epochs=10)"
      ],
      "metadata": {
        "colab": {
          "base_uri": "https://localhost:8080/"
        },
        "id": "OFEbfFiwa1uY",
        "outputId": "de75730d-02db-42ab-def4-68f29db1b5e3"
      },
      "execution_count": 71,
      "outputs": [
        {
          "output_type": "stream",
          "name": "stdout",
          "text": [
            "Epoch 1/10\n",
            "17/17 [==============================] - 1s 26ms/step - loss: 1.7613 - accuracy: 0.2951\n",
            "Epoch 2/10\n",
            "17/17 [==============================] - 0s 25ms/step - loss: 0.6746 - accuracy: 0.8583\n",
            "Epoch 3/10\n",
            "17/17 [==============================] - 0s 26ms/step - loss: 0.2582 - accuracy: 0.9262\n",
            "Epoch 4/10\n",
            "17/17 [==============================] - 0s 25ms/step - loss: 0.1810 - accuracy: 0.9340\n",
            "Epoch 5/10\n",
            "17/17 [==============================] - 0s 25ms/step - loss: 0.0678 - accuracy: 0.9864\n",
            "Epoch 6/10\n",
            "17/17 [==============================] - 0s 26ms/step - loss: 0.0685 - accuracy: 0.9845\n",
            "Epoch 7/10\n",
            "17/17 [==============================] - 0s 24ms/step - loss: 0.0298 - accuracy: 0.9942\n",
            "Epoch 8/10\n",
            "17/17 [==============================] - 0s 25ms/step - loss: 0.0198 - accuracy: 0.9981\n",
            "Epoch 9/10\n",
            "17/17 [==============================] - 0s 24ms/step - loss: 0.0114 - accuracy: 1.0000\n",
            "Epoch 10/10\n",
            "17/17 [==============================] - 0s 25ms/step - loss: 0.0087 - accuracy: 0.9981\n"
          ]
        },
        {
          "output_type": "execute_result",
          "data": {
            "text/plain": [
              "<keras.callbacks.History at 0x7f53683e8990>"
            ]
          },
          "metadata": {},
          "execution_count": 71
        }
      ]
    },
    {
      "cell_type": "markdown",
      "source": [
        "### **5. 얼마나 잘 만들었는지 확인하기!**"
      ],
      "metadata": {
        "id": "sa2eA3j-arLY"
      }
    },
    {
      "cell_type": "code",
      "source": [
        "#테스트 이미지 파일을 위해 폴더 생성\n",
        "!mkdir rock_scissor_paper/test\n",
        "!mkdir rock_scissor_paper/test/paper_test\n",
        "!mkdir rock_scissor_paper/test/rock_test\n",
        "!mkdir rock_scissor_paper/test/scissor_test"
      ],
      "metadata": {
        "id": "5ejZC7mRb2yo"
      },
      "execution_count": 40,
      "outputs": []
    },
    {
      "cell_type": "code",
      "source": [
        "#테스트 파일 압축풀기\n",
        "!unzip -uq \"/content/rock_scissor_paper/test/paper_test/paper_test.zip\" -d \"/content/rock_scissor_paper/test/paper_test\"\n",
        "!unzip -uq \"/content/rock_scissor_paper/test/rock_test/rock_test.zip\" -d \"/content/rock_scissor_paper/test/rock_test\"\n",
        "!unzip -uq \"/content/rock_scissor_paper/test/scissor_test/scissor_test.zip\" -d \"/content/rock_scissor_paper/test/scissor_test\""
      ],
      "metadata": {
        "id": "U-S2MLdzdjb5"
      },
      "execution_count": 41,
      "outputs": []
    },
    {
      "cell_type": "code",
      "source": [
        "#테스트 이미지들도 똑같이 리사이즈 해주기\n",
        "# 가위\n",
        "image_dir_path = '/content/rock_scissor_paper/test/scissor_test'\n",
        "resize_images(image_dir_path)\n",
        "\n",
        "print(\"가위 test resize 완료!\")\n",
        "\n",
        "# 바위\n",
        "image_dir_path = '/content/rock_scissor_paper/test/rock_test'\n",
        "# 파일마다 모두 28x28 사이즈로 바꾸어 저장합니다.\n",
        "resize_images(image_dir_path)\n",
        "\n",
        "print(\"바위 test resize 완료!\")\n",
        "\n",
        "# 보자기\n",
        "image_dir_path = '/content/rock_scissor_paper/test/paper_test'\n",
        "# 파일마다 모두 28x28 사이즈로 바꾸어 저장합니다.\n",
        "resize_images(image_dir_path)\n",
        "\n",
        "print(\"보 test resize 완료!\")\n",
        "\n",
        "\n",
        "def load_data(img_path, number_of_data=4747):  # 테스트 가위바위보 이미지 개수 총합 4747 기재\n",
        "    img_size=28\n",
        "    color=3    #컬러 이미지니 꼭 3으로!\n",
        "    #이미지 데이터와 라벨(가위 : 0, 바위 : 1, 보 : 2) 데이터를 담을 행렬(matrix) 영역을 생성합니다.\n",
        "    imgs=np.zeros(number_of_data*img_size*img_size*color,dtype=np.int32).reshape(number_of_data,img_size,img_size,color)\n",
        "    labels=np.zeros(number_of_data,dtype=np.int32)\n",
        "\n",
        "    idx=0\n",
        "    for file in glob.iglob(img_path+'/scissor_test/*.jpg'):\n",
        "        img = np.array(Image.open(file),dtype=np.int32)\n",
        "        imgs[idx,:,:,:]=img    # 데이터 영역에 이미지 행렬을 복사\n",
        "        labels[idx]=0   # 가위 : 0\n",
        "        idx=idx+1\n",
        "\n",
        "    for file in glob.iglob(img_path+'/rock_test/*.jpg'):\n",
        "        img = np.array(Image.open(file),dtype=np.int32)\n",
        "        imgs[idx,:,:,:]=img    # 데이터 영역에 이미지 행렬을 복사\n",
        "        labels[idx]=1   # 바위 : 1\n",
        "        idx=idx+1  \n",
        "    \n",
        "    for file in glob.iglob(img_path+'/paper_test/*.jpg'):\n",
        "        img = np.array(Image.open(file),dtype=np.int32)\n",
        "        imgs[idx,:,:,:]=img    # 데이터 영역에 이미지 행렬을 복사\n",
        "        labels[idx]=2   # 보 : 2\n",
        "        idx=idx+1\n",
        "        \n",
        "    print(\"테스트데이터(x_train)의 이미지 개수는\", idx,\"입니다.\")\n",
        "    return imgs, labels\n",
        "\n",
        "image_dir_path = '/content/rock_scissor_paper/test'\n",
        "(x_test, y_test)=load_data(image_dir_path)\n",
        "x_test_norm = x_test/300.0   # 입력은 0~1 사이의 값으로 정규화\n",
        "\n",
        "print(\"x_test shape: {}\".format(x_test.shape))\n",
        "print(\"y_test shape: {}\".format(y_test.shape))"
      ],
      "metadata": {
        "colab": {
          "base_uri": "https://localhost:8080/"
        },
        "id": "bOkN_Kdyd_HR",
        "outputId": "2ba2a6d8-5287-40f7-c6dd-a43bbea0083f"
      },
      "execution_count": 48,
      "outputs": [
        {
          "output_type": "stream",
          "name": "stdout",
          "text": [
            "1655  images to be resized.\n",
            "1655  images resized.\n",
            "가위 test resize 완료!\n",
            "1503  images to be resized.\n",
            "1503  images resized.\n",
            "바위 test resize 완료!\n",
            "1589  images to be resized.\n",
            "1589  images resized.\n",
            "보 test resize 완료!\n",
            "테스트데이터(x_train)의 이미지 개수는 4747 입니다.\n",
            "x_test shape: (4747, 28, 28, 3)\n",
            "y_test shape: (4747,)\n"
          ]
        }
      ]
    },
    {
      "cell_type": "code",
      "source": [
        "#테스트 이미지 확인해보기\n",
        "import matplotlib.pyplot as plt\n",
        "plt.imshow(x_test[500])    #문제지\n",
        "print('라벨: ', y_test[500])    #정답지, 이미지를 보면 가위로 라벨 0으로 출력되었다."
      ],
      "metadata": {
        "colab": {
          "base_uri": "https://localhost:8080/",
          "height": 283
        },
        "id": "9C_PNymhg5ix",
        "outputId": "c58cfbdd-e441-4aca-8f9c-1917b24c8a7b"
      },
      "execution_count": 72,
      "outputs": [
        {
          "output_type": "stream",
          "name": "stdout",
          "text": [
            "라벨:  0\n"
          ]
        },
        {
          "output_type": "display_data",
          "data": {
            "image/png": "[encoded data removed]",
            "text/plain": [
              "<Figure size 432x288 with 1 Axes>"
            ]
          },
          "metadata": {
            "needs_background": "light"
          }
        }
      ]
    },
    {
      "cell_type": "code",
      "source": [
        "#모델 정확도 측정하기\n",
        "test_loss, test_accuracy = model.evaluate(x_test_norm,y_test, verbose=2)\n",
        "print(\"test_loss: {} \".format(test_loss))\n",
        "print(\"test_accuracy: {}\".format(test_accuracy))"
      ],
      "metadata": {
        "colab": {
          "base_uri": "https://localhost:8080/"
        },
        "id": "sUQunUmEhIal",
        "outputId": "77b01c54-c320-4433-cf9a-5272d7929902"
      },
      "execution_count": 73,
      "outputs": [
        {
          "output_type": "stream",
          "name": "stdout",
          "text": [
            "149/149 - 1s - loss: 3.5023 - accuracy: 0.3097 - 1s/epoch - 9ms/step\n",
            "test_loss: 3.5023481845855713 \n",
            "test_accuracy: 0.30966925621032715\n"
          ]
        }
      ]
    },
    {
      "cell_type": "markdown",
      "source": [
        "\n",
        "\n",
        "---\n",
        "# **회고**\n",
        "\n",
        "1. colab에서 압축풀기\n",
        "\n",
        "`!unzip -uq \"zip 파일 경로(확장자 포함)\" -d \"압축 푼 파일 저장할 경로\"`\n",
        "\n",
        "처음에는 lms 환경에서 했던 것처럼 압축을 풀려고 했으나 잘되지 않았다.\n",
        "분명 파일 경로도 잘 설정하여 했음에도 되지 않아 colab에서 압축 푸는 방법을 찾아보니 위와 같은 코드 양식이 나왔는데 상당히 직관적이어서 쓰기 편하다는 생각을 했다.\n",
        "\n",
        " 이후 왜 colab에서는 `cd ~ ` 가 되지 않았는지 찾아보니\n",
        "\n",
        "` %cd drive/My\\ Drive/example # %cd [프로젝트 위치]`\n",
        " 이러한 양식으로 쓰인다는 것을 확인했다.\n",
        "\n",
        " 같은 언어지만 환경에 따라 조금씩 달라지는게 아직까진 불편하고 낯설다."
      ],
      "metadata": {
        "id": "MhXkqNee5FrJ"
      }
    },
    {
      "cell_type": "markdown",
      "source": [
        "\n",
        " 2. `load_data()` 함수\n",
        "\n",
        " 해당 함수를 사용하면 '귤이 잘 익었는지 안 익었는지' 등을 알 수 있다고 해서 찾아보았는데 생각보다 개념이 깊은 것 같다.\n",
        " 바로 개념에 대해 설명해주기보다는 전부 예제를 통해 보여주다보니 제대로 된 정보가 찾기 힘들다. 다만, 해당 사진 데이터를 다룰 때 해당 함수를 사용하면 머신러닝과 딥러닝에 상당히 유용할 것이라는 생각은 든다.\n",
        " 영상에도 사용이 가능한지 의문이다. 아마 가능한 것 같다. 파이썬에 좀 더 익숙해지고 나서 다시 한 번 찾아보면 좋을 것 같다."
      ],
      "metadata": {
        "id": "hBn64q7NS7L1"
      }
    },
    {
      "cell_type": "markdown",
      "source": [
        " 3. 네트워크 설계\n",
        "\n",
        " 네크워크 설계하는 부분은 반복해서 보고는 있지만 여전히 어려운 것 같다.\n",
        " 특히 처음 이부분에서 오류가 나서 2~3일 동안 해결할 수가 없었는데 알고봤더니 광장히 간단한 문제였는데.. 컬러사진은 1이 아니라 3을 넣어줘야 한다는 사실이다.\n",
        " 개념 공부할 때 충분히 이해하고 넘어갔었지만 막상 코드에서는 어디가 사진 컬러에 대한 정보가 들어가는지 몰랐으니 그럴 법도 하다.\n",
        " 이 문제를 해결하고 나서는 다행히도 크게 오류나는 곳은 없었다."
      ],
      "metadata": {
        "id": "AE7MV9YXZImD"
      }
    },
    {
      "cell_type": "markdown",
      "source": [
        "4. 정확도에 대해서\n",
        " \n",
        "테스트까지 진행 후 정확도를 살펴보면 대략 30% 정도 된다.\n",
        "\n",
        "처음 학습시킨 데이터의 정확도는 98%로 높은 편인데, 테스트 진행 후 정확도를 살펴보니 다소 낮은 편이다. 여기에는 2가지 이유가 있다고 생각한다.\n",
        "\n",
        "(1) 테스트 이미지 파일의 화질이 좋지 않다.\n",
        "(2) 테스트 이미지 파일이 다양하지 않다.\n",
        "\n",
        "테스트 이미지 파일의 화질이 좋지 않기 때문에 손모양과 배경이 뭉쳐 가위인지 바위인지 식별하기 어려웠을 것이라 생각한다. 더불어 테스트를 한 사람의 데이터로만 진행하였기 때문에 다양성이 떨어져 정확도에 영향을 미쳤을 것 같기도 하다.\n",
        "\n",
        " 이를 해결하기 위해선 단조로운 배경에서 선명하게 찍은 테스트 파일들이 필요할 것이고, 최대한 다양한 사람들의 테스트파일을 사용해본다면 지금보다 훨씬 좋은 정확도를 얻을 수 있지 않을까 싶다."
      ],
      "metadata": {
        "id": "Hf7vmQXYc7cX"
      }
    }
  ]
}
