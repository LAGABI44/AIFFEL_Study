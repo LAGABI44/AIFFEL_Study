{
  "nbformat": 4,
  "nbformat_minor": 0,
  "metadata": {
    "colab": {
      "name": "[E-01]RockPaperScissor.ipynb",
      "provenance": [],
      "authorship_tag": "ABX9TyPzwodTeTQsUTjslzBPrZUR"
    },
    "kernelspec": {
      "name": "python3",
      "display_name": "Python 3"
    },
    "language_info": {
      "name": "python"
    }
  },
  "cells": [
    {
      "cell_type": "code",
      "execution_count": 2,
      "metadata": {
        "colab": {
          "base_uri": "https://localhost:8080/"
        },
        "id": "sA5wtT3mPwUJ",
        "outputId": "7ebcf3ea-fbdd-43de-ca1d-e4403ef87fdf"
      },
      "outputs": [
        {
          "output_type": "stream",
          "name": "stdout",
          "text": [
            "total 12\n",
            "drwxr-xr-x 2 root root 4096 Jan 11 08:24 paper\n",
            "drwxr-xr-x 2 root root 4096 Jan 11 08:24 rock\n",
            "drwxr-xr-x 2 root root 4096 Jan 11 08:24 scissor\n"
          ]
        }
      ],
      "source": [
        "! mkdir rock_scissor_paper\n",
        "! mkdir rock_scissor_paper/scissor\n",
        "! mkdir rock_scissor_paper/rock\n",
        "! mkdir rock_scissor_paper/paper\n",
        "\n",
        "! ls -l rock_scissor_paper/"
      ]
    },
    {
      "cell_type": "code",
      "source": [
        "# 코드로 zip 압축 풀기\n",
        "!unzip -uq \"/content/rock_scissor_paper/paper/paper.zip\" -d \"/content/rock_scissor_paper/paper\"\n",
        "!unzip -uq \"/content/rock_scissor_paper/rock/rock.zip\" -d \"/content/rock_scissor_paper/rock\"\n",
        "!unzip -uq \"/content/rock_scissor_paper/scissor/scissor.zip\" -d \"/content/rock_scissor_paper/scissor\"\n",
        "\n",
        "#! cd  /content/rock_scissor_paper/paper\n",
        "#!unzip paper.zip\n",
        "\n",
        "#! cd  /content/rock_scissor_paper/rock\n",
        "#!unzip rock.zip\n",
        "\n",
        "#! cd  /content/rock_scissor_paper/scissor\n",
        "#!unzip scissor.zip\n",
        "\n",
        "# 압축 해제 명령어 : unzip <파일명>.zip"
      ],
      "metadata": {
        "id": "upl9rqMSPxBF"
      },
      "execution_count": 17,
      "outputs": []
    },
    {
      "cell_type": "code",
      "source": [
        "#데이터 불러오기 + Resize 하기\n",
        "import tensorflow as tf\n",
        "from tensorflow import keras\n",
        "import numpy as np\n",
        "import matplotlib.pyplot as plt\n",
        "import os\n",
        "\n",
        "# model을 직접 만들어 보세요.\n",
        "# Hint! model의 입력/출력부에 특히 유의해 주세요. 가위바위보 데이터셋은 MNIST 데이터셋과 어떤 점이 달라졌나요?\n",
        "# [[YOUR CODE]]\n",
        "\n",
        "n_channel_1=16\n",
        "n_channel_2=32\n",
        "n_dense=32\n",
        "n_train_epoch=10\n",
        "\n",
        "#model=keras.models.Sequential()\n",
        "#model.add(keras.layers.Conv2D(n_channel_1, (3,3), activation='relu', input_shape=(28,28,3)))\n",
        "#model.add(keras.layers.MaxPool2D(2,2))\n",
        "#model.add(keras.layers.Conv2D(n_channel_2, (3,3), activation='relu'))\n",
        "#model.add(keras.layers.MaxPooling2D((2,2)))\n",
        "#model.add(keras.layers.Flatten())\n",
        "#model.add(keras.layers.Dense(n_dense, activation='relu'))\n",
        "#model.add(keras.layers.Dense(10, activation='softmax'))\n",
        "\n",
        "model=keras.models.Sequential()\n",
        "model.add(keras.layers.Conv2D(16, (3,3), activation='relu', input_shape=(28,28,3)))\n",
        "model.add(keras.layers.MaxPool2D(2,2))\n",
        "model.add(keras.layers.Conv2D(32, (3,3), activation='relu'))\n",
        "model.add(keras.layers.MaxPooling2D((2,2)))\n",
        "model.add(keras.layers.Flatten())\n",
        "model.add(keras.layers.Dense(32, activation='relu'))\n",
        "model.add(keras.layers.Dense(10, activation='softmax'))\n",
        "\n",
        "model.compile(optimizer='adam',\n",
        "             loss='sparse_categorical_crossentropy',\n",
        "             metrics=['accuracy'])\n",
        "\n",
        "model.summary()\n"
      ],
      "metadata": {
        "colab": {
          "base_uri": "https://localhost:8080/"
        },
        "id": "Q4opd_OMTKf9",
        "outputId": "5c293982-4edc-463a-e114-30a991c30322"
      },
      "execution_count": 27,
      "outputs": [
        {
          "output_type": "stream",
          "name": "stdout",
          "text": [
            "Model: \"sequential_3\"\n",
            "_________________________________________________________________\n",
            " Layer (type)                Output Shape              Param #   \n",
            "=================================================================\n",
            " conv2d_6 (Conv2D)           (None, 26, 26, 16)        448       \n",
            "                                                                 \n",
            " max_pooling2d_6 (MaxPooling  (None, 13, 13, 16)       0         \n",
            " 2D)                                                             \n",
            "                                                                 \n",
            " conv2d_7 (Conv2D)           (None, 11, 11, 32)        4640      \n",
            "                                                                 \n",
            " max_pooling2d_7 (MaxPooling  (None, 5, 5, 32)         0         \n",
            " 2D)                                                             \n",
            "                                                                 \n",
            " flatten_3 (Flatten)         (None, 800)               0         \n",
            "                                                                 \n",
            " dense_6 (Dense)             (None, 32)                25632     \n",
            "                                                                 \n",
            " dense_7 (Dense)             (None, 10)                330       \n",
            "                                                                 \n",
            "=================================================================\n",
            "Total params: 31,050\n",
            "Trainable params: 31,050\n",
            "Non-trainable params: 0\n",
            "_________________________________________________________________\n"
          ]
        }
      ]
    },
    {
      "cell_type": "code",
      "source": [
        "from PIL import Image\n",
        "import glob\n",
        "\n",
        "def resize_images(img_path):\n",
        "\timages=glob.glob(img_path + \"/*.jpg\")  \n",
        "    \n",
        "\tprint(len(images), \" images to be resized.\")\n",
        "\n",
        "    # 파일마다 모두 28x28 사이즈로 바꾸어 저장합니다.\n",
        "\ttarget_size=(28,28)\n",
        "\tfor img in images:\n",
        "\t\told_img=Image.open(img)\n",
        "\t\tnew_img=old_img.resize(target_size,Image.ANTIALIAS)\n",
        "\t\tnew_img.save(img, \"JPEG\")\n",
        "    \n",
        "\tprint(len(images), \" images resized.\")\n",
        "\t\n",
        "# 가위 이미지가 저장된 디렉토리 아래의 모든 jpg 파일을 읽어들여서\n",
        "image_dir_path = '/content/rock_scissor_paper/scissor'\n",
        "resize_images(image_dir_path)\n",
        "\n",
        "print(\"가위 이미지 resize 완료!\")"
      ],
      "metadata": {
        "colab": {
          "base_uri": "https://localhost:8080/"
        },
        "id": "Rx7dGMPMTRW2",
        "outputId": "ae638926-d6ad-4711-9d18-9fd6fd070b1d"
      },
      "execution_count": 28,
      "outputs": [
        {
          "output_type": "stream",
          "name": "stdout",
          "text": [
            "181  images to be resized.\n",
            "181  images resized.\n",
            "가위 이미지 resize 완료!\n"
          ]
        }
      ]
    },
    {
      "cell_type": "code",
      "source": [
        "#바위 축소\n",
        "image_dir_path = '/content/rock_scissor_paper/rock'\n",
        "resize_images(image_dir_path)\n",
        "\n",
        "def resize_image(image_path):\n",
        "    images=glob.glob(img_path + \"/*.jpg\")\n",
        "    print(len(images), \" images to be resized.\")\n",
        "    \n",
        "    target_size(28, 28)\n",
        "    for img in image:\n",
        "        old_img=Image.open(img)\n",
        "        new_img=old_img.resize(target_size,Image.ANTIALIAS)\n",
        "        new_img.save(img, \"JPEG\")\n",
        "    print(len(images), \" images resized.\")\n",
        "    \n",
        "print(\"바위 이미지 resize 완료!\")"
      ],
      "metadata": {
        "colab": {
          "base_uri": "https://localhost:8080/"
        },
        "id": "YcOA4BTkZQPg",
        "outputId": "42809c75-68eb-4a43-8498-d0e1e079025b"
      },
      "execution_count": 29,
      "outputs": [
        {
          "output_type": "stream",
          "name": "stdout",
          "text": [
            "154  images to be resized.\n",
            "154  images resized.\n",
            "바위 이미지 resize 완료!\n"
          ]
        }
      ]
    },
    {
      "cell_type": "code",
      "source": [
        "#보 이미지 축소\n",
        "image_dir_path = '/content/rock_scissor_paper/paper'\n",
        "resize_images(image_dir_path)\n",
        "\n",
        "def resize_image(image_path):\n",
        "    images=glob.glob(img_path + \"/*.jpg\")\n",
        "    print(len(images), \" images to be resized.\")\n",
        "    \n",
        "    target_size(28, 28)\n",
        "    for img in image:\n",
        "        old_img=Image.open(img)\n",
        "        new_img=old_img.resize(target_size,Image.ANTIALIAS)\n",
        "        new_img.save(img, \"JPEG\")\n",
        "    print(len(images), \" images resized.\")\n",
        "    \n",
        "print(\"보 이미지 resize 완료!\")"
      ],
      "metadata": {
        "colab": {
          "base_uri": "https://localhost:8080/"
        },
        "id": "vODwWnF9ZkYI",
        "outputId": "2bfa8c34-fdf4-44a9-9bf6-cfb38cac002d"
      },
      "execution_count": 30,
      "outputs": [
        {
          "output_type": "stream",
          "name": "stdout",
          "text": [
            "180  images to be resized.\n",
            "180  images resized.\n",
            "보 이미지 resize 완료!\n"
          ]
        }
      ]
    },
    {
      "cell_type": "code",
      "source": [
        "#학습데이터\n",
        "import numpy as np\n",
        "\n",
        "def load_data(img_path, number_of_data=515):  # 가위바위보 이미지 개수 총합에 주의하세요.\n",
        "    # 가위 : 0, 바위 : 1, 보 : 2\n",
        "    img_size=28\n",
        "    color=3\n",
        "    #이미지 데이터와 라벨(가위 : 0, 바위 : 1, 보 : 2) 데이터를 담을 행렬(matrix) 영역을 생성합니다.\n",
        "    imgs=np.zeros(number_of_data*img_size*img_size*color,dtype=np.int32).reshape(number_of_data,img_size,img_size,color)\n",
        "    labels=np.zeros(number_of_data,dtype=np.int32)\n",
        "\n",
        "    idx=0\n",
        "    for file in glob.iglob(img_path+'/scissor/*.jpg'):\n",
        "        img = np.array(Image.open(file),dtype=np.int32)\n",
        "        imgs[idx,:,:,:]=img    # 데이터 영역에 이미지 행렬을 복사\n",
        "        labels[idx]=0   # 가위 : 0\n",
        "        idx=idx+1\n",
        "\n",
        "    for file in glob.iglob(img_path+'/rock/*.jpg'):\n",
        "        img = np.array(Image.open(file),dtype=np.int32)\n",
        "        imgs[idx,:,:,:]=img    # 데이터 영역에 이미지 행렬을 복사\n",
        "        labels[idx]=1   # 바위 : 1\n",
        "        idx=idx+1  \n",
        "    \n",
        "    for file in glob.iglob(img_path+'/paper/*.jpg'):\n",
        "        img = np.array(Image.open(file),dtype=np.int32)\n",
        "        imgs[idx,:,:,:]=img    # 데이터 영역에 이미지 행렬을 복사\n",
        "        labels[idx]=2   # 보 : 2\n",
        "        idx=idx+1\n",
        "        \n",
        "    print(\"학습데이터(x_train)의 이미지 개수는\", idx,\"입니다.\")\n",
        "    return imgs, labels\n",
        "\n",
        "image_dir_path = '/content/rock_scissor_paper'\n",
        "(x_train, y_train)=load_data(image_dir_path)\n",
        "x_train_norm = x_train/255.0   # 입력은 0~1 사이의 값으로 정규화\n",
        "\n",
        "print(\"x_train shape: {}\".format(x_train.shape))\n",
        "print(\"y_train shape: {}\".format(y_train.shape))"
      ],
      "metadata": {
        "colab": {
          "base_uri": "https://localhost:8080/"
        },
        "id": "8O5GzgsFZ3fg",
        "outputId": "cf94c6ad-6656-410a-f8da-24fdebe4a30c"
      },
      "execution_count": 31,
      "outputs": [
        {
          "output_type": "stream",
          "name": "stdout",
          "text": [
            "학습데이터(x_train)의 이미지 개수는 515 입니다.\n",
            "x_train shape: (515, 28, 28, 3)\n",
            "y_train shape: (515,)\n"
          ]
        }
      ]
    },
    {
      "cell_type": "code",
      "source": [
        "#이미지 불러와보기\n",
        "plt.imshow(x_train[0])\n",
        "print('라벨: ', y_train[0])"
      ],
      "metadata": {
        "colab": {
          "base_uri": "https://localhost:8080/",
          "height": 284
        },
        "id": "wNiZ4KydaGgw",
        "outputId": "02dd0186-d2a5-401f-89ca-852476428727"
      },
      "execution_count": 32,
      "outputs": [
        {
          "output_type": "stream",
          "name": "stdout",
          "text": [
            "라벨:  0\n"
          ]
        },
        {
          "output_type": "display_data",
          "data": {
            "image/png": "[encoded data removed]",
            "text/plain": [
              "<Figure size 432x288 with 1 Axes>"
            ]
          },
          "metadata": {
            "needs_background": "light"
          }
        }
      ]
    },
    {
      "cell_type": "code",
      "source": [
        "#딥러닝 네트워크 설계\n",
        "import tensorflow as tf\n",
        "from tensorflow import keras\n",
        "import numpy as np\n",
        "import random \n",
        "\n",
        "# model을 직접 만들어 보세요.\n",
        "# Hint! model의 입력/출력부에 특히 유의해 주세요. 가위바위보 데이터셋은 MNIST 데이터셋과 어떤 점이 달라졌나요?\n",
        "# [[YOUR CODE]]\n",
        "\n",
        "n_channel_1=16\n",
        "n_channel_2=32\n",
        "n_dense=32\n",
        "n_train_epoch=10\n",
        "\n",
        "model=keras.models.Sequential()\n",
        "model.add(keras.layers.Conv2D(n_channel_1, (3,3), activation='relu', input_shape=(28,28,3)))\n",
        "model.add(keras.layers.MaxPool2D(2,2))\n",
        "model.add(keras.layers.Conv2D(n_channel_2, (3,3), activation='relu'))\n",
        "model.add(keras.layers.MaxPooling2D((2,2)))\n",
        "model.add(keras.layers.Flatten())\n",
        "model.add(keras.layers.Dense(n_dense, activation='relu'))\n",
        "model.add(keras.layers.Dense(10, activation='softmax'))\n",
        "\n",
        "model.summary()\n",
        "model.compile(optimizer='adam',\n",
        "             loss='sparse_categorical_crossentropy',\n",
        "             metrics=['accuracy'])"
      ],
      "metadata": {
        "colab": {
          "base_uri": "https://localhost:8080/"
        },
        "id": "UB_ufng8aL4S",
        "outputId": "dcc04c3a-35e0-4665-cdb0-da0526bd7bb3"
      },
      "execution_count": 33,
      "outputs": [
        {
          "output_type": "stream",
          "name": "stdout",
          "text": [
            "Model: \"sequential_4\"\n",
            "_________________________________________________________________\n",
            " Layer (type)                Output Shape              Param #   \n",
            "=================================================================\n",
            " conv2d_8 (Conv2D)           (None, 26, 26, 16)        448       \n",
            "                                                                 \n",
            " max_pooling2d_8 (MaxPooling  (None, 13, 13, 16)       0         \n",
            " 2D)                                                             \n",
            "                                                                 \n",
            " conv2d_9 (Conv2D)           (None, 11, 11, 32)        4640      \n",
            "                                                                 \n",
            " max_pooling2d_9 (MaxPooling  (None, 5, 5, 32)         0         \n",
            " 2D)                                                             \n",
            "                                                                 \n",
            " flatten_4 (Flatten)         (None, 800)               0         \n",
            "                                                                 \n",
            " dense_8 (Dense)             (None, 32)                25632     \n",
            "                                                                 \n",
            " dense_9 (Dense)             (None, 10)                330       \n",
            "                                                                 \n",
            "=================================================================\n",
            "Total params: 31,050\n",
            "Trainable params: 31,050\n",
            "Non-trainable params: 0\n",
            "_________________________________________________________________\n"
          ]
        }
      ]
    },
    {
      "cell_type": "code",
      "source": [
        "print(\"Before Reshape - x_train_norm shape: {}\".format(x_train_norm.shape))\n",
        "\n",
        "\n",
        "x_train_reshaped=x_train_norm.reshape(-1, 28, 28, 3)  # 데이터갯수에 -1을 쓰면 reshape시 자동계산됩니다.\n",
        "\n",
        "\n",
        "print(\"After Reshape - x_train_reshaped shape: {}\".format(x_train_reshaped.shape))"
      ],
      "metadata": {
        "colab": {
          "base_uri": "https://localhost:8080/"
        },
        "id": "HvrnF1mna93K",
        "outputId": "14cd4c36-1115-4c8b-f55b-8f31becf3ab3"
      },
      "execution_count": 37,
      "outputs": [
        {
          "output_type": "stream",
          "name": "stdout",
          "text": [
            "Before Reshape - x_train_norm shape: (515, 28, 28, 3)\n",
            "After Reshape - x_train_reshaped shape: (515, 28, 28, 3)\n"
          ]
        }
      ]
    },
    {
      "cell_type": "code",
      "source": [
        "#딥러닝 학습시키기\n",
        "model.compile(optimizer='adam',\n",
        "             loss='sparse_categorical_crossentropy',\n",
        "             metrics=['accuracy'])\n",
        "\n",
        "model.fit(x_train_reshaped, y_train, epochs=10)"
      ],
      "metadata": {
        "colab": {
          "base_uri": "https://localhost:8080/"
        },
        "id": "OFEbfFiwa1uY",
        "outputId": "8f96a7f9-1509-4428-e217-7a4bdd47fe18"
      },
      "execution_count": 38,
      "outputs": [
        {
          "output_type": "stream",
          "name": "stdout",
          "text": [
            "Epoch 1/10\n",
            "17/17 [==============================] - 1s 19ms/step - loss: 1.7293 - accuracy: 0.3728\n",
            "Epoch 2/10\n",
            "17/17 [==============================] - 0s 19ms/step - loss: 0.7347 - accuracy: 0.7398\n",
            "Epoch 3/10\n",
            "17/17 [==============================] - 0s 19ms/step - loss: 0.3692 - accuracy: 0.8816\n",
            "Epoch 4/10\n",
            "17/17 [==============================] - 0s 19ms/step - loss: 0.1695 - accuracy: 0.9476\n",
            "Epoch 5/10\n",
            "17/17 [==============================] - 0s 19ms/step - loss: 0.1008 - accuracy: 0.9670\n",
            "Epoch 6/10\n",
            "17/17 [==============================] - 0s 19ms/step - loss: 0.1095 - accuracy: 0.9592\n",
            "Epoch 7/10\n",
            "17/17 [==============================] - 0s 20ms/step - loss: 0.0382 - accuracy: 0.9922\n",
            "Epoch 8/10\n",
            "17/17 [==============================] - 0s 19ms/step - loss: 0.0201 - accuracy: 0.9981\n",
            "Epoch 9/10\n",
            "17/17 [==============================] - 0s 19ms/step - loss: 0.0162 - accuracy: 1.0000\n",
            "Epoch 10/10\n",
            "17/17 [==============================] - 0s 19ms/step - loss: 0.0103 - accuracy: 1.0000\n"
          ]
        },
        {
          "output_type": "execute_result",
          "data": {
            "text/plain": [
              "<keras.callbacks.History at 0x7f5369c7b950>"
            ]
          },
          "metadata": {},
          "execution_count": 38
        }
      ]
    },
    {
      "cell_type": "code",
      "source": [
        "#테스트\n",
        "!mkdir rock_scissor_paper/test\n",
        "!mkdir rock_scissor_paper/test/paper_test\n",
        "!mkdir rock_scissor_paper/test/rock_test\n",
        "!mkdir rock_scissor_paper/test/scissor_test"
      ],
      "metadata": {
        "id": "5ejZC7mRb2yo"
      },
      "execution_count": 40,
      "outputs": []
    },
    {
      "cell_type": "code",
      "source": [
        "#테스트 압축풀기\n",
        "!unzip -uq \"/content/rock_scissor_paper/test/paper_test/paper_test.zip\" -d \"/content/rock_scissor_paper/test/paper_test\"\n",
        "!unzip -uq \"/content/rock_scissor_paper/test/rock_test/rock_test.zip\" -d \"/content/rock_scissor_paper/test/rock_test\"\n",
        "!unzip -uq \"/content/rock_scissor_paper/test/scissor_test/scissor_test.zip\" -d \"/content/rock_scissor_paper/test/scissor_test\""
      ],
      "metadata": {
        "id": "U-S2MLdzdjb5"
      },
      "execution_count": 41,
      "outputs": []
    },
    {
      "cell_type": "code",
      "source": [
        "#테스트셋 확인\n",
        "# 가위 이미지가 저장된 디렉토리 아래의 모든 jpg 파일을 읽어들여서\n",
        "image_dir_path = '/content/rock_scissor_paper/test/scissor_test'\n",
        "resize_images(image_dir_path)\n",
        "\n",
        "print(\"가위 test resize 완료!\")\n",
        "\n",
        "\n",
        "image_dir_path = '/content/rock_scissor_paper/test/rock_test'\n",
        "# 파일마다 모두 28x28 사이즈로 바꾸어 저장합니다.\n",
        "resize_images(image_dir_path)\n",
        "\n",
        "print(\"바위 test resize 완료!\")\n",
        "\n",
        "image_dir_path = '/content/rock_scissor_paper/test/paper_test'\n",
        "# 파일마다 모두 28x28 사이즈로 바꾸어 저장합니다.\n",
        "resize_images(image_dir_path)\n",
        "\n",
        "print(\"보 test resize 완료!\")\n",
        "\n",
        "\n",
        "def load_data(img_path, number_of_data=4747):  # 가위바위보 이미지 개수 총합에 주의하세요.\n",
        "    # 가위 : 0, 바위 : 1, 보 : 2\n",
        "    img_size=28\n",
        "    color=3\n",
        "    #이미지 데이터와 라벨(가위 : 0, 바위 : 1, 보 : 2) 데이터를 담을 행렬(matrix) 영역을 생성합니다.\n",
        "    imgs=np.zeros(number_of_data*img_size*img_size*color,dtype=np.int32).reshape(number_of_data,img_size,img_size,color)\n",
        "    labels=np.zeros(number_of_data,dtype=np.int32)\n",
        "\n",
        "    idx=0\n",
        "    for file in glob.iglob(img_path+'/scissor_test/*.jpg'):\n",
        "        img = np.array(Image.open(file),dtype=np.int32)\n",
        "        imgs[idx,:,:,:]=img    # 데이터 영역에 이미지 행렬을 복사\n",
        "        labels[idx]=0   # 가위 : 0\n",
        "        idx=idx+1\n",
        "\n",
        "    for file in glob.iglob(img_path+'/rock_test/*.jpg'):\n",
        "        img = np.array(Image.open(file),dtype=np.int32)\n",
        "        imgs[idx,:,:,:]=img    # 데이터 영역에 이미지 행렬을 복사\n",
        "        labels[idx]=1   # 바위 : 1\n",
        "        idx=idx+1  \n",
        "    \n",
        "    for file in glob.iglob(img_path+'/paper_test/*.jpg'):\n",
        "        img = np.array(Image.open(file),dtype=np.int32)\n",
        "        imgs[idx,:,:,:]=img    # 데이터 영역에 이미지 행렬을 복사\n",
        "        labels[idx]=2   # 보 : 2\n",
        "        idx=idx+1\n",
        "        \n",
        "    print(\"테스트데이터(x_train)의 이미지 개수는\", idx,\"입니다.\")\n",
        "    return imgs, labels\n",
        "\n",
        "image_dir_path = '/content/rock_scissor_paper/test'\n",
        "(x_test, y_test)=load_data(image_dir_path)\n",
        "x_test_norm = x_test/300.0   # 입력은 0~1 사이의 값으로 정규화\n",
        "\n",
        "print(\"x_test shape: {}\".format(x_test.shape))\n",
        "print(\"y_test shape: {}\".format(y_test.shape))"
      ],
      "metadata": {
        "colab": {
          "base_uri": "https://localhost:8080/"
        },
        "id": "bOkN_Kdyd_HR",
        "outputId": "2ba2a6d8-5287-40f7-c6dd-a43bbea0083f"
      },
      "execution_count": 48,
      "outputs": [
        {
          "output_type": "stream",
          "name": "stdout",
          "text": [
            "1655  images to be resized.\n",
            "1655  images resized.\n",
            "가위 test resize 완료!\n",
            "1503  images to be resized.\n",
            "1503  images resized.\n",
            "바위 test resize 완료!\n",
            "1589  images to be resized.\n",
            "1589  images resized.\n",
            "보 test resize 완료!\n",
            "테스트데이터(x_train)의 이미지 개수는 4747 입니다.\n",
            "x_test shape: (4747, 28, 28, 3)\n",
            "y_test shape: (4747,)\n"
          ]
        }
      ]
    },
    {
      "cell_type": "code",
      "source": [
        "#테스트 이미지 불러오기\n",
        "import matplotlib.pyplot as plt\n",
        "plt.imshow(x_test[430])\n",
        "print('라벨: ', y_test[430])"
      ],
      "metadata": {
        "colab": {
          "base_uri": "https://localhost:8080/",
          "height": 284
        },
        "id": "9C_PNymhg5ix",
        "outputId": "5e1fecdb-0f32-40fb-91bb-5f5398e256ae"
      },
      "execution_count": 54,
      "outputs": [
        {
          "output_type": "stream",
          "name": "stdout",
          "text": [
            "라벨:  0\n"
          ]
        },
        {
          "output_type": "display_data",
          "data": {
            "image/png": "[encoded data removed]",
            "text/plain": [
              "<Figure size 432x288 with 1 Axes>"
            ]
          },
          "metadata": {
            "needs_background": "light"
          }
        }
      ]
    },
    {
      "cell_type": "code",
      "source": [
        "#모델 정확도 측정\n",
        "test_loss, test_accuracy = model.evaluate(x_test_norm,y_test, verbose=2)\n",
        "print(\"test_loss: {} \".format(test_loss))\n",
        "print(\"test_accuracy: {}\".format(test_accuracy))"
      ],
      "metadata": {
        "colab": {
          "base_uri": "https://localhost:8080/"
        },
        "id": "sUQunUmEhIal",
        "outputId": "aeb6d0d7-877c-41ca-950d-ca579f640363"
      },
      "execution_count": 55,
      "outputs": [
        {
          "output_type": "stream",
          "name": "stdout",
          "text": [
            "149/149 - 1s - loss: 2.2995 - accuracy: 0.3050 - 1s/epoch - 9ms/step\n",
            "test_loss: 2.2994649410247803 \n",
            "test_accuracy: 0.3050347566604614\n"
          ]
        }
      ]
    }
  ]
}