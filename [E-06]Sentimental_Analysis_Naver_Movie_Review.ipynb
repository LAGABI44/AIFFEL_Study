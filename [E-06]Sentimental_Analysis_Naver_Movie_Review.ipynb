{
 "cells": [
  {
   "cell_type": "markdown",
   "id": "4c659d61",
   "metadata": {},
   "source": [
    "# 현재 시작 27일 11시 42분, 지금까지 작업하던거 run이 안돼 재로그인했다가 싹 다 날아갔습니다 ㅋㅋ 억울합니다\n",
    "# 다 잘되던게 다시 하니 오류 투성이네요 ㅋㅋ 코딩의 세계란..ㅋ"
   ]
  },
  {
   "cell_type": "markdown",
   "id": "3bef2e49",
   "metadata": {},
   "source": [
    "# 프로젝트 : 네이버 영화리뷰 감성분석 도전하기\n",
    "\n",
    "## <목차>\n",
    "\n",
    "1. 데이터 준비와 확인\n",
    "2. 데이터로더 구성\n",
    "3. 모델 구성을 위한 데이터 분석 및 가공\n",
    "4. 모델 구성 및 validation set 구성\n",
    "5. 모델 훈련 개시\n",
    "6. Loss, Accuracy 그래프 시각화\n",
    "7. 학습된 Embedding 레이어 분석\n",
    "8. 한국어 Word2Vec 임베딩 활용하여 성능 개선\n",
    "\n",
    "   \n",
    "\n",
    "# 1. 데이터 준비와 확인"
   ]
  },
  {
   "cell_type": "code",
   "execution_count": 1,
   "id": "16327618",
   "metadata": {},
   "outputs": [
    {
     "data": {
      "text/html": [
       "<div>\n",
       "<style scoped>\n",
       "    .dataframe tbody tr th:only-of-type {\n",
       "        vertical-align: middle;\n",
       "    }\n",
       "\n",
       "    .dataframe tbody tr th {\n",
       "        vertical-align: top;\n",
       "    }\n",
       "\n",
       "    .dataframe thead th {\n",
       "        text-align: right;\n",
       "    }\n",
       "</style>\n",
       "<table border=\"1\" class=\"dataframe\">\n",
       "  <thead>\n",
       "    <tr style=\"text-align: right;\">\n",
       "      <th></th>\n",
       "      <th>id</th>\n",
       "      <th>document</th>\n",
       "      <th>label</th>\n",
       "    </tr>\n",
       "  </thead>\n",
       "  <tbody>\n",
       "    <tr>\n",
       "      <th>0</th>\n",
       "      <td>9976970</td>\n",
       "      <td>아 더빙.. 진짜 짜증나네요 목소리</td>\n",
       "      <td>0</td>\n",
       "    </tr>\n",
       "    <tr>\n",
       "      <th>1</th>\n",
       "      <td>3819312</td>\n",
       "      <td>흠...포스터보고 초딩영화줄....오버연기조차 가볍지 않구나</td>\n",
       "      <td>1</td>\n",
       "    </tr>\n",
       "    <tr>\n",
       "      <th>2</th>\n",
       "      <td>10265843</td>\n",
       "      <td>너무재밓었다그래서보는것을추천한다</td>\n",
       "      <td>0</td>\n",
       "    </tr>\n",
       "    <tr>\n",
       "      <th>3</th>\n",
       "      <td>9045019</td>\n",
       "      <td>교도소 이야기구먼 ..솔직히 재미는 없다..평점 조정</td>\n",
       "      <td>0</td>\n",
       "    </tr>\n",
       "    <tr>\n",
       "      <th>4</th>\n",
       "      <td>6483659</td>\n",
       "      <td>사이몬페그의 익살스런 연기가 돋보였던 영화!스파이더맨에서 늙어보이기만 했던 커스틴 ...</td>\n",
       "      <td>1</td>\n",
       "    </tr>\n",
       "  </tbody>\n",
       "</table>\n",
       "</div>"
      ],
      "text/plain": [
       "         id                                           document  label\n",
       "0   9976970                                아 더빙.. 진짜 짜증나네요 목소리      0\n",
       "1   3819312                  흠...포스터보고 초딩영화줄....오버연기조차 가볍지 않구나      1\n",
       "2  10265843                                  너무재밓었다그래서보는것을추천한다      0\n",
       "3   9045019                      교도소 이야기구먼 ..솔직히 재미는 없다..평점 조정      0\n",
       "4   6483659  사이몬페그의 익살스런 연기가 돋보였던 영화!스파이더맨에서 늙어보이기만 했던 커스틴 ...      1"
      ]
     },
     "execution_count": 1,
     "metadata": {},
     "output_type": "execute_result"
    }
   ],
   "source": [
    "import pandas as pd\n",
    "import urllib.request\n",
    "%matplotlib inline\n",
    "import matplotlib.pyplot as plt\n",
    "import re\n",
    "from konlpy.tag import Okt\n",
    "from tensorflow import keras\n",
    "from tensorflow.keras.preprocessing.text import Tokenizer\n",
    "import numpy as np\n",
    "from tensorflow.keras.preprocessing.sequence import pad_sequences\n",
    "from collections import Counter\n",
    "import os\n",
    "import gensim\n",
    "from gensim.models.keyedvectors import Word2VecKeyedVectors\n",
    "from tensorflow.keras.initializers import Constant\n",
    "from gensim.models import KeyedVectors\n",
    "from konlpy.tag import Mecab\n",
    "\n",
    "# 데이터를 읽어봅시다. \n",
    "train_data = pd.read_table('~/aiffel/sentiment_classification/data/ratings_train.txt')\n",
    "test_data = pd.read_table('~/aiffel/sentiment_classification/data/ratings_test.txt')\n",
    "\n",
    "train_data.head()"
   ]
  },
  {
   "cell_type": "code",
   "execution_count": 2,
   "id": "abd4a87f",
   "metadata": {},
   "outputs": [
    {
     "name": "stdout",
     "output_type": "stream",
     "text": [
      "train: 146182, test: 49157\n"
     ]
    }
   ],
   "source": [
    "tokenizer = Mecab()\n",
    "stopwords = ['의','가','이','은','들','는','좀','잘','걍','과','도','를','으로','자','에','와','한','하다']\n",
    "\n",
    "def load_data(train_data, test_data, num_words=10000):\n",
    "    train_data.drop_duplicates(subset=['document'], inplace=True) # 중복값 제거\n",
    "    train_data = train_data.dropna(how = 'any')  # NA값 제거\n",
    "    \n",
    "    test_data.drop_duplicates(subset=['document'], inplace=True) # 중복값 제거\n",
    "    test_data = test_data.dropna(how = 'any')  # NA값 제거 \n",
    "    \n",
    "    X_train = []\n",
    "    for sentence in train_data['document']:\n",
    "        temp_X = tokenizer.morphs(sentence) # 토큰화\n",
    "        temp_X = [word for word in temp_X if not word in stopwords] # 불용어 제거\n",
    "        X_train.append(temp_X)\n",
    "\n",
    "    X_test = []\n",
    "    for sentence in test_data['document']:\n",
    "        temp_X = tokenizer.morphs(sentence) # 토큰화\n",
    "        temp_X = [word for word in temp_X if not word in stopwords] # 불용어 제거\n",
    "        X_test.append(temp_X)\n",
    "    \n",
    "    words = np.concatenate(X_train).tolist()\n",
    "    counter = Counter(words)\n",
    "    counter = counter.most_common(10000-4)\n",
    "    vocab = ['<PAD>', '<BOS>', '<UNK>', '<UNUSED>'] + [key for key, _ in counter]\n",
    "    word_to_index = {word:index for index, word in enumerate(vocab)} # 딕셔너리에 {텍스트:인덱스} 구조로 저장\n",
    "        \n",
    "    def wordlist_to_indexlist(wordlist):\n",
    "        return [word_to_index[word] if word in word_to_index else word_to_index['<PAD>'] for word in wordlist]\n",
    "        \n",
    "    X_train = list(map(wordlist_to_indexlist, X_train))\n",
    "    X_test = list(map(wordlist_to_indexlist, X_test))\n",
    "        \n",
    "    return X_train, np.array(list(train_data['label'])), X_test, np.array(list(test_data['label'])), word_to_index\n",
    "\n",
    "X_train, y_train, X_test, y_test, word_to_index = load_data(train_data, test_data)\n",
    "\n",
    "print(\"train: {}, test: {}\".format(len(X_train), len(X_test)))"
   ]
  },
  {
   "cell_type": "code",
   "execution_count": 3,
   "id": "817d88e4",
   "metadata": {},
   "outputs": [],
   "source": [
    "# {텍스트: 인덱스}에서 {인덱스:텍스트}로 변경\n",
    "\n",
    "index_to_word = {index:word for word, index in word_to_index.items()}"
   ]
  },
  {
   "cell_type": "code",
   "execution_count": 4,
   "id": "1aaef307",
   "metadata": {},
   "outputs": [],
   "source": [
    "# 문장 1개를 활용할 딕셔너리와 함께 주면, 단어 인덱스 리스트 벡터로 변환해 주는 함수입니다. \n",
    "# 단, 모든 문장은 <BOS>로 시작하는 것으로 합니다. \n",
    "def get_encoded_sentence(sentence, word_to_index):\n",
    "    return [word_to_index['<BOS>']]+[word_to_index[word] if word in word_to_index else word_to_index['<UNK>'] for word in sentence.split()]\n",
    "\n",
    "# 여러 개의 문장 리스트를 한꺼번에 단어 인덱스 리스트 벡터로 encode해 주는 함수입니다. \n",
    "def get_encoded_sentences(sentences, word_to_index):\n",
    "    return [get_encoded_sentence(sentence, word_to_index) for sentence in sentences]\n",
    "\n",
    "# 숫자 벡터로 encode된 문장을 원래대로 decode하는 함수입니다. \n",
    "def get_decoded_sentence(encoded_sentence, index_to_word):\n",
    "    return ' '.join(index_to_word[index] if index in index_to_word else '<UNK>' for index in encoded_sentence[1:])  #[1:]를 통해 <BOS>를 제외\n",
    "\n",
    "# 여러 개의 숫자 벡터로 encode된 문장을 한꺼번에 원래대로 decode하는 함수입니다. \n",
    "def get_decoded_sentences(encoded_sentences, index_to_word):\n",
    "    return [get_decoded_sentence(encoded_sentence, index_to_word) for encoded_sentence in encoded_sentences]"
   ]
  },
  {
   "cell_type": "markdown",
   "id": "7e38d0d2",
   "metadata": {},
   "source": [
    "# 3. 모델 구성을 위한 데이터 분석 및 가공\n",
    "- padding 방식을 문장 뒤쪽('post')과 앞쪽('pre') 중 어느 쪽으로 하느냐에 따라 RNN을 이용한 딥러닝 적용 시 성능 차이가 발생\n",
    "- 마지막 입력이 무의미한 padding으로 채워지는 것은 비효율적이기 때문에 'pre'가 훨씬 유리"
   ]
  },
  {
   "cell_type": "code",
   "execution_count": 5,
   "id": "4df1f125",
   "metadata": {},
   "outputs": [
    {
     "name": "stdout",
     "output_type": "stream",
     "text": [
      "문장길이 평균 :  15.96940191154864\n",
      "문장길이 최대 :  116\n",
      "문장길이 표준편차 :  12.843571191092\n",
      "pad_sequences maxlen :  41\n",
      "전체 문장의 0.9342988343341575%가 maxlen 설정값 이내에 포함됩니다. \n"
     ]
    }
   ],
   "source": [
    "total_data_text = list(X_train) + list(X_test)\n",
    "\n",
    "# 텍스트데이터 문장길이의 리스트를 생성한 후\n",
    "num_tokens = [len(tokens) for tokens in total_data_text]\n",
    "num_tokens = np.array(num_tokens)\n",
    "# 문장길이의 평균값, 최대값, 표준편차를 계산해 본다. \n",
    "print('문장길이 평균 : ', np.mean(num_tokens))\n",
    "print('문장길이 최대 : ', np.max(num_tokens))\n",
    "print('문장길이 표준편차 : ', np.std(num_tokens))\n",
    "\n",
    "# 예를들어, 최대 길이를 (평균 + 2*표준편차)로 지정 \n",
    "max_tokens = np.mean(num_tokens) + 2 * np.std(num_tokens)\n",
    "maxlen = int(max_tokens)\n",
    "print('pad_sequences maxlen : ', maxlen)\n",
    "print('전체 문장의 {}%가 maxlen 설정값 이내에 포함됩니다. '.format(np.sum(num_tokens < max_tokens) / len(num_tokens)))"
   ]
  },
  {
   "cell_type": "code",
   "execution_count": 6,
   "id": "dffa018b",
   "metadata": {},
   "outputs": [
    {
     "name": "stdout",
     "output_type": "stream",
     "text": [
      "(146182, 41)\n",
      "(49157, 41)\n"
     ]
    }
   ],
   "source": [
    "X_train = keras.preprocessing.sequence.pad_sequences(X_train,\n",
    "                                                        value=word_to_index['<PAD>'],\n",
    "                                                        padding='pre',\n",
    "                                                        maxlen=maxlen)\n",
    "\n",
    "X_test = keras.preprocessing.sequence.pad_sequences(X_test,\n",
    "                                                       value=word_to_index['<PAD>'],\n",
    "                                                       padding='pre',\n",
    "                                                       maxlen=maxlen)\n",
    "\n",
    "print(X_train.shape)\n",
    "print(X_test.shape)"
   ]
  },
  {
   "cell_type": "code",
   "execution_count": 7,
   "id": "bf6506c5",
   "metadata": {},
   "outputs": [
    {
     "data": {
      "text/plain": [
       "array([  0,   0,   0,   0,   0,   0,   0,   0,   0,   0,   0,   0,   0,\n",
       "         0,   0,   0,   0,   0,   0,   0,   0,   0,   0,   0,   0,   0,\n",
       "         0,   0,   0,   0,   0,  32,  74, 919,   4,   4,  39, 228,  20,\n",
       "        33, 748], dtype=int32)"
      ]
     },
     "execution_count": 7,
     "metadata": {},
     "output_type": "execute_result"
    }
   ],
   "source": [
    "X_train[0]"
   ]
  },
  {
   "cell_type": "markdown",
   "id": "c25d0535",
   "metadata": {},
   "source": [
    "# 4. 모델 구성 및 validation set 구성"
   ]
  },
  {
   "cell_type": "code",
   "execution_count": 34,
   "id": "ca38102a",
   "metadata": {},
   "outputs": [
    {
     "name": "stdout",
     "output_type": "stream",
     "text": [
      "(136182, 41)\n",
      "(136182,)\n"
     ]
    }
   ],
   "source": [
    "# validation set 10000건 분리\n",
    "x_val = X_train[:10000]\n",
    "y_val = y_train[:10000]\n",
    "\n",
    "partial_x_train = X_train[10000:]\n",
    "partial_y_train = y_train[10000:]\n",
    "\n",
    "print(partial_x_train.shape)\n",
    "print(partial_y_train.shape)"
   ]
  },
  {
   "cell_type": "code",
   "execution_count": 54,
   "id": "16bc5059",
   "metadata": {},
   "outputs": [],
   "source": [
    "vocab_size = 10000    # 어휘 사전의 크기입니다(10,000개의 단어)\n",
    "word_vector_dim = 4  # 워드 벡터의 차원 수 (변경 가능한 하이퍼파라미터)"
   ]
  },
  {
   "cell_type": "markdown",
   "id": "a2a3a868",
   "metadata": {},
   "source": [
    "## (1) 1-D CNN"
   ]
  },
  {
   "cell_type": "code",
   "execution_count": 47,
   "id": "06a2fe7c",
   "metadata": {},
   "outputs": [
    {
     "name": "stdout",
     "output_type": "stream",
     "text": [
      "Model: \"sequential_10\"\n",
      "_________________________________________________________________\n",
      "Layer (type)                 Output Shape              Param #   \n",
      "=================================================================\n",
      "embedding_15 (Embedding)     (None, None, 4)           40000     \n",
      "_________________________________________________________________\n",
      "conv1d_10 (Conv1D)           (None, None, 16)          464       \n",
      "_________________________________________________________________\n",
      "max_pooling1d_5 (MaxPooling1 (None, None, 16)          0         \n",
      "_________________________________________________________________\n",
      "conv1d_11 (Conv1D)           (None, None, 16)          1808      \n",
      "_________________________________________________________________\n",
      "global_max_pooling1d_10 (Glo (None, 16)                0         \n",
      "_________________________________________________________________\n",
      "dense_30 (Dense)             (None, 8)                 136       \n",
      "_________________________________________________________________\n",
      "dense_31 (Dense)             (None, 1)                 9         \n",
      "=================================================================\n",
      "Total params: 42,417\n",
      "Trainable params: 42,417\n",
      "Non-trainable params: 0\n",
      "_________________________________________________________________\n"
     ]
    }
   ],
   "source": [
    "model1 = keras.Sequential()\n",
    "model1.add(keras.layers.Embedding(vocab_size, word_vector_dim, input_shape=(None,)))\n",
    "model1.add(keras.layers.Conv1D(16, 7, activation='relu'))\n",
    "model1.add(keras.layers.MaxPooling1D(5))\n",
    "model1.add(keras.layers.Conv1D(16, 7, activation='relu'))\n",
    "model1.add(keras.layers.GlobalMaxPooling1D())\n",
    "model1.add(keras.layers.Dense(8, activation='relu'))\n",
    "model1.add(keras.layers.Dense(1, activation='sigmoid'))  # 최종 출력은 긍정/부정을 나타내는 1dim 입니다.\n",
    "\n",
    "model1.summary()"
   ]
  },
  {
   "cell_type": "markdown",
   "id": "64bbb90a",
   "metadata": {},
   "source": [
    "## (2) LSTM"
   ]
  },
  {
   "cell_type": "code",
   "execution_count": 51,
   "id": "527cc5cb",
   "metadata": {},
   "outputs": [
    {
     "name": "stdout",
     "output_type": "stream",
     "text": [
      "Model: \"LSTM\"\n",
      "_________________________________________________________________\n",
      "Layer (type)                 Output Shape              Param #   \n",
      "=================================================================\n",
      "embedding_16 (Embedding)     (None, None, 4)           40000     \n",
      "_________________________________________________________________\n",
      "lstm_5 (LSTM)                (None, 8)                 416       \n",
      "_________________________________________________________________\n",
      "dense_32 (Dense)             (None, 8)                 72        \n",
      "_________________________________________________________________\n",
      "dense_33 (Dense)             (None, 1)                 9         \n",
      "=================================================================\n",
      "Total params: 40,497\n",
      "Trainable params: 40,497\n",
      "Non-trainable params: 0\n",
      "_________________________________________________________________\n"
     ]
    }
   ],
   "source": [
    "model2 = keras.Sequential(name='LSTM')\n",
    "model2.add(keras.layers.Embedding(vocab_size, word_vector_dim, input_shape=(None,)))\n",
    "model2.add(keras.layers.LSTM(8))\n",
    "model2.add(keras.layers.Dense(8, activation='relu'))\n",
    "model2.add(keras.layers.Dense(1, activation='sigmoid'))  # 최종 출력은 긍정/부정을 나타내는 1dim 입니다.\n",
    "\n",
    "model2.summary()"
   ]
  },
  {
   "cell_type": "markdown",
   "id": "f35f27fb",
   "metadata": {},
   "source": [
    "## (3) GlobalMaxPooling1D"
   ]
  },
  {
   "cell_type": "code",
   "execution_count": 55,
   "id": "2bc6b8fb",
   "metadata": {},
   "outputs": [
    {
     "name": "stdout",
     "output_type": "stream",
     "text": [
      "Model: \"sequential_11\"\n",
      "_________________________________________________________________\n",
      "Layer (type)                 Output Shape              Param #   \n",
      "=================================================================\n",
      "embedding_17 (Embedding)     (None, None, 4)           40000     \n",
      "_________________________________________________________________\n",
      "global_max_pooling1d_11 (Glo (None, 4)                 0         \n",
      "_________________________________________________________________\n",
      "dense_34 (Dense)             (None, 8)                 40        \n",
      "_________________________________________________________________\n",
      "dense_35 (Dense)             (None, 1)                 9         \n",
      "=================================================================\n",
      "Total params: 40,049\n",
      "Trainable params: 40,049\n",
      "Non-trainable params: 0\n",
      "_________________________________________________________________\n"
     ]
    }
   ],
   "source": [
    "model3 = keras.Sequential()\n",
    "model3.add(keras.layers.Embedding(vocab_size, word_vector_dim, input_shape=(None,)))\n",
    "model3.add(keras.layers.GlobalMaxPooling1D())\n",
    "model3.add(keras.layers.Dense(8, activation='relu'))\n",
    "model3.add(keras.layers.Dense(1, activation='sigmoid'))  # 최종 출력은 긍정/부정을 나타내는 1dim\n",
    "\n",
    "model3.summary()"
   ]
  },
  {
   "cell_type": "markdown",
   "id": "9097bf37",
   "metadata": {},
   "source": [
    "# 5. 모델 훈련 개시\n",
    "## (1) 1-D CNN\n",
    "- epochs 5 이후로 과접합이 일어나 val_accuracy가 낮아진다."
   ]
  },
  {
   "cell_type": "code",
   "execution_count": 48,
   "id": "dcd19818",
   "metadata": {},
   "outputs": [
    {
     "name": "stdout",
     "output_type": "stream",
     "text": [
      "Epoch 1/5\n",
      "266/266 [==============================] - 2s 5ms/step - loss: 0.5839 - accuracy: 0.7019 - val_loss: 0.4811 - val_accuracy: 0.8380\n",
      "Epoch 2/5\n",
      "266/266 [==============================] - 1s 4ms/step - loss: 0.4491 - accuracy: 0.8476 - val_loss: 0.4372 - val_accuracy: 0.8467\n",
      "Epoch 3/5\n",
      "266/266 [==============================] - 1s 4ms/step - loss: 0.3445 - accuracy: 0.8637 - val_loss: 0.3394 - val_accuracy: 0.8531\n",
      "Epoch 4/5\n",
      "266/266 [==============================] - 1s 4ms/step - loss: 0.3067 - accuracy: 0.8736 - val_loss: 0.3374 - val_accuracy: 0.8538\n",
      "Epoch 5/5\n",
      "266/266 [==============================] - 1s 4ms/step - loss: 0.2919 - accuracy: 0.8801 - val_loss: 0.3376 - val_accuracy: 0.8538\n"
     ]
    }
   ],
   "source": [
    "model1.compile(optimizer='adam',\n",
    "             loss='binary_crossentropy',\n",
    "             metrics=['accuracy'])\n",
    "            \n",
    "epochs=5\n",
    "\n",
    "history = model1.fit(partial_x_train,\n",
    "                   partial_y_train,\n",
    "                   epochs=epochs,\n",
    "                   batch_size=512,\n",
    "                   validation_data=(x_val, y_val),\n",
    "                   verbose=1)"
   ]
  },
  {
   "cell_type": "markdown",
   "id": "ce23c8e7",
   "metadata": {},
   "source": [
    "## (2) LSTM"
   ]
  },
  {
   "cell_type": "code",
   "execution_count": 52,
   "id": "bae7878d",
   "metadata": {},
   "outputs": [
    {
     "name": "stdout",
     "output_type": "stream",
     "text": [
      "Epoch 1/7\n",
      "266/266 [==============================] - 1s 4ms/step - loss: 0.2796 - accuracy: 0.8868 - val_loss: 0.3392 - val_accuracy: 0.8538\n",
      "Epoch 2/7\n",
      "266/266 [==============================] - 1s 4ms/step - loss: 0.2694 - accuracy: 0.8917 - val_loss: 0.3442 - val_accuracy: 0.8531\n",
      "Epoch 3/7\n",
      "266/266 [==============================] - 1s 4ms/step - loss: 0.2590 - accuracy: 0.8966 - val_loss: 0.3519 - val_accuracy: 0.8531\n",
      "Epoch 4/7\n",
      "266/266 [==============================] - 1s 4ms/step - loss: 0.2499 - accuracy: 0.9016 - val_loss: 0.3641 - val_accuracy: 0.8500\n",
      "Epoch 5/7\n",
      "266/266 [==============================] - 1s 4ms/step - loss: 0.2408 - accuracy: 0.9063 - val_loss: 0.3715 - val_accuracy: 0.8493\n",
      "Epoch 6/7\n",
      "266/266 [==============================] - 1s 4ms/step - loss: 0.2323 - accuracy: 0.9105 - val_loss: 0.3790 - val_accuracy: 0.8461\n",
      "Epoch 7/7\n",
      "266/266 [==============================] - 1s 4ms/step - loss: 0.2238 - accuracy: 0.9144 - val_loss: 0.3900 - val_accuracy: 0.8444\n"
     ]
    }
   ],
   "source": [
    "model2.compile(optimizer='adam',\n",
    "             loss='binary_crossentropy',\n",
    "             metrics=['accuracy'])\n",
    "            \n",
    "epochs=7\n",
    "\n",
    "history = model1.fit(partial_x_train,\n",
    "                   partial_y_train,\n",
    "                   epochs=epochs,\n",
    "                   batch_size=512,\n",
    "                   validation_data=(x_val, y_val),\n",
    "                   verbose=1)"
   ]
  },
  {
   "cell_type": "markdown",
   "id": "1e86f6b4",
   "metadata": {},
   "source": [
    "## (3) GlobalMaxPooling1D"
   ]
  },
  {
   "cell_type": "code",
   "execution_count": 56,
   "id": "1d2d2ff6",
   "metadata": {},
   "outputs": [
    {
     "name": "stdout",
     "output_type": "stream",
     "text": [
      "Epoch 1/10\n",
      "266/266 [==============================] - 1s 4ms/step - loss: 0.2164 - accuracy: 0.9190 - val_loss: 0.3989 - val_accuracy: 0.8405\n",
      "Epoch 2/10\n",
      "266/266 [==============================] - 1s 4ms/step - loss: 0.2091 - accuracy: 0.9225 - val_loss: 0.4117 - val_accuracy: 0.8432\n",
      "Epoch 3/10\n",
      "266/266 [==============================] - 1s 4ms/step - loss: 0.2031 - accuracy: 0.9252 - val_loss: 0.4255 - val_accuracy: 0.8437\n",
      "Epoch 4/10\n",
      "266/266 [==============================] - 1s 4ms/step - loss: 0.1976 - accuracy: 0.9280 - val_loss: 0.4405 - val_accuracy: 0.8367\n",
      "Epoch 5/10\n",
      "266/266 [==============================] - 1s 4ms/step - loss: 0.1916 - accuracy: 0.9310 - val_loss: 0.4474 - val_accuracy: 0.8372\n",
      "Epoch 6/10\n",
      "266/266 [==============================] - 1s 4ms/step - loss: 0.1867 - accuracy: 0.9335 - val_loss: 0.4613 - val_accuracy: 0.8362\n",
      "Epoch 7/10\n",
      "266/266 [==============================] - 1s 4ms/step - loss: 0.1822 - accuracy: 0.9354 - val_loss: 0.4701 - val_accuracy: 0.8359\n",
      "Epoch 8/10\n",
      "266/266 [==============================] - 1s 4ms/step - loss: 0.1780 - accuracy: 0.9371 - val_loss: 0.4878 - val_accuracy: 0.8321\n",
      "Epoch 9/10\n",
      "266/266 [==============================] - 1s 4ms/step - loss: 0.1738 - accuracy: 0.9400 - val_loss: 0.5075 - val_accuracy: 0.8328\n",
      "Epoch 10/10\n",
      "266/266 [==============================] - 1s 4ms/step - loss: 0.1694 - accuracy: 0.9421 - val_loss: 0.5155 - val_accuracy: 0.8301\n"
     ]
    }
   ],
   "source": [
    "model3.compile(optimizer='adam',\n",
    "             loss='binary_crossentropy',\n",
    "             metrics=['accuracy'])\n",
    "            \n",
    "epochs=10\n",
    "\n",
    "history = model1.fit(partial_x_train,\n",
    "                   partial_y_train,\n",
    "                   epochs=epochs,\n",
    "                   batch_size=512,\n",
    "                   validation_data=(x_val, y_val),\n",
    "                   verbose=1)"
   ]
  },
  {
   "cell_type": "markdown",
   "id": "99121a3a",
   "metadata": {},
   "source": [
    "# 6. Loss, Accuracy 그래프 시각화\n",
    "## (1) 1-D CNN"
   ]
  },
  {
   "cell_type": "code",
   "execution_count": 49,
   "id": "6168475e",
   "metadata": {},
   "outputs": [
    {
     "data": {
      "image/png": "[encoded data removed]",
      "text/plain": [
       "<Figure size 432x288 with 1 Axes>"
      ]
     },
     "metadata": {
      "needs_background": "light"
     },
     "output_type": "display_data"
    },
    {
     "data": {
      "image/png": "[encoded data removed]",
      "text/plain": [
       "<Figure size 432x288 with 1 Axes>"
      ]
     },
     "metadata": {
      "needs_background": "light"
     },
     "output_type": "display_data"
    }
   ],
   "source": [
    "history_dict = history.history\n",
    "\n",
    "import matplotlib.pyplot as plt\n",
    "\n",
    "acc = history_dict['accuracy']\n",
    "val_acc = history_dict['val_accuracy']\n",
    "loss = history_dict['loss']\n",
    "val_loss = history_dict['val_loss']\n",
    "\n",
    "epochs = range(1, len(acc) + 1)\n",
    "\n",
    "# \"bo\"는 \"파란색 점\"입니다\n",
    "plt.plot(epochs, loss, 'bo', label='Training loss')\n",
    "# b는 \"파란 실선\"입니다\n",
    "plt.plot(epochs, val_loss, 'b', label='Validation loss')\n",
    "plt.title('Training and validation loss')\n",
    "plt.xlabel('Epochs')\n",
    "plt.ylabel('Loss')\n",
    "plt.legend()\n",
    "\n",
    "plt.show()\n",
    "\n",
    "plt.clf()   # 그림을 초기화합니다\n",
    "\n",
    "plt.plot(epochs, acc, 'bo', label='Training acc')\n",
    "plt.plot(epochs, val_acc, 'b', label='Validation acc')\n",
    "plt.title('Training and validation accuracy')\n",
    "plt.xlabel('Epochs')\n",
    "plt.ylabel('Accuracy')\n",
    "plt.legend()\n",
    "\n",
    "plt.show()"
   ]
  },
  {
   "cell_type": "markdown",
   "id": "9aa8e29e",
   "metadata": {},
   "source": [
    "## (2) LSTM"
   ]
  },
  {
   "cell_type": "code",
   "execution_count": 53,
   "id": "833c2539",
   "metadata": {},
   "outputs": [
    {
     "data": {
      "image/png": "[encoded data removed]",
      "text/plain": [
       "<Figure size 432x288 with 1 Axes>"
      ]
     },
     "metadata": {
      "needs_background": "light"
     },
     "output_type": "display_data"
    },
    {
     "data": {
      "image/png": "[encoded data removed]",
      "text/plain": [
       "<Figure size 432x288 with 1 Axes>"
      ]
     },
     "metadata": {
      "needs_background": "light"
     },
     "output_type": "display_data"
    }
   ],
   "source": [
    "history_dict = history.history\n",
    "\n",
    "import matplotlib.pyplot as plt\n",
    "\n",
    "acc = history_dict['accuracy']\n",
    "val_acc = history_dict['val_accuracy']\n",
    "loss = history_dict['loss']\n",
    "val_loss = history_dict['val_loss']\n",
    "\n",
    "epochs = range(1, len(acc) + 1)\n",
    "\n",
    "# \"bo\"는 \"파란색 점\"입니다\n",
    "plt.plot(epochs, loss, 'bo', label='Training loss')\n",
    "# b는 \"파란 실선\"입니다\n",
    "plt.plot(epochs, val_loss, 'b', label='Validation loss')\n",
    "plt.title('Training and validation loss')\n",
    "plt.xlabel('Epochs')\n",
    "plt.ylabel('Loss')\n",
    "plt.legend()\n",
    "\n",
    "plt.show()\n",
    "\n",
    "plt.clf()   # 그림을 초기화합니다\n",
    "\n",
    "plt.plot(epochs, acc, 'bo', label='Training acc')\n",
    "plt.plot(epochs, val_acc, 'b', label='Validation acc')\n",
    "plt.title('Training and validation accuracy')\n",
    "plt.xlabel('Epochs')\n",
    "plt.ylabel('Accuracy')\n",
    "plt.legend()\n",
    "\n",
    "plt.show()"
   ]
  },
  {
   "cell_type": "markdown",
   "id": "7e4869ec",
   "metadata": {},
   "source": [
    "## (3) GlobalMaxPooling1D"
   ]
  },
  {
   "cell_type": "code",
   "execution_count": 57,
   "id": "7a34abef",
   "metadata": {},
   "outputs": [
    {
     "data": {
      "image/png": "[encoded data removed]",
      "text/plain": [
       "<Figure size 432x288 with 1 Axes>"
      ]
     },
     "metadata": {
      "needs_background": "light"
     },
     "output_type": "display_data"
    },
    {
     "data": {
      "image/png": "[encoded data removed]",
      "text/plain": [
       "<Figure size 432x288 with 1 Axes>"
      ]
     },
     "metadata": {
      "needs_background": "light"
     },
     "output_type": "display_data"
    }
   ],
   "source": [
    "history_dict = history.history\n",
    "\n",
    "import matplotlib.pyplot as plt\n",
    "\n",
    "acc = history_dict['accuracy']\n",
    "val_acc = history_dict['val_accuracy']\n",
    "loss = history_dict['loss']\n",
    "val_loss = history_dict['val_loss']\n",
    "\n",
    "epochs = range(1, len(acc) + 1)\n",
    "\n",
    "# \"bo\"는 \"파란색 점\"입니다\n",
    "plt.plot(epochs, loss, 'bo', label='Training loss')\n",
    "# b는 \"파란 실선\"입니다\n",
    "plt.plot(epochs, val_loss, 'b', label='Validation loss')\n",
    "plt.title('Training and validation loss')\n",
    "plt.xlabel('Epochs')\n",
    "plt.ylabel('Loss')\n",
    "plt.legend()\n",
    "\n",
    "plt.show()\n",
    "\n",
    "plt.clf()   # 그림을 초기화합니다\n",
    "\n",
    "plt.plot(epochs, acc, 'bo', label='Training acc')\n",
    "plt.plot(epochs, val_acc, 'b', label='Validation acc')\n",
    "plt.title('Training and validation accuracy')\n",
    "plt.xlabel('Epochs')\n",
    "plt.ylabel('Accuracy')\n",
    "plt.legend()\n",
    "\n",
    "plt.show()"
   ]
  },
  {
   "cell_type": "markdown",
   "id": "bf178b5c",
   "metadata": {},
   "source": [
    "# 7. 학습된 Embedding 레이어 분석"
   ]
  },
  {
   "cell_type": "code",
   "execution_count": 58,
   "id": "7b44f217",
   "metadata": {},
   "outputs": [
    {
     "name": "stdout",
     "output_type": "stream",
     "text": [
      "(10000, 4)\n"
     ]
    }
   ],
   "source": [
    "embedding_layer = model1.layers[0]\n",
    "weights = embedding_layer.get_weights()[0]\n",
    "print(weights.shape)    # shape: (vocab_size, embedding_dim)"
   ]
  },
  {
   "cell_type": "code",
   "execution_count": 60,
   "id": "a7367ea3",
   "metadata": {},
   "outputs": [],
   "source": [
    "# 학습한 Embedding 파라미터를 파일에 써서 저장합니다. \n",
    "word2vec_file_path = os.getenv('HOME')+'/aiffel/sentiment_classification/data/word2vec.txt'\n",
    "f = open(word2vec_file_path, 'w')\n",
    "f.write('{} {}\\n'.format(vocab_size-4, word_vector_dim))  # 몇개의 벡터를 얼마 사이즈로 기재할지 타이틀을 씁니다.\n",
    "\n",
    "# 단어 개수(에서 특수문자 4개는 제외하고)만큼의 워드 벡터를 파일에 기록합니다. \n",
    "vectors = model1.get_weights()[0]\n",
    "for i in range(4,vocab_size):\n",
    "    f.write('{} {}\\n'.format(index_to_word[i], ' '.join(map(str, list(vectors[i, :])))))\n",
    "f.close()"
   ]
  },
  {
   "cell_type": "code",
   "execution_count": 61,
   "id": "6f58f851",
   "metadata": {},
   "outputs": [
    {
     "data": {
      "text/plain": [
       "array([-0.01807852, -0.20211808, -0.14292519, -0.21055554], dtype=float32)"
      ]
     },
     "execution_count": 61,
     "metadata": {},
     "output_type": "execute_result"
    }
   ],
   "source": [
    "from gensim.models.keyedvectors import Word2VecKeyedVectors\n",
    "\n",
    "word_vectors = Word2VecKeyedVectors.load_word2vec_format(word2vec_file_path, binary=False)\n",
    "vector = word_vectors['명작']\n",
    "vector"
   ]
  },
  {
   "cell_type": "code",
   "execution_count": 62,
   "id": "28798d60",
   "metadata": {},
   "outputs": [
    {
     "data": {
      "text/plain": [
       "[('출', 0.9985035061836243),\n",
       " ('곽', 0.9984423518180847),\n",
       " ('쿠바', 0.997645914554596),\n",
       " ('뺐', 0.9968776702880859),\n",
       " ('꼬맹이', 0.9967271089553833),\n",
       " ('미칠', 0.9963586330413818),\n",
       " ('베스트', 0.9962886571884155),\n",
       " ('비롯', 0.9952020645141602),\n",
       " ('진솔', 0.9950496554374695),\n",
       " ('내년', 0.9933837056159973)]"
      ]
     },
     "execution_count": 62,
     "metadata": {},
     "output_type": "execute_result"
    }
   ],
   "source": [
    "word_vectors.similar_by_word(\"명작\")"
   ]
  },
  {
   "cell_type": "code",
   "execution_count": 63,
   "id": "1cdcc0f8",
   "metadata": {},
   "outputs": [
    {
     "data": {
      "text/plain": [
       "[('선조', 0.9998329281806946),\n",
       " ('디워', 0.9993906617164612),\n",
       " ('조잡', 0.9983333349227905),\n",
       " ('1970', 0.9981253743171692),\n",
       " ('얼간', 0.9974958896636963),\n",
       " ('불만', 0.9969884157180786),\n",
       " ('오광록', 0.9966535568237305),\n",
       " ('나잇', 0.995598316192627),\n",
       " ('센터', 0.995398759841919),\n",
       " ('김대희', 0.9953517913818359)]"
      ]
     },
     "execution_count": 63,
     "metadata": {},
     "output_type": "execute_result"
    }
   ],
   "source": [
    "word_vectors.similar_by_word(\"최악\")"
   ]
  },
  {
   "cell_type": "markdown",
   "id": "debd0e00",
   "metadata": {},
   "source": [
    "# 8. 한국어 Word2Vec 임베딩 활용하여 성능 개선\n",
    "- gensim 버전을 3.x.x로 낮춰야 오류가 나지 않습니다."
   ]
  },
  {
   "cell_type": "code",
   "execution_count": 64,
   "id": "90fe285c",
   "metadata": {},
   "outputs": [
    {
     "data": {
      "text/plain": [
       "'4.1.2'"
      ]
     },
     "execution_count": 64,
     "metadata": {},
     "output_type": "execute_result"
    }
   ],
   "source": [
    "import gensim\n",
    "gensim.__version__"
   ]
  },
  {
   "cell_type": "code",
   "execution_count": null,
   "id": "86477686",
   "metadata": {},
   "outputs": [],
   "source": [
    "! pip uninstall gensim\n",
    "! pip install gensim==3.4.0 --yes "
   ]
  },
  {
   "cell_type": "code",
   "execution_count": null,
   "id": "be32c626",
   "metadata": {},
   "outputs": [],
   "source": [
    "from gensim.models import KeyedVectors\n",
    "\n",
    "word2vec_path = os.getenv('HOME')+'/aiffel/sentiment_classification/data/ko.bin'\n",
    "#word2vec = KeyedVectors.load_word2vec_format(word2vec_path, binary=True, limit=1000000)\n",
    "vector = word2vec['명작']\n",
    "vector     # 무려 300dim의 워드 벡터입니다."
   ]
  },
  {
   "cell_type": "markdown",
   "id": "ad977fcb",
   "metadata": {},
   "source": [
    "# 9. 회고\n",
    "### <이번 프로젝트에서 어려웠던 점>\n",
    "근 5일동안 exploration 5만 붙잡느라 정신적 에너지를 많이 소모해 exploratioon6에 손대기까지 시간이 오래 걸렸다.   \n",
    "그래도 막상 하니 재미는 있었다. 5에 비해서는 조금 쉬운 것 같아서 다행이었다.   \n",
    "어쩐지 너무 순조롭게 잘 되더라. 제출 20분 전에 재로그인하고 파일이 싹 날아갔다 ㅋㅋ   \n",
    "처음엔 괜찮았는데 다시 하면서 없었던 오류가 나기 시작하니 화가 났다.  \n",
    "이게 젤 어려웠던 점이다.   \n",
    "\n",
    "### <프로젝트를 진행하면서 알아낸 점 혹은 아직 모호한 점>\n",
    "(1) 주피터 노트북   \n",
    "주피터 노트북을 처음 사용해보는데, colab에 비하면 상당히 불편하다는 점.   \n",
    "intall을 해줄 때 y를 입력하거나 -y로는 옵션이 먹히지 않는 다는 점.   \n",
    "따라서 intall y/n 처리를 해주기 위해서는 아래 방법 중 선택해야 한다.   \n",
    "- echo \"y\" | !pip install [설치하고자 하는 패키지명] # []는 제외하고 패키지 이름만 쓸 것\n",
    "- !pip install [설치하고자 하는 패키지명] --yes # []는 제외하고 패키지 이름만 쓸 것\n",
    "\n",
    "\n",
    "(2) PAD\n",
    "처음에 할 때는 tokenizer 상에서 PAD 해준게 먹히지 않았다.   \n",
    "그래서 따로 설정해줬는데 새롭게 다시 하니까 되네...?   \n",
    "분명 할 때마다 같은 조건으로 RUN 해주는데 왜 자꾸 결과물과 오류는 달라지는지 알 수가 없는 일이다.\n",
    "\n",
    "\n",
    "\n",
    "### <루브릭 평가 지표를 맞추기 위해 시도한 것들>\n",
    "word_vector_dim 파라미터와 epochs를 조절해 85% 이상을 얻으려고 노력했다.   \n",
    "\n",
    "\n",
    "### <만약에 루브릭 평가 관련 지표를 달성 하지 못했을 때, 이유에 관한 추정>\n",
    "없음\n",
    "\n",
    "\n",
    "### <자기 다짐>\n",
    "적당히 하자... 적당히"
   ]
  },
  {
   "cell_type": "markdown",
   "id": "b3708ef9",
   "metadata": {},
   "source": [
    "## 10. Reference\n",
    "1. 주피터 노트북 install : https://vg-rlo.tistory.com/134 [vg-rlo]"
   ]
  }
 ],
 "metadata": {
  "kernelspec": {
   "display_name": "Python 3 (ipykernel)",
   "language": "python",
   "name": "python3"
  },
  "language_info": {
   "codemirror_mode": {
    "name": "ipython",
    "version": 3
   },
   "file_extension": ".py",
   "mimetype": "text/x-python",
   "name": "python",
   "nbconvert_exporter": "python",
   "pygments_lexer": "ipython3",
   "version": "3.9.7"
  }
 },
 "nbformat": 4,
 "nbformat_minor": 5
}
