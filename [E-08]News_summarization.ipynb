{
 "cells": [
  {
   "cell_type": "markdown",
   "id": "1ad172fa",
   "metadata": {},
   "source": [
    "# 프로젝트 : 뉴스기사 요약해보기\n",
    "\n",
    "## <목차>\n",
    "### Step 1. 데이터 수집하기   \n",
    "### Step 2. 데이터 전처리하기 (추상적 요약)   \n",
    "(1)중복 샘플과 NULL 값이 존재하는 샘플 제거   \n",
    "(2)텍스트 정규화와 불용어 제거   \n",
    "(3) 샘플의 최대 길이 정하기   \n",
    "(4) 시작 토큰과 종료 토큰 추가하기   \n",
    "(5) 단어 집합(vocabulary) 만들기 및 정수 인코딩   \n",
    "(6) 패딩하기   \n",
    "### Step 3. 어텐션 메커니즘 사용하기 (추상적 요약)   \n",
    "### Step 4. 실제 결과와 요약문 비교하기 (추상적 요약)   \n",
    "### Step 5. Summa을 이용해서 추출적 요약해보기\n",
    "(1) 데이터 다운로드   \n",
    "(2) summarize 사용하기   \n",
    "### 🤔회고🤔\n",
    "\n",
    "# Step 1. 데이터 수집하기"
   ]
  },
  {
   "cell_type": "code",
   "execution_count": 1,
   "id": "7e760600",
   "metadata": {},
   "outputs": [
    {
     "name": "stderr",
     "output_type": "stream",
     "text": [
      "[nltk_data] Downloading package stopwords to /aiffel/nltk_data...\n",
      "[nltk_data]   Package stopwords is already up-to-date!\n"
     ]
    },
    {
     "name": "stdout",
     "output_type": "stream",
     "text": [
      "패키지 준비 완료!\n"
     ]
    }
   ],
   "source": [
    "import nltk\n",
    "nltk.download('stopwords')\n",
    "\n",
    "import numpy as np\n",
    "import pandas as pd\n",
    "import os\n",
    "import re\n",
    "import matplotlib.pyplot as plt\n",
    "from nltk.corpus import stopwords\n",
    "from bs4 import BeautifulSoup \n",
    "from tensorflow.keras.preprocessing.text import Tokenizer \n",
    "from tensorflow.keras.preprocessing.sequence import pad_sequences\n",
    "import urllib.request\n",
    "import warnings\n",
    "warnings.filterwarnings(\"ignore\", category=UserWarning, module='bs4')\n",
    "\n",
    "print('패키지 준비 완료!')"
   ]
  },
  {
   "cell_type": "code",
   "execution_count": 5,
   "id": "9af44ad2",
   "metadata": {},
   "outputs": [
    {
     "name": "stdout",
     "output_type": "stream",
     "text": [
      "전체 샘플수 : 98401\n"
     ]
    },
    {
     "data": {
      "text/html": [
       "<div>\n",
       "<style scoped>\n",
       "    .dataframe tbody tr th:only-of-type {\n",
       "        vertical-align: middle;\n",
       "    }\n",
       "\n",
       "    .dataframe tbody tr th {\n",
       "        vertical-align: top;\n",
       "    }\n",
       "\n",
       "    .dataframe thead th {\n",
       "        text-align: right;\n",
       "    }\n",
       "</style>\n",
       "<table border=\"1\" class=\"dataframe\">\n",
       "  <thead>\n",
       "    <tr style=\"text-align: right;\">\n",
       "      <th></th>\n",
       "      <th>headlines</th>\n",
       "      <th>text</th>\n",
       "    </tr>\n",
       "  </thead>\n",
       "  <tbody>\n",
       "    <tr>\n",
       "      <th>49952</th>\n",
       "      <td>14-year-old Navi Mumbai boy smashes 1,045 runs...</td>\n",
       "      <td>Tanishq Gavate, a 14-year-old Navi Mumbai stud...</td>\n",
       "    </tr>\n",
       "    <tr>\n",
       "      <th>73796</th>\n",
       "      <td>ISIS planned to blow up Aus plane using 'Barbi...</td>\n",
       "      <td>The Islamic State planned to blow up a plane i...</td>\n",
       "    </tr>\n",
       "    <tr>\n",
       "      <th>86469</th>\n",
       "      <td>6 killed, 20 injured in two terrorist attacks ...</td>\n",
       "      <td>At least six people died and 20 injured after ...</td>\n",
       "    </tr>\n",
       "    <tr>\n",
       "      <th>10267</th>\n",
       "      <td>Don't think users should focus on follower cou...</td>\n",
       "      <td>Talking about users' emphasis on the number of...</td>\n",
       "    </tr>\n",
       "    <tr>\n",
       "      <th>88981</th>\n",
       "      <td>BJP's BP Mishra most active MP, has 100% atten...</td>\n",
       "      <td>BJP's Bhairon Prasad Mishra, who is a Lok Sabh...</td>\n",
       "    </tr>\n",
       "    <tr>\n",
       "      <th>30014</th>\n",
       "      <td>Allahabad Mayor's car shows no number on licen...</td>\n",
       "      <td>Allahabad Mayor Abhilasha Gupta was seen trave...</td>\n",
       "    </tr>\n",
       "    <tr>\n",
       "      <th>13979</th>\n",
       "      <td>S Korea won't lift N Korea sanctions without U...</td>\n",
       "      <td>US President Donald Trump has said South Korea...</td>\n",
       "    </tr>\n",
       "    <tr>\n",
       "      <th>60232</th>\n",
       "      <td>Western Railway launches online feedback syste...</td>\n",
       "      <td>Western Railway on Sunday launched an online f...</td>\n",
       "    </tr>\n",
       "    <tr>\n",
       "      <th>26761</th>\n",
       "      <td>Diljit gifted former captain Sandeep Singh's h...</td>\n",
       "      <td>Actor Diljit Dosanjh was gifted former Indian ...</td>\n",
       "    </tr>\n",
       "    <tr>\n",
       "      <th>40962</th>\n",
       "      <td>I-T Dept sends notice to company of Chanda Koc...</td>\n",
       "      <td>The Income Tax Department has sent a notice to...</td>\n",
       "    </tr>\n",
       "  </tbody>\n",
       "</table>\n",
       "</div>"
      ],
      "text/plain": [
       "                                               headlines  \\\n",
       "49952  14-year-old Navi Mumbai boy smashes 1,045 runs...   \n",
       "73796  ISIS planned to blow up Aus plane using 'Barbi...   \n",
       "86469  6 killed, 20 injured in two terrorist attacks ...   \n",
       "10267  Don't think users should focus on follower cou...   \n",
       "88981  BJP's BP Mishra most active MP, has 100% atten...   \n",
       "30014  Allahabad Mayor's car shows no number on licen...   \n",
       "13979  S Korea won't lift N Korea sanctions without U...   \n",
       "60232  Western Railway launches online feedback syste...   \n",
       "26761  Diljit gifted former captain Sandeep Singh's h...   \n",
       "40962  I-T Dept sends notice to company of Chanda Koc...   \n",
       "\n",
       "                                                    text  \n",
       "49952  Tanishq Gavate, a 14-year-old Navi Mumbai stud...  \n",
       "73796  The Islamic State planned to blow up a plane i...  \n",
       "86469  At least six people died and 20 injured after ...  \n",
       "10267  Talking about users' emphasis on the number of...  \n",
       "88981  BJP's Bhairon Prasad Mishra, who is a Lok Sabh...  \n",
       "30014  Allahabad Mayor Abhilasha Gupta was seen trave...  \n",
       "13979  US President Donald Trump has said South Korea...  \n",
       "60232  Western Railway on Sunday launched an online f...  \n",
       "26761  Actor Diljit Dosanjh was gifted former Indian ...  \n",
       "40962  The Income Tax Department has sent a notice to...  "
      ]
     },
     "execution_count": 5,
     "metadata": {},
     "output_type": "execute_result"
    }
   ],
   "source": [
    "import urllib.request\n",
    "urllib.request.urlretrieve(\"https://raw.githubusercontent.com/sunnysai12345/News_Summary/master/news_summary_more.csv\", filename=\"news_summary_more.csv\")\n",
    "data = pd.read_csv('news_summary_more.csv', encoding='iso-8859-1')\n",
    "\n",
    "print('전체 샘플수 :', (len(data)))\n",
    "data.sample(10)"
   ]
  },
  {
   "cell_type": "code",
   "execution_count": null,
   "id": "2dd293be",
   "metadata": {},
   "outputs": [],
   "source": []
  },
  {
   "cell_type": "markdown",
   "id": "aced777d",
   "metadata": {},
   "source": [
    "# Step 2. 데이터 전처리하기 (추상적 요약)\n",
    "## (1)중복 샘플과 NULL 값이 존재하는 샘플 제거"
   ]
  },
  {
   "cell_type": "code",
   "execution_count": 7,
   "id": "900ee9a7",
   "metadata": {},
   "outputs": [
    {
     "name": "stdout",
     "output_type": "stream",
     "text": [
      "text 열에서 중복을 배제한 유일한 샘플의 수 : 98360\n",
      "headlines 열에서 중복을 배제한 유일한 샘플의 수 : 98280\n"
     ]
    }
   ],
   "source": [
    "print('text 열에서 중복을 배제한 유일한 샘플의 수 :', data['text'].nunique())\n",
    "print('headlines 열에서 중복을 배제한 유일한 샘플의 수 :', data['headlines'].nunique())"
   ]
  },
  {
   "cell_type": "code",
   "execution_count": 8,
   "id": "78c88a3b",
   "metadata": {},
   "outputs": [
    {
     "name": "stdout",
     "output_type": "stream",
     "text": [
      "전체 샘플수 : 98360\n"
     ]
    }
   ],
   "source": [
    "# inplace=True 를 설정하면 DataFrame 타입 값을 return 하지 않고 data 내부를 직접적으로 바꿉니다\n",
    "data.drop_duplicates(subset = ['text'], inplace=True)\n",
    "print('전체 샘플수 :', (len(data)))"
   ]
  },
  {
   "cell_type": "markdown",
   "id": "b1bf62bc",
   "metadata": {},
   "source": [
    "- 데이터프레임에 Null 값이 있는지 확인\n",
    "- Null 값이 없기 때문에 null 값 제거하지 않아도 됨"
   ]
  },
  {
   "cell_type": "code",
   "execution_count": 9,
   "id": "53548140",
   "metadata": {},
   "outputs": [
    {
     "name": "stdout",
     "output_type": "stream",
     "text": [
      "headlines    0\n",
      "text         0\n",
      "dtype: int64\n"
     ]
    }
   ],
   "source": [
    "print(data.isnull().sum())"
   ]
  },
  {
   "cell_type": "markdown",
   "id": "83d82d2d",
   "metadata": {},
   "source": [
    "## (2)텍스트 정규화와 불용어 제거"
   ]
  },
  {
   "cell_type": "code",
   "execution_count": 10,
   "id": "9c2b42db",
   "metadata": {},
   "outputs": [
    {
     "name": "stdout",
     "output_type": "stream",
     "text": [
      "정규화 사전의 수:  120\n"
     ]
    }
   ],
   "source": [
    "contractions = {\"ain't\": \"is not\", \"aren't\": \"are not\",\"can't\": \"cannot\", \"'cause\": \"because\", \"could've\": \"could have\", \"couldn't\": \"could not\",\n",
    "                           \"didn't\": \"did not\",  \"doesn't\": \"does not\", \"don't\": \"do not\", \"hadn't\": \"had not\", \"hasn't\": \"has not\", \"haven't\": \"have not\",\n",
    "                           \"he'd\": \"he would\",\"he'll\": \"he will\", \"he's\": \"he is\", \"how'd\": \"how did\", \"how'd'y\": \"how do you\", \"how'll\": \"how will\", \"how's\": \"how is\",\n",
    "                           \"I'd\": \"I would\", \"I'd've\": \"I would have\", \"I'll\": \"I will\", \"I'll've\": \"I will have\",\"I'm\": \"I am\", \"I've\": \"I have\", \"i'd\": \"i would\",\n",
    "                           \"i'd've\": \"i would have\", \"i'll\": \"i will\",  \"i'll've\": \"i will have\",\"i'm\": \"i am\", \"i've\": \"i have\", \"isn't\": \"is not\", \"it'd\": \"it would\",\n",
    "                           \"it'd've\": \"it would have\", \"it'll\": \"it will\", \"it'll've\": \"it will have\",\"it's\": \"it is\", \"let's\": \"let us\", \"ma'am\": \"madam\",\n",
    "                           \"mayn't\": \"may not\", \"might've\": \"might have\",\"mightn't\": \"might not\",\"mightn't've\": \"might not have\", \"must've\": \"must have\",\n",
    "                           \"mustn't\": \"must not\", \"mustn't've\": \"must not have\", \"needn't\": \"need not\", \"needn't've\": \"need not have\",\"o'clock\": \"of the clock\",\n",
    "                           \"oughtn't\": \"ought not\", \"oughtn't've\": \"ought not have\", \"shan't\": \"shall not\", \"sha'n't\": \"shall not\", \"shan't've\": \"shall not have\",\n",
    "                           \"she'd\": \"she would\", \"she'd've\": \"she would have\", \"she'll\": \"she will\", \"she'll've\": \"she will have\", \"she's\": \"she is\",\n",
    "                           \"should've\": \"should have\", \"shouldn't\": \"should not\", \"shouldn't've\": \"should not have\", \"so've\": \"so have\",\"so's\": \"so as\",\n",
    "                           \"this's\": \"this is\",\"that'd\": \"that would\", \"that'd've\": \"that would have\", \"that's\": \"that is\", \"there'd\": \"there would\",\n",
    "                           \"there'd've\": \"there would have\", \"there's\": \"there is\", \"here's\": \"here is\",\"they'd\": \"they would\", \"they'd've\": \"they would have\",\n",
    "                           \"they'll\": \"they will\", \"they'll've\": \"they will have\", \"they're\": \"they are\", \"they've\": \"they have\", \"to've\": \"to have\",\n",
    "                           \"wasn't\": \"was not\", \"we'd\": \"we would\", \"we'd've\": \"we would have\", \"we'll\": \"we will\", \"we'll've\": \"we will have\", \"we're\": \"we are\",\n",
    "                           \"we've\": \"we have\", \"weren't\": \"were not\", \"what'll\": \"what will\", \"what'll've\": \"what will have\", \"what're\": \"what are\",\n",
    "                           \"what's\": \"what is\", \"what've\": \"what have\", \"when's\": \"when is\", \"when've\": \"when have\", \"where'd\": \"where did\", \"where's\": \"where is\",\n",
    "                           \"where've\": \"where have\", \"who'll\": \"who will\", \"who'll've\": \"who will have\", \"who's\": \"who is\", \"who've\": \"who have\",\n",
    "                           \"why's\": \"why is\", \"why've\": \"why have\", \"will've\": \"will have\", \"won't\": \"will not\", \"won't've\": \"will not have\",\n",
    "                           \"would've\": \"would have\", \"wouldn't\": \"would not\", \"wouldn't've\": \"would not have\", \"y'all\": \"you all\",\n",
    "                           \"y'all'd\": \"you all would\",\"y'all'd've\": \"you all would have\",\"y'all're\": \"you all are\",\"y'all've\": \"you all have\",\n",
    "                           \"you'd\": \"you would\", \"you'd've\": \"you would have\", \"you'll\": \"you will\", \"you'll've\": \"you will have\",\n",
    "                           \"you're\": \"you are\", \"you've\": \"you have\"}\n",
    "\n",
    "print(\"정규화 사전의 수: \", len(contractions))"
   ]
  },
  {
   "cell_type": "code",
   "execution_count": 11,
   "id": "97871f34",
   "metadata": {},
   "outputs": [
    {
     "name": "stdout",
     "output_type": "stream",
     "text": [
      "불용어 개수 : 179\n",
      "['i', 'me', 'my', 'myself', 'we', 'our', 'ours', 'ourselves', 'you', \"you're\", \"you've\", \"you'll\", \"you'd\", 'your', 'yours', 'yourself', 'yourselves', 'he', 'him', 'his', 'himself', 'she', \"she's\", 'her', 'hers', 'herself', 'it', \"it's\", 'its', 'itself', 'they', 'them', 'their', 'theirs', 'themselves', 'what', 'which', 'who', 'whom', 'this', 'that', \"that'll\", 'these', 'those', 'am', 'is', 'are', 'was', 'were', 'be', 'been', 'being', 'have', 'has', 'had', 'having', 'do', 'does', 'did', 'doing', 'a', 'an', 'the', 'and', 'but', 'if', 'or', 'because', 'as', 'until', 'while', 'of', 'at', 'by', 'for', 'with', 'about', 'against', 'between', 'into', 'through', 'during', 'before', 'after', 'above', 'below', 'to', 'from', 'up', 'down', 'in', 'out', 'on', 'off', 'over', 'under', 'again', 'further', 'then', 'once', 'here', 'there', 'when', 'where', 'why', 'how', 'all', 'any', 'both', 'each', 'few', 'more', 'most', 'other', 'some', 'such', 'no', 'nor', 'not', 'only', 'own', 'same', 'so', 'than', 'too', 'very', 's', 't', 'can', 'will', 'just', 'don', \"don't\", 'should', \"should've\", 'now', 'd', 'll', 'm', 'o', 're', 've', 'y', 'ain', 'aren', \"aren't\", 'couldn', \"couldn't\", 'didn', \"didn't\", 'doesn', \"doesn't\", 'hadn', \"hadn't\", 'hasn', \"hasn't\", 'haven', \"haven't\", 'isn', \"isn't\", 'ma', 'mightn', \"mightn't\", 'mustn', \"mustn't\", 'needn', \"needn't\", 'shan', \"shan't\", 'shouldn', \"shouldn't\", 'wasn', \"wasn't\", 'weren', \"weren't\", 'won', \"won't\", 'wouldn', \"wouldn't\"]\n"
     ]
    }
   ],
   "source": [
    "print('불용어 개수 :', len(stopwords.words('english') ))\n",
    "print(stopwords.words('english'))"
   ]
  },
  {
   "cell_type": "code",
   "execution_count": 12,
   "id": "e63de579",
   "metadata": {},
   "outputs": [
    {
     "name": "stdout",
     "output_type": "stream",
     "text": [
      "전처리 완료!\n"
     ]
    }
   ],
   "source": [
    "# 데이터 전처리 함수\n",
    "def preprocess_sentence(sentence, remove_stopwords=True):\n",
    "    sentence = sentence.lower() # 텍스트 소문자화\n",
    "    sentence = BeautifulSoup(sentence, \"lxml\").text # <br />, <a href = ...> 등의 html 태그 제거\n",
    "    sentence = re.sub(r'\\([^)]*\\)', '', sentence) # 괄호로 닫힌 문자열 (...) 제거 Ex) my husband (and myself!) for => my husband for\n",
    "    sentence = re.sub('\"','', sentence) # 쌍따옴표 \" 제거\n",
    "    sentence = ' '.join([contractions[t] if t in contractions else t for t in sentence.split(\" \")]) # 약어 정규화\n",
    "    sentence = re.sub(r\"'s\\b\",\"\", sentence) # 소유격 제거. Ex) roland's -> roland\n",
    "    sentence = re.sub(\"[^a-zA-Z]\", \" \", sentence) # 영어 외 문자(숫자, 특수문자 등) 공백으로 변환\n",
    "    sentence = re.sub('[m]{2,}', 'mm', sentence) # m이 3개 이상이면 2개로 변경. Ex) ummmmmmm yeah -> umm yeah\n",
    "    \n",
    "    # 불용어 제거 (Text)\n",
    "    if remove_stopwords:\n",
    "        tokens = ' '.join(word for word in sentence.split() if not word in stopwords.words('english') if len(word) > 1)\n",
    "    # 불용어 미제거 (Summary)\n",
    "    else:\n",
    "        tokens = ' '.join(word for word in sentence.split() if len(word) > 1)\n",
    "    return tokens\n",
    "print('전처리 완료!')"
   ]
  },
  {
   "cell_type": "markdown",
   "id": "9e72f1b8",
   "metadata": {},
   "source": [
    "## (3) 샘플의 최대 길이 정하기"
   ]
  },
  {
   "cell_type": "code",
   "execution_count": 14,
   "id": "16468b76",
   "metadata": {},
   "outputs": [
    {
     "name": "stdout",
     "output_type": "stream",
     "text": [
      "텍스트의 최소 길이 : 1\n",
      "텍스트의 최대 길이 : 91\n",
      "텍스트의 평균 길이 : 58.23813542090281\n",
      "요약의 최소 길이 : 1\n",
      "요약의 최대 길이 : 18\n",
      "요약의 평균 길이 : 9.553660024400163\n"
     ]
    },
    {
     "data": {
      "image/png": "[encoded data removed]",
      "text/plain": [
       "<Figure size 432x288 with 2 Axes>"
      ]
     },
     "metadata": {
      "needs_background": "light"
     },
     "output_type": "display_data"
    },
    {
     "data": {
      "image/png": "[encoded data removed]",
      "text/plain": [
       "<Figure size 432x288 with 1 Axes>"
      ]
     },
     "metadata": {
      "needs_background": "light"
     },
     "output_type": "display_data"
    },
    {
     "data": {
      "image/png": "[encoded data removed]",
      "text/plain": [
       "<Figure size 432x288 with 1 Axes>"
      ]
     },
     "metadata": {
      "needs_background": "light"
     },
     "output_type": "display_data"
    }
   ],
   "source": [
    "# 길이 분포 출력\n",
    "import matplotlib.pyplot as plt\n",
    "\n",
    "text_len = [len(s.split()) for s in data['text']]\n",
    "headlines_len = [len(s.split()) for s in data['headlines']]\n",
    "\n",
    "print('텍스트의 최소 길이 : {}'.format(np.min(text_len)))\n",
    "print('텍스트의 최대 길이 : {}'.format(np.max(text_len)))\n",
    "print('텍스트의 평균 길이 : {}'.format(np.mean(text_len)))\n",
    "print('요약의 최소 길이 : {}'.format(np.min(headlines_len)))\n",
    "print('요약의 최대 길이 : {}'.format(np.max(headlines_len)))\n",
    "print('요약의 평균 길이 : {}'.format(np.mean(headlines_len)))\n",
    "\n",
    "plt.subplot(1,2,1)\n",
    "plt.boxplot(text_len)\n",
    "plt.title('Text')\n",
    "plt.subplot(1,2,2)\n",
    "plt.boxplot(headlines_len)\n",
    "plt.title('Headlines')\n",
    "plt.tight_layout()\n",
    "plt.show()\n",
    "\n",
    "plt.title('Text')\n",
    "plt.hist(text_len, bins = 40)\n",
    "plt.xlabel('length of samples')\n",
    "plt.ylabel('number of samples')\n",
    "plt.show()\n",
    "\n",
    "plt.title('Headlines')\n",
    "plt.hist(headlines_len, bins = 40)\n",
    "plt.xlabel('length of samples')\n",
    "plt.ylabel('number of samples')\n",
    "plt.show()"
   ]
  },
  {
   "cell_type": "code",
   "execution_count": 20,
   "id": "811edfa0",
   "metadata": {},
   "outputs": [
    {
     "name": "stdout",
     "output_type": "stream",
     "text": [
      "=3\n"
     ]
    }
   ],
   "source": [
    "text_max_len = 62\n",
    "headlines_max_len = 13\n",
    "print('=3')"
   ]
  },
  {
   "cell_type": "code",
   "execution_count": 21,
   "id": "1294688a",
   "metadata": {},
   "outputs": [
    {
     "name": "stdout",
     "output_type": "stream",
     "text": [
      "=3\n"
     ]
    }
   ],
   "source": [
    "def below_threshold_len(max_len, nested_list):\n",
    "  cnt = 0\n",
    "  for s in nested_list:\n",
    "    if(len(s.split()) <= max_len):\n",
    "        cnt = cnt + 1\n",
    "  print('전체 샘플 중 길이가 %s 이하인 샘플의 비율: %s'%(max_len, (cnt / len(nested_list))))\n",
    "print('=3')"
   ]
  },
  {
   "cell_type": "code",
   "execution_count": 22,
   "id": "3f00a5a9",
   "metadata": {},
   "outputs": [
    {
     "name": "stdout",
     "output_type": "stream",
     "text": [
      "전체 샘플 중 길이가 62 이하인 샘플의 비율: 0.9997153314355429\n",
      "전체 샘플 중 길이가 13 이하인 샘플의 비율: 0.9957706384709232\n"
     ]
    }
   ],
   "source": [
    "below_threshold_len(text_max_len, data['text'])\n",
    "below_threshold_len(headlines_max_len,  data['headlines'])"
   ]
  },
  {
   "cell_type": "code",
   "execution_count": 23,
   "id": "d1b1191b",
   "metadata": {},
   "outputs": [
    {
     "name": "stdout",
     "output_type": "stream",
     "text": [
      "전체 샘플수 : 97916\n"
     ]
    }
   ],
   "source": [
    "data = data[data['text'].apply(lambda x: len(x.split()) <= text_max_len)]\n",
    "data = data[data['headlines'].apply(lambda x: len(x.split()) <= headlines_max_len)]\n",
    "print('전체 샘플수 :', (len(data)))"
   ]
  },
  {
   "cell_type": "markdown",
   "id": "e5cd8755",
   "metadata": {},
   "source": [
    "## (4) 시작 토큰과 종료 토큰 추가하기"
   ]
  },
  {
   "cell_type": "code",
   "execution_count": 24,
   "id": "0c8ff42a",
   "metadata": {},
   "outputs": [
    {
     "data": {
      "text/html": [
       "<div>\n",
       "<style scoped>\n",
       "    .dataframe tbody tr th:only-of-type {\n",
       "        vertical-align: middle;\n",
       "    }\n",
       "\n",
       "    .dataframe tbody tr th {\n",
       "        vertical-align: top;\n",
       "    }\n",
       "\n",
       "    .dataframe thead th {\n",
       "        text-align: right;\n",
       "    }\n",
       "</style>\n",
       "<table border=\"1\" class=\"dataframe\">\n",
       "  <thead>\n",
       "    <tr style=\"text-align: right;\">\n",
       "      <th></th>\n",
       "      <th>headlines</th>\n",
       "      <th>text</th>\n",
       "      <th>decoder_input</th>\n",
       "      <th>decoder_target</th>\n",
       "    </tr>\n",
       "  </thead>\n",
       "  <tbody>\n",
       "    <tr>\n",
       "      <th>0</th>\n",
       "      <td>upGrad learner switches to career in ML &amp; Al w...</td>\n",
       "      <td>Saurav Kant, an alumnus of upGrad and IIIT-B's...</td>\n",
       "      <td>sostoken upGrad learner switches to career in ...</td>\n",
       "      <td>upGrad learner switches to career in ML &amp; Al w...</td>\n",
       "    </tr>\n",
       "    <tr>\n",
       "      <th>1</th>\n",
       "      <td>Delhi techie wins free food from Swiggy for on...</td>\n",
       "      <td>Kunal Shah's credit card bill payment platform...</td>\n",
       "      <td>sostoken Delhi techie wins free food from Swig...</td>\n",
       "      <td>Delhi techie wins free food from Swiggy for on...</td>\n",
       "    </tr>\n",
       "    <tr>\n",
       "      <th>2</th>\n",
       "      <td>New Zealand end Rohit Sharma-led India's 12-ma...</td>\n",
       "      <td>New Zealand defeated India by 8 wickets in the...</td>\n",
       "      <td>sostoken New Zealand end Rohit Sharma-led Indi...</td>\n",
       "      <td>New Zealand end Rohit Sharma-led India's 12-ma...</td>\n",
       "    </tr>\n",
       "    <tr>\n",
       "      <th>3</th>\n",
       "      <td>Aegon life iTerm insurance plan helps customer...</td>\n",
       "      <td>With Aegon Life iTerm Insurance plan, customer...</td>\n",
       "      <td>sostoken Aegon life iTerm insurance plan helps...</td>\n",
       "      <td>Aegon life iTerm insurance plan helps customer...</td>\n",
       "    </tr>\n",
       "    <tr>\n",
       "      <th>4</th>\n",
       "      <td>Have known Hirani for yrs, what if MeToo claim...</td>\n",
       "      <td>Speaking about the sexual harassment allegatio...</td>\n",
       "      <td>sostoken Have known Hirani for yrs, what if Me...</td>\n",
       "      <td>Have known Hirani for yrs, what if MeToo claim...</td>\n",
       "    </tr>\n",
       "  </tbody>\n",
       "</table>\n",
       "</div>"
      ],
      "text/plain": [
       "                                           headlines  \\\n",
       "0  upGrad learner switches to career in ML & Al w...   \n",
       "1  Delhi techie wins free food from Swiggy for on...   \n",
       "2  New Zealand end Rohit Sharma-led India's 12-ma...   \n",
       "3  Aegon life iTerm insurance plan helps customer...   \n",
       "4  Have known Hirani for yrs, what if MeToo claim...   \n",
       "\n",
       "                                                text  \\\n",
       "0  Saurav Kant, an alumnus of upGrad and IIIT-B's...   \n",
       "1  Kunal Shah's credit card bill payment platform...   \n",
       "2  New Zealand defeated India by 8 wickets in the...   \n",
       "3  With Aegon Life iTerm Insurance plan, customer...   \n",
       "4  Speaking about the sexual harassment allegatio...   \n",
       "\n",
       "                                       decoder_input  \\\n",
       "0  sostoken upGrad learner switches to career in ...   \n",
       "1  sostoken Delhi techie wins free food from Swig...   \n",
       "2  sostoken New Zealand end Rohit Sharma-led Indi...   \n",
       "3  sostoken Aegon life iTerm insurance plan helps...   \n",
       "4  sostoken Have known Hirani for yrs, what if Me...   \n",
       "\n",
       "                                      decoder_target  \n",
       "0  upGrad learner switches to career in ML & Al w...  \n",
       "1  Delhi techie wins free food from Swiggy for on...  \n",
       "2  New Zealand end Rohit Sharma-led India's 12-ma...  \n",
       "3  Aegon life iTerm insurance plan helps customer...  \n",
       "4  Have known Hirani for yrs, what if MeToo claim...  "
      ]
     },
     "execution_count": 24,
     "metadata": {},
     "output_type": "execute_result"
    }
   ],
   "source": [
    "# 요약 데이터에는 시작 토큰과 종료 토큰을 추가한다.\n",
    "data['decoder_input'] = data['headlines'].apply(lambda x : 'sostoken '+ x)\n",
    "data['decoder_target'] = data['headlines'].apply(lambda x : x + ' eostoken')\n",
    "data.head()"
   ]
  },
  {
   "cell_type": "code",
   "execution_count": 25,
   "id": "2df65214",
   "metadata": {},
   "outputs": [
    {
     "name": "stdout",
     "output_type": "stream",
     "text": [
      "=3\n"
     ]
    }
   ],
   "source": [
    "encoder_input = np.array(data['text']) # 인코더의 입력\n",
    "decoder_input = np.array(data['decoder_input']) # 디코더의 입력\n",
    "decoder_target = np.array(data['decoder_target']) # 디코더의 레이블\n",
    "print('=3')"
   ]
  },
  {
   "cell_type": "markdown",
   "id": "a86ec000",
   "metadata": {},
   "source": [
    " 훈련 데이터와 테스트 데이터를 분리"
   ]
  },
  {
   "cell_type": "code",
   "execution_count": 26,
   "id": "b6653d6b",
   "metadata": {},
   "outputs": [
    {
     "name": "stdout",
     "output_type": "stream",
     "text": [
      "[55778 29421 36992 ... 79085  9880 87190]\n"
     ]
    }
   ],
   "source": [
    "indices = np.arange(encoder_input.shape[0])\n",
    "np.random.shuffle(indices)\n",
    "print(indices)"
   ]
  },
  {
   "cell_type": "markdown",
   "id": "7d1e8a3a",
   "metadata": {},
   "source": [
    "정수 시퀀스를 이용해 다시 데이터의 샘플 순서를 정의해 주면 잘 섞인 샘플이 되겠죠."
   ]
  },
  {
   "cell_type": "code",
   "execution_count": 27,
   "id": "b4c43df4",
   "metadata": {},
   "outputs": [
    {
     "name": "stdout",
     "output_type": "stream",
     "text": [
      "=3\n"
     ]
    }
   ],
   "source": [
    "encoder_input = encoder_input[indices]\n",
    "decoder_input = decoder_input[indices]\n",
    "decoder_target = decoder_target[indices]\n",
    "print('=3')"
   ]
  },
  {
   "cell_type": "markdown",
   "id": "c42062b6",
   "metadata": {},
   "source": [
    "섞인 데이터를 8:2의 비율로 훈련 데이터와 테스트 데이터로 분리"
   ]
  },
  {
   "cell_type": "code",
   "execution_count": 28,
   "id": "f4bb3511",
   "metadata": {},
   "outputs": [
    {
     "name": "stdout",
     "output_type": "stream",
     "text": [
      "테스트 데이터의 수 : 19583\n"
     ]
    }
   ],
   "source": [
    "n_of_val = int(len(encoder_input)*0.2)\n",
    "print('테스트 데이터의 수 :', n_of_val)"
   ]
  },
  {
   "cell_type": "code",
   "execution_count": 29,
   "id": "bf93e33a",
   "metadata": {},
   "outputs": [
    {
     "name": "stdout",
     "output_type": "stream",
     "text": [
      "훈련 데이터의 개수 : 78333\n",
      "훈련 레이블의 개수 : 78333\n",
      "테스트 데이터의 개수 : 19583\n",
      "테스트 레이블의 개수 : 19583\n"
     ]
    }
   ],
   "source": [
    "encoder_input_train = encoder_input[:-n_of_val]\n",
    "decoder_input_train = decoder_input[:-n_of_val]\n",
    "decoder_target_train = decoder_target[:-n_of_val]\n",
    "\n",
    "encoder_input_test = encoder_input[-n_of_val:]\n",
    "decoder_input_test = decoder_input[-n_of_val:]\n",
    "decoder_target_test = decoder_target[-n_of_val:]\n",
    "\n",
    "print('훈련 데이터의 개수 :', len(encoder_input_train))\n",
    "print('훈련 레이블의 개수 :', len(decoder_input_train))\n",
    "print('테스트 데이터의 개수 :', len(encoder_input_test))\n",
    "print('테스트 레이블의 개수 :', len(decoder_input_test))"
   ]
  },
  {
   "cell_type": "markdown",
   "id": "2ec519be",
   "metadata": {},
   "source": [
    "## (5) 단어 집합(vocabulary) 만들기 및 정수 인코딩"
   ]
  },
  {
   "cell_type": "code",
   "execution_count": 30,
   "id": "5d401191",
   "metadata": {},
   "outputs": [],
   "source": [
    "src_tokenizer = Tokenizer() # 토크나이저 정의\n",
    "src_tokenizer.fit_on_texts(encoder_input_train) # 입력된 데이터로부터 단어 집합 생성"
   ]
  },
  {
   "cell_type": "code",
   "execution_count": 31,
   "id": "e0c43bda",
   "metadata": {},
   "outputs": [
    {
     "name": "stdout",
     "output_type": "stream",
     "text": [
      "단어 집합(vocabulary)의 크기 : 91273\n",
      "등장 빈도가 6번 이하인 희귀 단어의 수: 66532\n",
      "단어 집합에서 희귀 단어를 제외시킬 경우의 단어 집합의 크기 24741\n",
      "단어 집합에서 희귀 단어의 비율: 72.89340768902085\n",
      "전체 등장 빈도에서 희귀 단어 등장 빈도 비율: 2.743295961497961\n"
     ]
    }
   ],
   "source": [
    "threshold = 7\n",
    "total_cnt = len(src_tokenizer.word_index) # 단어의 수\n",
    "rare_cnt = 0 # 등장 빈도수가 threshold보다 작은 단어의 개수를 카운트\n",
    "total_freq = 0 # 훈련 데이터의 전체 단어 빈도수 총 합\n",
    "rare_freq = 0 # 등장 빈도수가 threshold보다 작은 단어의 등장 빈도수의 총 합\n",
    "\n",
    "# 단어와 빈도수의 쌍(pair)을 key와 value로 받는다.\n",
    "for key, value in src_tokenizer.word_counts.items():\n",
    "    total_freq = total_freq + value\n",
    "\n",
    "    # 단어의 등장 빈도수가 threshold보다 작으면\n",
    "    if(value < threshold):\n",
    "        rare_cnt = rare_cnt + 1\n",
    "        rare_freq = rare_freq + value\n",
    "\n",
    "print('단어 집합(vocabulary)의 크기 :', total_cnt)\n",
    "print('등장 빈도가 %s번 이하인 희귀 단어의 수: %s'%(threshold - 1, rare_cnt))\n",
    "print('단어 집합에서 희귀 단어를 제외시킬 경우의 단어 집합의 크기 %s'%(total_cnt - rare_cnt))\n",
    "print(\"단어 집합에서 희귀 단어의 비율:\", (rare_cnt / total_cnt)*100)\n",
    "print(\"전체 등장 빈도에서 희귀 단어 등장 빈도 비율:\", (rare_freq / total_freq)*100)"
   ]
  },
  {
   "cell_type": "markdown",
   "id": "613bec53",
   "metadata": {},
   "source": [
    " 등장 빈도가 6회 이하인 단어들은 정수 인코딩 과정에서 빼고, 훈련 데이터에서 제거"
   ]
  },
  {
   "cell_type": "code",
   "execution_count": 32,
   "id": "e30385be",
   "metadata": {},
   "outputs": [
    {
     "name": "stdout",
     "output_type": "stream",
     "text": [
      "=3\n"
     ]
    }
   ],
   "source": [
    "src_vocab = 8000\n",
    "src_tokenizer = Tokenizer(num_words=src_vocab) # 단어 집합의 크기를 8,000으로 제한\n",
    "src_tokenizer.fit_on_texts(encoder_input_train) # 단어 집합 재생성\n",
    "print('=3')"
   ]
  },
  {
   "cell_type": "code",
   "execution_count": 33,
   "id": "b5386866",
   "metadata": {},
   "outputs": [
    {
     "name": "stdout",
     "output_type": "stream",
     "text": [
      "[[1, 181, 28, 118, 638, 51, 75, 833, 2, 4497, 5, 1, 279, 214, 3516, 147, 12, 48, 1009, 6724, 15, 1, 1170, 4, 382, 1, 5280, 578, 962, 6, 208, 1304, 27, 379, 1742, 19, 1308, 1735, 28, 34, 111, 7994, 15, 18, 75, 2080, 4, 568, 6, 3805, 1520, 4, 1346, 9, 274], [3, 41, 2366, 1016, 7, 119, 1300, 11, 41, 59, 210, 137, 200, 38, 5281, 2657, 17, 2382, 7, 216, 90, 7, 45, 576, 3226, 5715, 205, 9, 45, 3226, 7, 267, 145, 4463, 684, 7652, 45, 445, 2, 486, 1389, 141, 1, 48, 4039, 5, 1, 2028, 1, 1016, 29, 711, 4650, 16, 1, 1937, 389], [1, 7293, 8, 174, 1, 31, 13, 174, 2, 1, 1969, 2859, 6, 3174, 4, 37, 252, 4563, 70, 9, 1, 48, 76, 1, 853, 12, 174, 4, 3, 724, 4563, 9, 24, 272, 490, 1, 7293, 8, 4, 1, 659, 4627, 2887, 2, 2859, 50, 20, 16]]\n"
     ]
    }
   ],
   "source": [
    "# 텍스트 시퀀스를 정수 시퀀스로 변환\n",
    "encoder_input_train = src_tokenizer.texts_to_sequences(encoder_input_train) \n",
    "encoder_input_test = src_tokenizer.texts_to_sequences(encoder_input_test)\n",
    "\n",
    "# 잘 진행되었는지 샘플 출력\n",
    "print(encoder_input_train[:3])"
   ]
  },
  {
   "cell_type": "code",
   "execution_count": 34,
   "id": "16e5af1d",
   "metadata": {},
   "outputs": [
    {
     "name": "stdout",
     "output_type": "stream",
     "text": [
      "=3\n"
     ]
    }
   ],
   "source": [
    "tar_tokenizer = Tokenizer()\n",
    "tar_tokenizer.fit_on_texts(decoder_input_train)\n",
    "print('=3')"
   ]
  },
  {
   "cell_type": "code",
   "execution_count": 35,
   "id": "2d73b4a8",
   "metadata": {},
   "outputs": [
    {
     "name": "stdout",
     "output_type": "stream",
     "text": [
      "단어 집합(vocabulary)의 크기 : 40725\n",
      "등장 빈도가 5번 이하인 희귀 단어의 수: 29447\n",
      "단어 집합에서 희귀 단어를 제외시킬 경우의 단어 집합의 크기 11278\n",
      "단어 집합에서 희귀 단어의 비율: 72.30693677102516\n",
      "전체 등장 빈도에서 희귀 단어 등장 빈도 비율: 6.194631658244509\n"
     ]
    }
   ],
   "source": [
    "threshold = 6\n",
    "total_cnt = len(tar_tokenizer.word_index) # 단어의 수\n",
    "rare_cnt = 0 # 등장 빈도수가 threshold보다 작은 단어의 개수를 카운트\n",
    "total_freq = 0 # 훈련 데이터의 전체 단어 빈도수 총 합\n",
    "rare_freq = 0 # 등장 빈도수가 threshold보다 작은 단어의 등장 빈도수의 총 합\n",
    "\n",
    "# 단어와 빈도수의 쌍(pair)을 key와 value로 받는다.\n",
    "for key, value in tar_tokenizer.word_counts.items():\n",
    "    total_freq = total_freq + value\n",
    "\n",
    "    # 단어의 등장 빈도수가 threshold보다 작으면\n",
    "    if(value < threshold):\n",
    "        rare_cnt = rare_cnt + 1\n",
    "        rare_freq = rare_freq + value\n",
    "\n",
    "print('단어 집합(vocabulary)의 크기 :', total_cnt)\n",
    "print('등장 빈도가 %s번 이하인 희귀 단어의 수: %s'%(threshold - 1, rare_cnt))\n",
    "print('단어 집합에서 희귀 단어를 제외시킬 경우의 단어 집합의 크기 %s'%(total_cnt - rare_cnt))\n",
    "print(\"단어 집합에서 희귀 단어의 비율:\", (rare_cnt / total_cnt)*100)\n",
    "print(\"전체 등장 빈도에서 희귀 단어 등장 빈도 비율:\", (rare_freq / total_freq)*100)"
   ]
  },
  {
   "cell_type": "code",
   "execution_count": 36,
   "id": "db807a9a",
   "metadata": {},
   "outputs": [
    {
     "name": "stdout",
     "output_type": "stream",
     "text": [
      "input\n",
      "input  [[1, 1573, 7, 500, 346, 1977], [1, 39, 7, 159, 13, 469], [1, 743, 789, 4, 570, 5, 45, 59], [1, 404, 83, 3, 22, 4, 707, 30, 1840, 291, 1514], [1, 7, 159, 9]]\n",
      "target\n",
      "decoder  [[1573, 7, 500, 346, 1977, 2], [39, 7, 159, 13, 469, 2], [743, 789, 4, 570, 5, 45, 59, 2], [404, 83, 3, 22, 4, 707, 30, 1840, 291, 1514, 2], [7, 159, 9, 2]]\n"
     ]
    }
   ],
   "source": [
    "tar_vocab = 2000\n",
    "tar_tokenizer = Tokenizer(num_words=tar_vocab) \n",
    "tar_tokenizer.fit_on_texts(decoder_input_train)\n",
    "tar_tokenizer.fit_on_texts(decoder_target_train)\n",
    "\n",
    "# 텍스트 시퀀스를 정수 시퀀스로 변환\n",
    "decoder_input_train = tar_tokenizer.texts_to_sequences(decoder_input_train) \n",
    "decoder_target_train = tar_tokenizer.texts_to_sequences(decoder_target_train)\n",
    "decoder_input_test = tar_tokenizer.texts_to_sequences(decoder_input_test)\n",
    "decoder_target_test = tar_tokenizer.texts_to_sequences(decoder_target_test)\n",
    "\n",
    "# 잘 변환되었는지 확인\n",
    "print('input')\n",
    "print('input ',decoder_input_train[:5])\n",
    "print('target')\n",
    "print('decoder ',decoder_target_train[:5])"
   ]
  },
  {
   "cell_type": "code",
   "execution_count": 37,
   "id": "576ff3f1",
   "metadata": {},
   "outputs": [
    {
     "name": "stdout",
     "output_type": "stream",
     "text": [
      "삭제할 훈련 데이터의 개수 : 19\n",
      "삭제할 테스트 데이터의 개수 : 3\n",
      "훈련 데이터의 개수 : 78314\n",
      "훈련 레이블의 개수 : 78314\n",
      "테스트 데이터의 개수 : 19580\n",
      "테스트 레이블의 개수 : 19580\n"
     ]
    }
   ],
   "source": [
    "drop_train = [index for index, sentence in enumerate(decoder_input_train) if len(sentence) == 1]\n",
    "drop_test = [index for index, sentence in enumerate(decoder_input_test) if len(sentence) == 1]\n",
    "\n",
    "print('삭제할 훈련 데이터의 개수 :', len(drop_train))\n",
    "print('삭제할 테스트 데이터의 개수 :', len(drop_test))\n",
    "\n",
    "encoder_input_train = [sentence for index, sentence in enumerate(encoder_input_train) if index not in drop_train]\n",
    "decoder_input_train = [sentence for index, sentence in enumerate(decoder_input_train) if index not in drop_train]\n",
    "decoder_target_train = [sentence for index, sentence in enumerate(decoder_target_train) if index not in drop_train]\n",
    "\n",
    "encoder_input_test = [sentence for index, sentence in enumerate(encoder_input_test) if index not in drop_test]\n",
    "decoder_input_test = [sentence for index, sentence in enumerate(decoder_input_test) if index not in drop_test]\n",
    "decoder_target_test = [sentence for index, sentence in enumerate(decoder_target_test) if index not in drop_test]\n",
    "\n",
    "print('훈련 데이터의 개수 :', len(encoder_input_train))\n",
    "print('훈련 레이블의 개수 :', len(decoder_input_train))\n",
    "print('테스트 데이터의 개수 :', len(encoder_input_test))\n",
    "print('테스트 레이블의 개수 :', len(decoder_input_test))"
   ]
  },
  {
   "cell_type": "markdown",
   "id": "2a1bd13c",
   "metadata": {},
   "source": [
    "## (6) 패딩하기"
   ]
  },
  {
   "cell_type": "code",
   "execution_count": 39,
   "id": "8fd320d6",
   "metadata": {},
   "outputs": [
    {
     "name": "stdout",
     "output_type": "stream",
     "text": [
      "패딩 완료!\n"
     ]
    }
   ],
   "source": [
    "encoder_input_train = pad_sequences(encoder_input_train, maxlen=text_max_len, padding='post')\n",
    "encoder_input_test = pad_sequences(encoder_input_test, maxlen=text_max_len, padding='post')\n",
    "decoder_input_train = pad_sequences(decoder_input_train, maxlen=headlines_max_len, padding='post')\n",
    "decoder_target_train = pad_sequences(decoder_target_train, maxlen=headlines_max_len, padding='post')\n",
    "decoder_input_test = pad_sequences(decoder_input_test, maxlen=headlines_max_len, padding='post')\n",
    "decoder_target_test = pad_sequences(decoder_target_test, maxlen=headlines_max_len, padding='post')\n",
    "print('패딩 완료!')"
   ]
  },
  {
   "cell_type": "markdown",
   "id": "8724a497",
   "metadata": {},
   "source": [
    "# Step 3. 어텐션 메커니즘 사용하기 (추상적 요약)"
   ]
  },
  {
   "cell_type": "code",
   "execution_count": 40,
   "id": "fcefcbce",
   "metadata": {},
   "outputs": [
    {
     "name": "stdout",
     "output_type": "stream",
     "text": [
      "WARNING:tensorflow:Layer lstm will not use cuDNN kernels since it doesn't meet the criteria. It will use a generic GPU kernel as fallback when running on GPU.\n",
      "WARNING:tensorflow:Layer lstm_1 will not use cuDNN kernels since it doesn't meet the criteria. It will use a generic GPU kernel as fallback when running on GPU.\n",
      "WARNING:tensorflow:Layer lstm_2 will not use cuDNN kernels since it doesn't meet the criteria. It will use a generic GPU kernel as fallback when running on GPU.\n"
     ]
    }
   ],
   "source": [
    "from tensorflow.keras.layers import Input, LSTM, Embedding, Dense, Concatenate, TimeDistributed\n",
    "from tensorflow.keras.models import Model\n",
    "from tensorflow.keras.callbacks import EarlyStopping, ModelCheckpoint\n",
    "\n",
    "\n",
    "# 인코더 설계 시작\n",
    "embedding_dim = 128\n",
    "hidden_size = 256\n",
    "\n",
    "# 인코더\n",
    "encoder_inputs = Input(shape=(text_max_len,))\n",
    "\n",
    "# 인코더의 임베딩 층\n",
    "enc_emb = Embedding(src_vocab, embedding_dim)(encoder_inputs)\n",
    "\n",
    "# 인코더의 LSTM 1\n",
    "encoder_lstm1 = LSTM(hidden_size, return_sequences=True, return_state=True ,dropout = 0.4, recurrent_dropout = 0.4)\n",
    "encoder_output1, state_h1, state_c1 = encoder_lstm1(enc_emb)\n",
    "\n",
    "# 인코더의 LSTM 2\n",
    "encoder_lstm2 = LSTM(hidden_size, return_sequences=True, return_state=True, dropout=0.4, recurrent_dropout=0.4)\n",
    "encoder_output2, state_h2, state_c2 = encoder_lstm2(encoder_output1)\n",
    "\n",
    "# 인코더의 LSTM 3\n",
    "encoder_lstm3 = LSTM(hidden_size, return_state=True, return_sequences=True, dropout=0.4, recurrent_dropout=0.4)\n",
    "encoder_outputs, state_h, state_c= encoder_lstm3(encoder_output2)"
   ]
  },
  {
   "cell_type": "code",
   "execution_count": 41,
   "id": "abd04231",
   "metadata": {},
   "outputs": [
    {
     "name": "stdout",
     "output_type": "stream",
     "text": [
      "WARNING:tensorflow:Layer lstm_3 will not use cuDNN kernels since it doesn't meet the criteria. It will use a generic GPU kernel as fallback when running on GPU.\n"
     ]
    }
   ],
   "source": [
    "# 디코더 설계\n",
    "decoder_inputs = Input(shape=(None,))\n",
    "\n",
    "# 디코더의 임베딩 층\n",
    "dec_emb_layer = Embedding(tar_vocab, embedding_dim)\n",
    "dec_emb = dec_emb_layer(decoder_inputs)\n",
    "\n",
    "# 디코더의 LSTM\n",
    "decoder_lstm = LSTM(hidden_size, return_sequences=True, return_state=True, dropout=0.4, recurrent_dropout=0.2)\n",
    "decoder_outputs, _, _ = decoder_lstm(dec_emb, initial_state=[state_h, state_c])"
   ]
  },
  {
   "cell_type": "code",
   "execution_count": 42,
   "id": "f4a126f5",
   "metadata": {},
   "outputs": [
    {
     "name": "stdout",
     "output_type": "stream",
     "text": [
      "Model: \"model\"\n",
      "__________________________________________________________________________________________________\n",
      "Layer (type)                    Output Shape         Param #     Connected to                     \n",
      "==================================================================================================\n",
      "input_1 (InputLayer)            [(None, 62)]         0                                            \n",
      "__________________________________________________________________________________________________\n",
      "embedding (Embedding)           (None, 62, 128)      1024000     input_1[0][0]                    \n",
      "__________________________________________________________________________________________________\n",
      "lstm (LSTM)                     [(None, 62, 256), (N 394240      embedding[0][0]                  \n",
      "__________________________________________________________________________________________________\n",
      "input_2 (InputLayer)            [(None, None)]       0                                            \n",
      "__________________________________________________________________________________________________\n",
      "lstm_1 (LSTM)                   [(None, 62, 256), (N 525312      lstm[0][0]                       \n",
      "__________________________________________________________________________________________________\n",
      "embedding_1 (Embedding)         (None, None, 128)    256000      input_2[0][0]                    \n",
      "__________________________________________________________________________________________________\n",
      "lstm_2 (LSTM)                   [(None, 62, 256), (N 525312      lstm_1[0][0]                     \n",
      "__________________________________________________________________________________________________\n",
      "lstm_3 (LSTM)                   [(None, None, 256),  394240      embedding_1[0][0]                \n",
      "                                                                 lstm_2[0][1]                     \n",
      "                                                                 lstm_2[0][2]                     \n",
      "__________________________________________________________________________________________________\n",
      "dense (Dense)                   (None, None, 2000)   514000      lstm_3[0][0]                     \n",
      "==================================================================================================\n",
      "Total params: 3,633,104\n",
      "Trainable params: 3,633,104\n",
      "Non-trainable params: 0\n",
      "__________________________________________________________________________________________________\n"
     ]
    }
   ],
   "source": [
    "# 디코더의 출력층\n",
    "decoder_softmax_layer = Dense(tar_vocab, activation='softmax')\n",
    "decoder_softmax_outputs = decoder_softmax_layer(decoder_outputs) \n",
    "\n",
    "# 모델 정의\n",
    "model = Model([encoder_inputs, decoder_inputs], decoder_softmax_outputs)\n",
    "model.summary()"
   ]
  },
  {
   "cell_type": "markdown",
   "id": "05a314a3",
   "metadata": {},
   "source": [
    "## 어텐션 메커니즘"
   ]
  },
  {
   "cell_type": "code",
   "execution_count": 43,
   "id": "65dfa8c9",
   "metadata": {},
   "outputs": [
    {
     "name": "stdout",
     "output_type": "stream",
     "text": [
      "Model: \"model_1\"\n",
      "__________________________________________________________________________________________________\n",
      "Layer (type)                    Output Shape         Param #     Connected to                     \n",
      "==================================================================================================\n",
      "input_1 (InputLayer)            [(None, 62)]         0                                            \n",
      "__________________________________________________________________________________________________\n",
      "embedding (Embedding)           (None, 62, 128)      1024000     input_1[0][0]                    \n",
      "__________________________________________________________________________________________________\n",
      "lstm (LSTM)                     [(None, 62, 256), (N 394240      embedding[0][0]                  \n",
      "__________________________________________________________________________________________________\n",
      "input_2 (InputLayer)            [(None, None)]       0                                            \n",
      "__________________________________________________________________________________________________\n",
      "lstm_1 (LSTM)                   [(None, 62, 256), (N 525312      lstm[0][0]                       \n",
      "__________________________________________________________________________________________________\n",
      "embedding_1 (Embedding)         (None, None, 128)    256000      input_2[0][0]                    \n",
      "__________________________________________________________________________________________________\n",
      "lstm_2 (LSTM)                   [(None, 62, 256), (N 525312      lstm_1[0][0]                     \n",
      "__________________________________________________________________________________________________\n",
      "lstm_3 (LSTM)                   [(None, None, 256),  394240      embedding_1[0][0]                \n",
      "                                                                 lstm_2[0][1]                     \n",
      "                                                                 lstm_2[0][2]                     \n",
      "__________________________________________________________________________________________________\n",
      "attention_layer (AdditiveAttent (None, None, 256)    256         lstm_3[0][0]                     \n",
      "                                                                 lstm_2[0][0]                     \n",
      "__________________________________________________________________________________________________\n",
      "concat_layer (Concatenate)      (None, None, 512)    0           lstm_3[0][0]                     \n",
      "                                                                 attention_layer[0][0]            \n",
      "__________________________________________________________________________________________________\n",
      "dense_1 (Dense)                 (None, None, 2000)   1026000     concat_layer[0][0]               \n",
      "==================================================================================================\n",
      "Total params: 4,145,360\n",
      "Trainable params: 4,145,360\n",
      "Non-trainable params: 0\n",
      "__________________________________________________________________________________________________\n"
     ]
    }
   ],
   "source": [
    "from tensorflow.keras.layers import AdditiveAttention\n",
    "\n",
    "# 어텐션 층(어텐션 함수)\n",
    "attn_layer = AdditiveAttention(name='attention_layer')\n",
    "\n",
    "# 인코더와 디코더의 모든 time step의 hidden state를 어텐션 층에 전달하고 결과를 리턴\n",
    "attn_out = attn_layer([decoder_outputs, encoder_outputs])\n",
    "\n",
    "\n",
    "# 어텐션의 결과와 디코더의 hidden state들을 연결\n",
    "decoder_concat_input = Concatenate(axis=-1, name='concat_layer')([decoder_outputs, attn_out])\n",
    "\n",
    "# 디코더의 출력층\n",
    "decoder_softmax_layer = Dense(tar_vocab, activation='softmax')\n",
    "decoder_softmax_outputs = decoder_softmax_layer(decoder_concat_input)\n",
    "\n",
    "# 모델 정의\n",
    "model = Model([encoder_inputs, decoder_inputs], decoder_softmax_outputs)\n",
    "model.summary()"
   ]
  },
  {
   "cell_type": "markdown",
   "id": "4cb34b3c",
   "metadata": {},
   "source": [
    "## 모델 훈련하기\n",
    "- EarlyStopping : 특정 조건이 충족되면 훈련을 멈추는 역할\n",
    "- 검증 데이터의 손실이 줄어들지 않고 증가하는 현상이 2회(patience=2) 관측되면 학습을 멈추도록 설정\n",
    "- 훈련 완료 후 훈련 데이터의 손실과 검증 데이터의 손실이 줄어드는 과정 시각화 "
   ]
  },
  {
   "cell_type": "code",
   "execution_count": 44,
   "id": "c9739ccf",
   "metadata": {},
   "outputs": [
    {
     "name": "stdout",
     "output_type": "stream",
     "text": [
      "Epoch 1/50\n",
      "306/306 [==============================] - 261s 825ms/step - loss: 3.6971 - val_loss: 3.4511\n",
      "Epoch 2/50\n",
      "306/306 [==============================] - 249s 815ms/step - loss: 3.2651 - val_loss: 3.0956\n",
      "Epoch 3/50\n",
      "306/306 [==============================] - 249s 815ms/step - loss: 2.9829 - val_loss: 2.8822\n",
      "Epoch 4/50\n",
      "306/306 [==============================] - 249s 813ms/step - loss: 2.7975 - val_loss: 2.7432\n",
      "Epoch 5/50\n",
      "306/306 [==============================] - 249s 812ms/step - loss: 2.6643 - val_loss: 2.6495\n",
      "Epoch 6/50\n",
      "306/306 [==============================] - 247s 809ms/step - loss: 2.5593 - val_loss: 2.5743\n",
      "Epoch 7/50\n",
      "306/306 [==============================] - 249s 814ms/step - loss: 2.4712 - val_loss: 2.5061\n",
      "Epoch 8/50\n",
      "306/306 [==============================] - 248s 810ms/step - loss: 2.3962 - val_loss: 2.4575\n",
      "Epoch 9/50\n",
      "306/306 [==============================] - 248s 810ms/step - loss: 2.3289 - val_loss: 2.4159\n",
      "Epoch 10/50\n",
      "306/306 [==============================] - 248s 810ms/step - loss: 2.2693 - val_loss: 2.3807\n",
      "Epoch 11/50\n",
      "306/306 [==============================] - 248s 811ms/step - loss: 2.2161 - val_loss: 2.3493\n",
      "Epoch 12/50\n",
      "306/306 [==============================] - 248s 809ms/step - loss: 2.1675 - val_loss: 2.3273\n",
      "Epoch 13/50\n",
      "306/306 [==============================] - 247s 806ms/step - loss: 2.1234 - val_loss: 2.3026\n",
      "Epoch 14/50\n",
      "306/306 [==============================] - 247s 808ms/step - loss: 2.0820 - val_loss: 2.2858\n",
      "Epoch 15/50\n",
      "306/306 [==============================] - 248s 811ms/step - loss: 2.0451 - val_loss: 2.2698\n",
      "Epoch 16/50\n",
      "306/306 [==============================] - 247s 808ms/step - loss: 2.0104 - val_loss: 2.2504\n",
      "Epoch 17/50\n",
      "306/306 [==============================] - 246s 805ms/step - loss: 1.9787 - val_loss: 2.2470\n",
      "Epoch 18/50\n",
      "306/306 [==============================] - 246s 805ms/step - loss: 1.9481 - val_loss: 2.2269\n",
      "Epoch 19/50\n",
      "306/306 [==============================] - 246s 805ms/step - loss: 1.9199 - val_loss: 2.2160\n",
      "Epoch 20/50\n",
      "306/306 [==============================] - 247s 806ms/step - loss: 1.8927 - val_loss: 2.2101\n",
      "Epoch 21/50\n",
      "306/306 [==============================] - 245s 802ms/step - loss: 1.8683 - val_loss: 2.2019\n",
      "Epoch 22/50\n",
      "306/306 [==============================] - 246s 803ms/step - loss: 1.8454 - val_loss: 2.1993\n",
      "Epoch 23/50\n",
      "306/306 [==============================] - 247s 807ms/step - loss: 1.8225 - val_loss: 2.1950\n",
      "Epoch 24/50\n",
      "306/306 [==============================] - 245s 801ms/step - loss: 1.8015 - val_loss: 2.1883\n",
      "Epoch 25/50\n",
      "306/306 [==============================] - 248s 809ms/step - loss: 1.7813 - val_loss: 2.1873\n",
      "Epoch 26/50\n",
      "306/306 [==============================] - 247s 809ms/step - loss: 1.7626 - val_loss: 2.1832\n",
      "Epoch 27/50\n",
      "306/306 [==============================] - 248s 810ms/step - loss: 1.7456 - val_loss: 2.1737\n",
      "Epoch 28/50\n",
      "306/306 [==============================] - 247s 807ms/step - loss: 1.7270 - val_loss: 2.1787\n",
      "Epoch 29/50\n",
      "306/306 [==============================] - 248s 811ms/step - loss: 1.7114 - val_loss: 2.1727\n",
      "Epoch 30/50\n",
      "306/306 [==============================] - 248s 810ms/step - loss: 1.6953 - val_loss: 2.1768\n",
      "Epoch 31/50\n",
      "306/306 [==============================] - 246s 804ms/step - loss: 1.6810 - val_loss: 2.1744\n",
      "Epoch 00031: early stopping\n"
     ]
    }
   ],
   "source": [
    "model.compile(optimizer='rmsprop', loss='sparse_categorical_crossentropy')\n",
    "es = EarlyStopping(monitor='val_loss', patience=2, verbose=1)\n",
    "history = model.fit(x=[encoder_input_train, decoder_input_train], y=decoder_target_train, \\\n",
    "          validation_data=([encoder_input_test, decoder_input_test], decoder_target_test), \\\n",
    "          batch_size=256, callbacks=[es], epochs=50)"
   ]
  },
  {
   "cell_type": "code",
   "execution_count": 45,
   "id": "574e4b85",
   "metadata": {},
   "outputs": [
    {
     "data": {
      "image/png": "[encoded data removed]",
      "text/plain": [
       "<Figure size 432x288 with 1 Axes>"
      ]
     },
     "metadata": {
      "needs_background": "light"
     },
     "output_type": "display_data"
    }
   ],
   "source": [
    "plt.plot(history.history['loss'], label='train')\n",
    "plt.plot(history.history['val_loss'], label='test')\n",
    "plt.legend()\n",
    "plt.show()"
   ]
  },
  {
   "cell_type": "markdown",
   "id": "eee4988b",
   "metadata": {},
   "source": [
    "## 인퍼런스 모델 구현"
   ]
  },
  {
   "cell_type": "code",
   "execution_count": 46,
   "id": "96c652ef",
   "metadata": {},
   "outputs": [],
   "source": [
    "src_index_to_word = src_tokenizer.index_word # 원문 단어 집합에서 정수 -> 단어를 얻음\n",
    "tar_word_to_index = tar_tokenizer.word_index # 요약 단어 집합에서 단어 -> 정수를 얻음\n",
    "tar_index_to_word = tar_tokenizer.index_word # 요약 단어 집합에서 정수 -> 단어를 얻음"
   ]
  },
  {
   "cell_type": "code",
   "execution_count": 47,
   "id": "b2b51fce",
   "metadata": {},
   "outputs": [
    {
     "name": "stdout",
     "output_type": "stream",
     "text": [
      "=3\n"
     ]
    }
   ],
   "source": [
    "# 인코더 설계\n",
    "encoder_model = Model(inputs=encoder_inputs, outputs=[encoder_outputs, state_h, state_c])\n",
    "\n",
    "# 이전 시점의 상태들을 저장하는 텐서\n",
    "decoder_state_input_h = Input(shape=(hidden_size,))\n",
    "decoder_state_input_c = Input(shape=(hidden_size,))\n",
    "\n",
    "dec_emb2 = dec_emb_layer(decoder_inputs)\n",
    "\n",
    "# 문장의 다음 단어를 예측하기 위해서 초기 상태(initial_state)를 이전 시점의 상태로 사용. 이는 뒤의 함수 decode_sequence()에 구현\n",
    "# 훈련 과정에서와 달리 LSTM의 리턴하는 은닉 상태와 셀 상태인 state_h와 state_c를 버리지 않음.\n",
    "decoder_outputs2, state_h2, state_c2 = decoder_lstm(dec_emb2, initial_state=[decoder_state_input_h, decoder_state_input_c])\n",
    "\n",
    "print('=3')"
   ]
  },
  {
   "cell_type": "code",
   "execution_count": 48,
   "id": "a16d13b3",
   "metadata": {},
   "outputs": [
    {
     "name": "stdout",
     "output_type": "stream",
     "text": [
      "=3\n"
     ]
    }
   ],
   "source": [
    "# 어텐션 함수\n",
    "decoder_hidden_state_input = Input(shape=(text_max_len, hidden_size))\n",
    "attn_out_inf = attn_layer([decoder_outputs2, decoder_hidden_state_input])\n",
    "decoder_inf_concat = Concatenate(axis=-1, name='concat')([decoder_outputs2, attn_out_inf])\n",
    "\n",
    "# 디코더의 출력층\n",
    "decoder_outputs2 = decoder_softmax_layer(decoder_inf_concat) \n",
    "\n",
    "# 최종 디코더 모델\n",
    "decoder_model = Model(\n",
    "    [decoder_inputs] + [decoder_hidden_state_input,decoder_state_input_h, decoder_state_input_c],\n",
    "    [decoder_outputs2] + [state_h2, state_c2])\n",
    "\n",
    "print('=3')"
   ]
  },
  {
   "cell_type": "code",
   "execution_count": 52,
   "id": "b6e61ce6",
   "metadata": {},
   "outputs": [],
   "source": [
    "def decode_sequence(input_seq):\n",
    "    # 입력으로부터 인코더의 상태를 얻음\n",
    "    e_out, e_h, e_c = encoder_model.predict(input_seq)\n",
    "\n",
    "     # <SOS>에 해당하는 토큰 생성\n",
    "    target_seq = np.zeros((1,1))\n",
    "    target_seq[0, 0] = tar_word_to_index['sostoken']\n",
    "\n",
    "    stop_condition = False\n",
    "    decoded_sentence = ''\n",
    "    while not stop_condition: # stop_condition이 True가 될 때까지 루프 반복\n",
    "\n",
    "        output_tokens, h, c = decoder_model.predict([target_seq] + [e_out, e_h, e_c])\n",
    "        sampled_token_index = np.argmax(output_tokens[0, -1, :])\n",
    "        sampled_token = tar_index_to_word[sampled_token_index]\n",
    "\n",
    "        if (sampled_token!='eostoken'):\n",
    "            decoded_sentence += ' '+sampled_token\n",
    "\n",
    "        #  <eos>에 도달하거나 최대 길이를 넘으면 중단.\n",
    "        if (sampled_token == 'eostoken'  or len(decoded_sentence.split()) >= (headlines_max_len-1)):\n",
    "            stop_condition = True\n",
    "\n",
    "        # 길이가 1인 타겟 시퀀스를 업데이트\n",
    "        target_seq = np.zeros((1,1))\n",
    "        target_seq[0, 0] = sampled_token_index\n",
    "\n",
    "        # 상태를 업데이트 합니다.\n",
    "        e_h, e_c = h, c\n",
    "\n",
    "    return decoded_sentence"
   ]
  },
  {
   "cell_type": "markdown",
   "id": "c7f1c7bf",
   "metadata": {},
   "source": [
    "## 모델 테스트"
   ]
  },
  {
   "cell_type": "code",
   "execution_count": 53,
   "id": "7c75cd02",
   "metadata": {},
   "outputs": [],
   "source": [
    "# 원문의 정수 시퀀스를 텍스트 시퀀스로 변환\n",
    "def seq2text(input_seq):\n",
    "    temp=''\n",
    "    for i in input_seq:\n",
    "        if (i!=0):\n",
    "            temp = temp + src_index_to_word[i]+' '\n",
    "    return temp\n",
    "\n",
    "# 요약문의 정수 시퀀스를 텍스트 시퀀스로 변환\n",
    "def seq2summary(input_seq):\n",
    "    temp=''\n",
    "    for i in input_seq:\n",
    "        if ((i!=0 and i!=tar_word_to_index['sostoken']) and i!=tar_word_to_index['eostoken']):\n",
    "            temp = temp + tar_index_to_word[i] + ' '\n",
    "    return temp"
   ]
  },
  {
   "cell_type": "markdown",
   "id": "74832e30",
   "metadata": {},
   "source": [
    "# Step 4. 실제 결과와 요약문 비교하기 (추상적 요약)"
   ]
  },
  {
   "cell_type": "code",
   "execution_count": 54,
   "id": "0701a500",
   "metadata": {},
   "outputs": [
    {
     "name": "stdout",
     "output_type": "stream",
     "text": [
      "원문 : e commerce major flipkart is in preliminary talks to buy a minority stake in the platform the startup may be valued at 500 700 million if the proposed deal with flipkart goes through according to reports last year raised 85 million from group accel partners saif partners and network 18 at a valuation of over million \n",
      "실제 요약 : flipkart in talks to buy stake in \n",
      "예측 요약 :  flipkart may buy stake in startup report\n",
      "\n",
      "\n",
      "원문 : taapsee pannu has said that she has heard stories of sexual harassment in bollywood but she herself has not faced any sexual harassment otherwise she would've probably helped it it is not that it does not happen it does people probably aren't ready to openly talk about it because there are a lot of attached to it she added \n",
      "실제 요약 : of sexual harassment in b'wood says taapsee \n",
      "예측 요약 :  i wasn't sexual harassment taapsee\n",
      "\n",
      "\n",
      "원문 : hackers on sunday claimed to have accessed trai chief rs sharma's bank account details and deposited ã¢ââ¹1 in his bank account to highlight the potential of aadhaar being misused this came a day after sharma shared his aadhaar number publicly on twitter throwing a challenge of more information using just the 12 uidai number \n",
      "실제 요약 : hackers access bank account details ã¢ââ¹1 \n",
      "예측 요약 :  hackers claim of bank account\n",
      "\n",
      "\n",
      "원문 : thousands of people in taiwan took part in the protests on thursday for the third time in a week demanding lower taxes and the fair handling of tax disputes protested outside the ministry of finance in the capital the protests in taiwan follow the protests in france against rising taxes and government policies \n",
      "실제 요약 : after france protests against \n",
      "예측 요약 :  in protest against\n",
      "\n",
      "\n",
      "원문 : iran is with the 2015 nuclear deal it had signed with the global powers the united nations nuclear director has told us ambassador nikki haley in a meeting last month us president donald trump announced that he would the deal accusing iran of violating the spirit of the agreement and threatened to the pact \n",
      "실제 요약 : iran with 2015 nuclear deal un to us \n",
      "예측 요약 :  iran nuclear deal with iran\n",
      "\n",
      "\n",
      "원문 : tata motors on saturday announced the roll out of its made for the indian armed forces the model comes with anti lock system recovery can and to suit army requirements the company bagged the order to supply 3 units of to the army and has successfully delivered over 1 300 vehicles \n",
      "실제 요약 : tata rolls out for indian army \n",
      "예측 요약 :  tata group to make military\n",
      "\n",
      "\n",
      "원문 : the and of prince harry and his wife meghan markle are expecting their first baby in the spring of 2019 the news was announced by palace just hours after the duo arrived in australia for their first official foreign tour the couple got married in may this year in a ceremony at london's \n",
      "실제 요약 : royal couple prince harry and first child \n",
      "예측 요약 :  prince harry first baby\n",
      "\n",
      "\n",
      "원문 : the 23 year old son of a sub inspector in delhi police was arrested on friday for raping a woman and her 15 year old daughter for three weeks in haryana's gurugram the accused also filmed the rape and them into staying quiet about the incident notably the accused was at the home of the woman when police arrested him \n",
      "실제 요약 : son rapes woman daughter for 3 weeks in gurugram \n",
      "예측 요약 :  son arrested for raping 2 yr old daughter in delhi\n",
      "\n",
      "\n",
      "원문 : nearly 30 million of funds stolen from scandal hit wealth fund were used to buy jewellery for prime minister wife according to filings by the us justice department notably a total of 4 5 billion has been from which was set up by in 2009 to promote economic development \n",
      "실제 요약 : 1st linked to in case \n",
      "예측 요약 :  hong crypto exchange stolen from exchange\n",
      "\n",
      "\n",
      "원문 : actor arjun kapoor's first look from the upcoming banerjee directorial aur has been unveiled sharing the look arjun wrote 10th film 1 truth change is the only constant can't wait to begin filming this one arjun plays a 30 year old police constable from haryana in the film which is scheduled to release on august 3 2018 \n",
      "실제 요약 : first look from unveiled \n",
      "예측 요약 :  1st look of arjun kapoor from unveiled\n",
      "\n",
      "\n",
      "원문 : actor salman khan took to twitter to share a video which he captioned this me of 1996 michael jackson concert where i carried on my for the entire show in the video a child can be seen sitting on the of a parent or older to watch salman's performance at his concert in london \n",
      "실제 요약 : carrying at in salman \n",
      "예측 요약 :  salman khan shares video of him\n",
      "\n",
      "\n",
      "원문 : the supreme court has issued a notice to the centre and state governments after hearing a petition seeking reservation for we have asked for reservations in education and job sectors for the education loans finance and must also be extended to this section lawyer shukla said the petition also demanded an in every district \n",
      "실제 요약 : sc notice to centre over seeking for \n",
      "예측 요약 :  sc notice to centre over special status\n",
      "\n",
      "\n",
      "원문 : england cricketer kevin pietersen on sunday replied to a twitter user using the finger when asked about the possibility of a return to test cricket a year ago following india's over innings in the ranchi test pietersen had tweeted field for overs and people ask me if given the chance i'd play test cricket again \n",
      "실제 요약 : test return with middle \n",
      "예측 요약 :  my tweets user on\n",
      "\n",
      "\n",
      "원문 : a cabinet meeting uttar pradesh chief minister yogi adityanath has decided to celebrate january 24 as up day notably the united unit was renamed as uttar pradesh on january 24 the state's rich cultural heritage would be through different programmes on this day cabinet minister sidharth nath singh said n \n",
      "실제 요약 : adityanath govt to celebrate jan 24 as \n",
      "예측 요약 :  up cm yogi adityanath to celebrate day\n",
      "\n",
      "\n",
      "원문 : actress katrina kaif will go on a holiday with her family to celebrate her birthday this year as per reports the location is said to be one of her family's favourite holiday katrina who will turn 35 on july 16 will reportedly resume shooting for 'zero' by july 18 \n",
      "실제 요약 : katrina to go on with family to celebrate b'day report \n",
      "예측 요약 :  katrina shares pic with on his birthday\n",
      "\n",
      "\n",
      "원문 : maharashtra cm devendra fadnavis and union minister nitin gadkari have laid the foundation stone for an international cruise terminal in mumbai the terminal is being constructed to the best global to cruise ships the shipping ministry said the terminal will have all the facilities which are provided at airports \n",
      "실제 요약 : mumbai to get a new international \n",
      "예측 요약 :  maha govt building mumbai mumbai\n",
      "\n",
      "\n",
      "원문 : kerala has become the first state in the country to issue guidelines for declaring a patient as brain dead all hospitals in the state will be required to follow the guidelines in order to obtain organs for transplant from the patient this comes amid growing concerns among the public about of to make organs available for transplant \n",
      "실제 요약 : kerala 1st state to issue to brain dead cases \n",
      "예측 요약 :  kerala 1st to allow to track brain\n",
      "\n",
      "\n",
      "원문 : social media giant facebook is reportedly testing a facial recognition feature project for account and verification the feature will be available on devices which have already been used to it is another step alongside two factor authentication via sms that were taking to make sure account owners can confirm their identity facebook said in a statement \n",
      "실제 요약 : facebook tests for accounts \n",
      "예측 요약 :  facebook tests feature to use face tech\n",
      "\n",
      "\n",
      "원문 : three indians have made it to the mit technology review magazine's under 35 list this year the include university of for developing world's channel for water university's for developing disease and neha co founder of which data handling systems \n",
      "실제 요약 : 3 indians named in mit tech review under 35 list \n",
      "예측 요약 :  indian scientists make in\n",
      "\n",
      "\n",
      "원문 : indian wicket keeper rishabh pant set the record for the most number of dismissals by an indian wicket keeper in a test series against australia after his 15th dismissal of the india australia series so far on sunday pant who is still to play the remaining two tests of the series went past the likes of ms dhoni and syed \n",
      "실제 요약 : pant sets indian record after his \n",
      "예측 요약 :  pant sets record for most wicket in india\n",
      "\n",
      "\n",
      "원문 : sanjay leela bhansali's film 'padmaavat' has been cleared with a u certificate and no cuts by pakistan's censor board as compared to the u a certification it had received from india's censor board hasan the chairman of pakistan's censor board took to his twitter to announce the certification of the film and said it is suitable for public exhibition \n",
      "실제 요약 : gets in pakistan than india \n",
      "예측 요약 :  sanjay to cut as chairman reports\n",
      "\n",
      "\n",
      "원문 : london police arrested eric a partner with private equity group partners and former brothers employee on suspicion of pushing a woman under a bus while he was this followed a video showing a male the female into the path and running off he returned and ignored the woman when she confronted him \n",
      "실제 요약 : ex held for woman under bus during \n",
      "예측 요약 :  police arrest ex employee for woman\n",
      "\n",
      "\n",
      "원문 : leader of opposition in rajasthan assembly has triggered controversy after his security guard was caught on camera removing his shoes the incident took place on thursday when visited temple in rajasthan's with congress leader sachin pilot the video of the incident wherein pilot is also seen removing his shoes on his own has surfaced online \n",
      "실제 요약 : video security guard removes cong at temple \n",
      "예측 요약 :  raj raj raj cm over taking selfie\n",
      "\n",
      "\n",
      "원문 : group on monday said it has over ã¢ââ¹1 37 lakh crore of debt over the past two years which is over 80 of the group debt the group's holding company global holdings has its last of debt of ã¢ââ¹12 000 crore to various banks the only continuing lender for global is now russia's group \n",
      "실제 요약 : group more than 80 of its debt in 2 years \n",
      "예측 요약 :  ã¢ââ¹1 7 crore in debt in debt\n",
      "\n",
      "\n",
      "원문 : us president donald trump expressed over high import duty on motorcycles in india saying the us was getting nothing despite a reduction of customs duty to 50 referring to his phone call with pm narendra modi trump said t he fantastic man thinks they're doing us a favour he added the us wants fair and trade deals with india \n",
      "실제 요약 : india not doing us a trump on \n",
      "예측 요약 :  trump blames us govt over tweet on\n",
      "\n",
      "\n",
      "원문 : taking a dig at rbi governor urjit patel on his comment that rbi is still counting demonetised notes congress vice president rahul gandhi tweeted that government of india is looking for also congress' senior party leader p chidambaram tweeted rbi buying note counting machines 8 months after demonetisation has rbi not heard of \n",
      "실제 요약 : looking for rahul takes at rbi \n",
      "예측 요약 :  rbi met patel for short time rbi governor\n",
      "\n",
      "\n",
      "원문 : the dgca has launched an investigation after an air india flight was operated with an alleged or in its area said reports the incident occurred in october when an air india aircraft was flying from patna to delhi two pilots and an engineer were following the alleged incident \n",
      "실제 요약 : air india plane with launches probe \n",
      "예측 요약 :  on air india flight\n",
      "\n",
      "\n",
      "원문 : a group has stolen 150 jeep worth over crore from california us by hacking the keys the arranged every stolen car's vehicle identification number and accessed database it helped them to get the code used to access the chip inside the key as well as the design of the physical key which they \n",
      "실제 요약 : steal 150 worth cr by \n",
      "예측 요약 :  hackers steal worth worth worth us stolen\n",
      "\n",
      "\n",
      "원문 : telugu actor ravi brother raju passed away on saturday in hyderabad in a car accident reports suggest raju rammed the car into a parked resulting in a head on collision we're yet to find out whether he was under the influence of alcohol or not but he was speeding which led to his death said the police \n",
      "실제 요약 : actor brother passes away in car accident \n",
      "예측 요약 :  actor kapoor passes away in car accident\n",
      "\n",
      "\n",
      "원문 : following his in the scam case former telecom minister a raja said wait for my book i will reveal many things it will be approved by leader m karunanidhi adding that his book will everyone apart he said that he the fact that the dmk party's image was affected because of the case \n",
      "실제 요약 : a to write book on case after \n",
      "예측 요약 :  i will be to be to become minister\n",
      "\n",
      "\n",
      "원문 : former australian cricketer michael defended virat kohli's on field behaviour saying it did not go over the top it was not aggressive or abusive it did not get out of hand it was in the before it could it showed both teams will play tough cricket and they are not going to back down added \n",
      "실제 요약 : virat kohli go over the top \n",
      "예측 요약 :  didn't leave as didn't lose leave\n",
      "\n",
      "\n",
      "원문 : former indian cricketer sachin tendulkar shared on instagram a letter from a young fan the fan asked sachin to reply to his letter with an and said that he wants to be like him when he up sachin captioned the post t his really brought a smile on my face my best wishes to you keep working hard \n",
      "실제 요약 : sachin shares letter from a fan \n",
      "예측 요약 :  sachin fan asked me to give him letter to sachin\n",
      "\n",
      "\n",
      "원문 : a 44 year old man allegedly killed his 11 year old daughter in an state on wednesday the deceased who underwent surgery in 2017 was diagnosed with more heart and didn't take it well and the family's neighbour said according to the police killed his daughter by feeding her water mixed with \n",
      "실제 요약 : drunk man kills daughter with heart \n",
      "예측 요약 :  man daughter daughter in law for being alive\n",
      "\n",
      "\n",
      "원문 : filmmaker while talking about the behaviour of said it is that youth is interested only in a they go to watch a in the form of a superhero film they want to enjoy a with a of and cola looks like nobody is interested in rich stories he added \n",
      "실제 요약 : people watch in form of film \n",
      "예측 요약 :  only to be a day\n",
      "\n",
      "\n",
      "원문 : former indian cricket team skipper mohammad expressed his with the bcci for the way former indian coach anil kumble was treated who is fighting to get his unpaid dues from the bcci said that the board should be the final authority in the coach and the captain should not influence the decision \n",
      "실제 요약 : questions treatment of former coach \n",
      "예측 요약 :  bcci calls bcci over\n",
      "\n",
      "\n",
      "원문 : the delhi police has booked aiadmk chief vk nephew and party's deputy secretary ttv for allegedly offering a bribe to get two leaves symbol has however denied the charges stating he will fight in court the election commission had frozen the symbol ahead of the rk nagar by poll following the split in aiadmk \n",
      "실제 요약 : booked for for party \n",
      "예측 요약 :  aap chief sacked aap leader to remove from jail\n",
      "\n",
      "\n",
      "원문 : addressing a gathering on the second anniversary of surgical strikes home minister rajnath singh said something big has happened i won't say what it has gone just two three days ago this comes days after the killing of a bsf jawan by pakistani troops army chief bipin rawat had said action is needed to such against our soldiers \n",
      "실제 요약 : big has i won't say what rajnath singh \n",
      "예측 요약 :  not dead in j k rajnath singh\n",
      "\n",
      "\n",
      "원문 : a 75 km wide on mars has led to of it being a formed by a impact or a the image was captured by european space agency's mars express which is exploring the red planet since 2003 mars is known to host the largest volcano ever discovered in the solar system having a 25 km height \n",
      "실제 요약 : mars feature for being or \n",
      "예측 요약 :  mars mars\n",
      "\n",
      "\n",
      "원문 : defender who holds the record for most appearances for argentina has announced his retirement from international football after crashing out of the world cup on saturday i will now be just another fan of the team it's over the is the 34 year old said he represented argentina in four world cup and five tournaments \n",
      "실제 요약 : most player after world cup exit \n",
      "예측 요약 :  player who to reach wc final\n",
      "\n",
      "\n",
      "원문 : rebel jd u mps sharad yadav and ali from the rajya sabha vice president and rajya sabha chairman venkaiah naidu has said all pending pleas regarding should be decided within 3 months terming political as he said anti party activities such as slamming one's own party and attending rival party's rallies invite \n",
      "실제 요약 : to bar within 3 months vice prez \n",
      "예측 요약 :  vice prez naidu to over 4 4 lakh rajya sabha\n",
      "\n",
      "\n",
      "원문 : a man in uttar pradesh gave his wife divorce by thrice over the phone after his wife failed to meet his dowry demands police said on tuesday the woman lodged a complaint after the accused allegedly beat her up and drove her out of his house she also alleged that her in laws were demanding ã¢ââ¹2 lakh as dowry \n",
      "실제 요약 : up man gives triple talaq to woman on phone over \n",
      "예측 요약 :  man wife wife wife wife after wife wife\n",
      "\n",
      "\n",
      "원문 : baba patanjali is seeking to set up a production unit in jharkhand that the government plans to turn into a multi hub patanjali is reportedly in talks with the centre and jharkhand government to use the multi terminal to export to countries like china patanjali has already been to the uk us canada and \n",
      "실제 요약 : ramdev seeking unit to take patanjali products to china \n",
      "예측 요약 :  patanjali seeks up to set up patanjali in up\n",
      "\n",
      "\n",
      "원문 : india's dinesh karthik was sold to kolkata knight riders for ã¢ââ¹7 4 crore while patel who is playing for india in the third test against south africa went india's was sold to sunrisers hyderabad for ã¢ââ¹5 crore while kkr used their right to match option to buy robin for ã¢ââ¹6 4 crore \n",
      "실제 요약 : sold for ã¢ââ¹7 4 cr patel goes \n",
      "예측 요약 :  indian sells for ã¢ââ¹7 crore\n",
      "\n",
      "\n",
      "원문 : after rebel aap leader kapil mishra was allowed to file a petition over delhi cm arvind kejriwal's attendance in the assembly party mp sanjay singh said he will file a pil seeking details of pm narendra modi's attendance in the parliament despite appeal by the entire opposition pm narendra modi does not come to parliament singh said \n",
      "실제 요약 : aap mp to file over pm modi's in parliament \n",
      "예측 요약 :  aap mp seeks to pm modi over flag\n",
      "\n",
      "\n",
      "원문 : the rashtriya sangh rss may invite congress president rahul gandhi to its event scheduled from september 17 to 19 reports said this comes days after gandhi compared the rss to islamist organisation muslim accusing it of trying to change the nature of india gandhi had alleged the rss sought to capture every institution in the country \n",
      "실제 요약 : rss to rahul gandhi to event in report \n",
      "예측 요약 :  rss rahul to rahul for 2019 rss event\n",
      "\n",
      "\n",
      "원문 : uk lawmakers have urged the government to the british citizenship of syrian president bashar al london born wife al assad this comes after she supported her husband's presidency on social media amid the global of his government's alleged role in a chemical attack on civilians in one post claimed that attack was false propaganda by the united states \n",
      "실제 요약 : uk to british of syrian wife \n",
      "예측 요약 :  uk uk asks uk to visit isis in london\n",
      "\n",
      "\n",
      "원문 : narayan bjp mp from uttar pradesh's raised a demand for a aayog for suffering in the lok sabha on friday many men are suffering at the hands of their wives several of them are locked up in jails i demand the government set up a to resolve their issues and problems he said \n",
      "실제 요약 : set up for bjp mp in parliament \n",
      "예측 요약 :  bjp mp bjp raises for in mp\n",
      "\n",
      "\n",
      "원문 : the state disaster response force and fire department team on monday rescued around 55 people who were trapped in flood water in andhra pradesh the flood water had been released from the river in the district the and fire department had rushed to the spot immediately \n",
      "실제 요약 : people in flood water rescued in andhra pradesh \n",
      "예측 요약 :  fire in assam after rescue\n",
      "\n",
      "\n",
      "원문 : the uttarakhand bjp has given a clean to mla rajkumar after a video showing thrashing some women went viral last week the party is satisfied with his explanation and we do not see anything wrong state bjp chief ajay bhatt said reportedly the incident took place during a meeting held by the mla to resolve an issue \n",
      "실제 요약 : mla accused of women gets clean from bjp \n",
      "예측 요약 :  bjp calls for mla to blood\n",
      "\n",
      "\n",
      "원문 : homegrown taxi hailing startup ola launched its services across south wales in the uk on monday this comes after the startup had received licenses for the same earlier in august founded in 2011 this marks first in europe after it launched its first overseas operation in australia in february \n",
      "실제 요약 : ride startup ola launches in uk \n",
      "예측 요약 :  ola ola office in uk\n",
      "\n",
      "\n"
     ]
    }
   ],
   "source": [
    "for i in range(50, 100):\n",
    "    print(\"원문 :\", seq2text(encoder_input_test[i]))\n",
    "    print(\"실제 요약 :\", seq2summary(decoder_input_test[i]))\n",
    "    print(\"예측 요약 :\", decode_sequence(encoder_input_test[i].reshape(1, text_max_len)))\n",
    "    print(\"\\n\")"
   ]
  },
  {
   "cell_type": "markdown",
   "id": "096905d5",
   "metadata": {},
   "source": [
    "# Step 5. Summa을 이용해서 추출적 요약해보기\n",
    "## (1) 데이터 다운로드"
   ]
  },
  {
   "cell_type": "code",
   "execution_count": 75,
   "id": "b132994c",
   "metadata": {},
   "outputs": [],
   "source": [
    "import requests\n",
    "from summa.summarizer import summarize"
   ]
  },
  {
   "cell_type": "code",
   "execution_count": 77,
   "id": "0c62c484",
   "metadata": {},
   "outputs": [
    {
     "data": {
      "text/html": [
       "<div>\n",
       "<style scoped>\n",
       "    .dataframe tbody tr th:only-of-type {\n",
       "        vertical-align: middle;\n",
       "    }\n",
       "\n",
       "    .dataframe tbody tr th {\n",
       "        vertical-align: top;\n",
       "    }\n",
       "\n",
       "    .dataframe thead th {\n",
       "        text-align: right;\n",
       "    }\n",
       "</style>\n",
       "<table border=\"1\" class=\"dataframe\">\n",
       "  <thead>\n",
       "    <tr style=\"text-align: right;\">\n",
       "      <th></th>\n",
       "      <th>headlines</th>\n",
       "      <th>text</th>\n",
       "      <th>decoder_input</th>\n",
       "      <th>decoder_target</th>\n",
       "    </tr>\n",
       "  </thead>\n",
       "  <tbody>\n",
       "    <tr>\n",
       "      <th>0</th>\n",
       "      <td>upGrad learner switches to career in ML &amp; Al w...</td>\n",
       "      <td>Saurav Kant, an alumnus of upGrad and IIIT-B's...</td>\n",
       "      <td>sostoken upGrad learner switches to career in ...</td>\n",
       "      <td>upGrad learner switches to career in ML &amp; Al w...</td>\n",
       "    </tr>\n",
       "    <tr>\n",
       "      <th>1</th>\n",
       "      <td>Delhi techie wins free food from Swiggy for on...</td>\n",
       "      <td>Kunal Shah's credit card bill payment platform...</td>\n",
       "      <td>sostoken Delhi techie wins free food from Swig...</td>\n",
       "      <td>Delhi techie wins free food from Swiggy for on...</td>\n",
       "    </tr>\n",
       "    <tr>\n",
       "      <th>2</th>\n",
       "      <td>New Zealand end Rohit Sharma-led India's 12-ma...</td>\n",
       "      <td>New Zealand defeated India by 8 wickets in the...</td>\n",
       "      <td>sostoken New Zealand end Rohit Sharma-led Indi...</td>\n",
       "      <td>New Zealand end Rohit Sharma-led India's 12-ma...</td>\n",
       "    </tr>\n",
       "    <tr>\n",
       "      <th>3</th>\n",
       "      <td>Aegon life iTerm insurance plan helps customer...</td>\n",
       "      <td>With Aegon Life iTerm Insurance plan, customer...</td>\n",
       "      <td>sostoken Aegon life iTerm insurance plan helps...</td>\n",
       "      <td>Aegon life iTerm insurance plan helps customer...</td>\n",
       "    </tr>\n",
       "    <tr>\n",
       "      <th>4</th>\n",
       "      <td>Have known Hirani for yrs, what if MeToo claim...</td>\n",
       "      <td>Speaking about the sexual harassment allegatio...</td>\n",
       "      <td>sostoken Have known Hirani for yrs, what if Me...</td>\n",
       "      <td>Have known Hirani for yrs, what if MeToo claim...</td>\n",
       "    </tr>\n",
       "  </tbody>\n",
       "</table>\n",
       "</div>"
      ],
      "text/plain": [
       "                                           headlines  \\\n",
       "0  upGrad learner switches to career in ML & Al w...   \n",
       "1  Delhi techie wins free food from Swiggy for on...   \n",
       "2  New Zealand end Rohit Sharma-led India's 12-ma...   \n",
       "3  Aegon life iTerm insurance plan helps customer...   \n",
       "4  Have known Hirani for yrs, what if MeToo claim...   \n",
       "\n",
       "                                                text  \\\n",
       "0  Saurav Kant, an alumnus of upGrad and IIIT-B's...   \n",
       "1  Kunal Shah's credit card bill payment platform...   \n",
       "2  New Zealand defeated India by 8 wickets in the...   \n",
       "3  With Aegon Life iTerm Insurance plan, customer...   \n",
       "4  Speaking about the sexual harassment allegatio...   \n",
       "\n",
       "                                       decoder_input  \\\n",
       "0  sostoken upGrad learner switches to career in ...   \n",
       "1  sostoken Delhi techie wins free food from Swig...   \n",
       "2  sostoken New Zealand end Rohit Sharma-led Indi...   \n",
       "3  sostoken Aegon life iTerm insurance plan helps...   \n",
       "4  sostoken Have known Hirani for yrs, what if Me...   \n",
       "\n",
       "                                      decoder_target  \n",
       "0  upGrad learner switches to career in ML & Al w...  \n",
       "1  Delhi techie wins free food from Swiggy for on...  \n",
       "2  New Zealand end Rohit Sharma-led India's 12-ma...  \n",
       "3  Aegon life iTerm insurance plan helps customer...  \n",
       "4  Have known Hirani for yrs, what if MeToo claim...  "
      ]
     },
     "execution_count": 77,
     "metadata": {},
     "output_type": "execute_result"
    }
   ],
   "source": [
    "data.head()"
   ]
  },
  {
   "cell_type": "markdown",
   "id": "a10e74ea",
   "metadata": {},
   "source": [
    "## (2) summarize 사용하기"
   ]
  },
  {
   "cell_type": "code",
   "execution_count": 78,
   "id": "12c0bdbf",
   "metadata": {},
   "outputs": [
    {
     "name": "stdout",
     "output_type": "stream",
     "text": [
      "Summary:\n",
      "\n"
     ]
    }
   ],
   "source": [
    "print('Summary:')\n",
    "#print(summarize(text, ratio=0.005))\n",
    "print(summarize(data['text'][i], ratio=0.005))\n",
    "#print(summarize(text['text'].apply(str).iloc[1], ratio=0.005))"
   ]
  },
  {
   "cell_type": "code",
   "execution_count": 74,
   "id": "a8ec1bb6",
   "metadata": {},
   "outputs": [
    {
     "name": "stdout",
     "output_type": "stream",
     "text": [
      "Summary:\n",
      "[]\n"
     ]
    }
   ],
   "source": [
    "print('Summary:')\n",
    "print(summarize(a['text'][i], ratio=0.005, split=True))"
   ]
  },
  {
   "cell_type": "code",
   "execution_count": null,
   "id": "685ad35c",
   "metadata": {},
   "outputs": [],
   "source": [
    "print('Summary:')\n",
    "print(summarize(datatext, words=50))"
   ]
  },
  {
   "cell_type": "markdown",
   "id": "b034177f",
   "metadata": {},
   "source": [
    "# 🤔회고🤔"
   ]
  },
  {
   "cell_type": "code",
   "execution_count": null,
   "id": "39b93286",
   "metadata": {},
   "outputs": [],
   "source": []
  }
 ],
 "metadata": {
  "kernelspec": {
   "display_name": "Python 3 (ipykernel)",
   "language": "python",
   "name": "python3"
  },
  "language_info": {
   "codemirror_mode": {
    "name": "ipython",
    "version": 3
   },
   "file_extension": ".py",
   "mimetype": "text/x-python",
   "name": "python",
   "nbconvert_exporter": "python",
   "pygments_lexer": "ipython3",
   "version": "3.9.7"
  }
 },
 "nbformat": 4,
 "nbformat_minor": 5
}
