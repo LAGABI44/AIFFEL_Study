{
  "nbformat": 4,
  "nbformat_minor": 0,
  "metadata": {
    "colab": {
      "provenance": [],
      "authorship_tag": "ABX9TyMryCLRII27ElpgM3uGJVmT"
    },
    "kernelspec": {
      "name": "python3",
      "display_name": "Python 3"
    },
    "language_info": {
      "name": "python"
    }
  },
  "cells": [
    {
      "cell_type": "markdown",
      "source": [
        "#1-1. LMS 200% 활용하기\n",
        "\n",
        "- LMS란?   \n",
        " Learning management system   \n",
        "- 주로 LMS 기능에 대한 설명이라 패스   \n",
        "    \n",
        "\n",
        "#1-2. 안녕, 우분투\n",
        "###우분투란?   \n",
        "- 리눅스(Linux) 배포판의 한 종류로 구글을 비롯한 수많은 회사에서 표준 배포환경으로 사용하고 있음   \n",
        "- 인공지능 연구개발을 위해 주로 사용하는 운영체제   \n",
        "- 텐서플로우(Tensorflow) 등 머신러닝 라이브러리들이 가장 안정적으로 구동되는 환경   \n",
        "- 미니 상식 : Ubuntu 는 아프리카 반투어에서 유래한 말로, \"네가 있기에 내가 있다\"를 뜻!   \n"
      ],
      "metadata": {
        "id": "77auDiczLAvw"
      }
    },
    {
      "cell_type": "markdown",
      "source": [],
      "metadata": {
        "id": "lIk7dT3EV-FJ"
      }
    }
  ]
}