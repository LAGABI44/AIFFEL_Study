{
  "nbformat": 4,
  "nbformat_minor": 0,
  "metadata": {
    "colab": {
      "name": "[E-02]Toy_Dataset_Classification.ipyn",
      "provenance": [],
      "authorship_tag": "ABX9TyPGmz8yrRdlt0tnTzDDDtYY"
    },
    "kernelspec": {
      "name": "python3",
      "display_name": "Python 3"
    },
    "language_info": {
      "name": "python"
    }
  },
  "cells": [
    {
      "cell_type": "markdown",
      "source": [
        "# 프로젝트2 : Scikit-learn의 Toy Dataset 활용\n",
        "\n",
        "(1) Scikit-learn 이란?\n",
        "\n",
        "  python을 대표하는 머신러닝 라이브러리로 오픈 소스로 공개되어 있어 누구나 무료로 사용이 가능하다.\n",
        "\n",
        "  이 사이킷런은 아래와 같이 2가지의 데이터셋을 제공한다.\n",
        "\n",
        "- 간단하고 작은 데이터셋인 Toy datasets\n",
        "- 비교적 복잡하고 현실 세계를 반영한 Real world datasets\n",
        "\n",
        "(2) Toy Dataset\n",
        "\n",
        " 사이킷런은 2가지 데이터셋을 제공한다고 위에서 말했는데 그 중에서도 Toy Dataset을 활용하여 프로젝트를 진행하고자 한다.\n",
        " \n",
        "- Optical recognition of handwritten digits dataset : 손글씨 이미지 데이터\n",
        "- Wine recognition dataset: 와인 데이터\n",
        "- Breast cancer wisconsin (diagnostic) dataset : 유방암 데이터\n"
      ],
      "metadata": {
        "id": "xsAQ8L0HANq2"
      }
    },
    {
      "cell_type": "markdown",
      "source": [
        "## 목차\n",
        "\n",
        "1. Digits Datasets\n",
        "\n",
        "- 데이터 준비\n",
        "- 데이터셋 분리\n",
        "- 모델 학습 및 측정\n",
        "- 결론\n",
        "\n",
        "\n",
        "---\n",
        "\n",
        "\n",
        "2. Wine Datasets\n",
        "\n",
        "- 데이터 준비\n",
        "- 데이터셋 분리\n",
        "- 모델 학습 및 측정\n",
        "- 결론\n",
        "\n",
        "\n",
        "---\n",
        "\n",
        "\n",
        "3. Cancer Breast Datasets\n",
        "\n",
        "- 데이터 준비\n",
        "- 데이터셋 분리\n",
        "- 모델 학습 및 측정\n",
        "- 결론\n",
        "\n",
        "\n",
        "---\n",
        "4. 회고"
      ],
      "metadata": {
        "id": "JtDh3T7CCLK4"
      }
    },
    {
      "cell_type": "markdown",
      "source": [
        "## <1> 손글씨를 분류해봅시다.\n",
        "\n",
        "### **1. 데이터 준비**"
      ],
      "metadata": {
        "id": "7k-ImTZdB4pR"
      }
    },
    {
      "cell_type": "code",
      "source": [
        "pip install matplotlib"
      ],
      "metadata": {
        "colab": {
          "base_uri": "https://localhost:8080/"
        },
        "id": "OfVhnRiEMqZQ",
        "outputId": "6bf4b946-f610-4f12-b7e6-aec2955a6d3b"
      },
      "execution_count": null,
      "outputs": [
        {
          "output_type": "stream",
          "name": "stdout",
          "text": [
            "Requirement already satisfied: matplotlib in /usr/local/lib/python3.7/dist-packages (3.2.2)\n",
            "Requirement already satisfied: kiwisolver>=1.0.1 in /usr/local/lib/python3.7/dist-packages (from matplotlib) (1.3.2)\n",
            "Requirement already satisfied: pyparsing!=2.0.4,!=2.1.2,!=2.1.6,>=2.0.1 in /usr/local/lib/python3.7/dist-packages (from matplotlib) (3.0.6)\n",
            "Requirement already satisfied: numpy>=1.11 in /usr/local/lib/python3.7/dist-packages (from matplotlib) (1.19.5)\n",
            "Requirement already satisfied: cycler>=0.10 in /usr/local/lib/python3.7/dist-packages (from matplotlib) (0.11.0)\n",
            "Requirement already satisfied: python-dateutil>=2.1 in /usr/local/lib/python3.7/dist-packages (from matplotlib) (2.8.2)\n",
            "Requirement already satisfied: six>=1.5 in /usr/local/lib/python3.7/dist-packages (from python-dateutil>=2.1->matplotlib) (1.15.0)\n"
          ]
        }
      ]
    },
    {
      "cell_type": "code",
      "source": [
        "from sklearn.datasets import load_digits\n",
        "from sklearn.model_selection import train_test_split\n",
        "from sklearn.metrics import classification_report\n",
        "\n",
        "import matplotlib.pyplot as plt    #이미지를 보기 위해 추가\n",
        "%matplotlib inline\n",
        "\n",
        "import pandas as pd\n",
        "\n",
        "print(\"슝\")"
      ],
      "metadata": {
        "colab": {
          "base_uri": "https://localhost:8080/"
        },
        "id": "hnQkI5gVDbAe",
        "outputId": "acb23dab-82b9-4870-bfe9-ccf5031ad921"
      },
      "execution_count": null,
      "outputs": [
        {
          "output_type": "stream",
          "name": "stdout",
          "text": [
            "슝\n"
          ]
        }
      ]
    },
    {
      "cell_type": "code",
      "source": [
        "digits = load_digits()\n",
        "\n",
        "print(dir(digits))    # dir()는 객체가 어떤 변수와 메서드를 가지고 있는지 나열함\n",
        "digits.keys()    # keys()는 어떤 정보가 들어있는지 확인하는 메서드"
      ],
      "metadata": {
        "colab": {
          "base_uri": "https://localhost:8080/"
        },
        "id": "oio__z8fDwRX",
        "outputId": "58969b0c-0f12-4013-9675-d900ee0d3c75"
      },
      "execution_count": null,
      "outputs": [
        {
          "output_type": "stream",
          "name": "stdout",
          "text": [
            "['DESCR', 'data', 'feature_names', 'frame', 'images', 'target', 'target_names']\n"
          ]
        },
        {
          "output_type": "execute_result",
          "data": {
            "text/plain": [
              "dict_keys(['data', 'target', 'frame', 'feature_names', 'target_names', 'images', 'DESCR'])"
            ]
          },
          "metadata": {},
          "execution_count": 4
        }
      ]
    },
    {
      "cell_type": "code",
      "source": [
        "digits_data = digits.data    #중요한 데이터를 변수 digits_data에 저장\n",
        "\n",
        "print(digits_data.shape)   #배열의 형상 정보 확인"
      ],
      "metadata": {
        "colab": {
          "base_uri": "https://localhost:8080/"
        },
        "id": "GhfZfbnQEQ-g",
        "outputId": "e7fcd9ce-ba63-4cfb-cbcf-0843b27e18dd"
      },
      "execution_count": null,
      "outputs": [
        {
          "output_type": "stream",
          "name": "stdout",
          "text": [
            "(1797, 64)\n"
          ]
        }
      ]
    },
    {
      "cell_type": "code",
      "source": [
        "digits_data[0]    #샘플로 데이터 1개 확인"
      ],
      "metadata": {
        "colab": {
          "base_uri": "https://localhost:8080/"
        },
        "id": "z62gVBAnEkvI",
        "outputId": "96f20c52-85f3-41df-94ea-a921c61b7822"
      },
      "execution_count": null,
      "outputs": [
        {
          "output_type": "execute_result",
          "data": {
            "text/plain": [
              "array([ 0.,  0.,  5., 13.,  9.,  1.,  0.,  0.,  0.,  0., 13., 15., 10.,\n",
              "       15.,  5.,  0.,  0.,  3., 15.,  2.,  0., 11.,  8.,  0.,  0.,  4.,\n",
              "       12.,  0.,  0.,  8.,  8.,  0.,  0.,  5.,  8.,  0.,  0.,  9.,  8.,\n",
              "        0.,  0.,  4., 11.,  0.,  1., 12.,  7.,  0.,  0.,  2., 14.,  5.,\n",
              "       10., 12.,  0.,  0.,  0.,  0.,  6., 13., 10.,  0.,  0.,  0.])"
            ]
          },
          "metadata": {},
          "execution_count": 6
        }
      ]
    },
    {
      "cell_type": "code",
      "source": [
        "# 이미지 확인하기\n",
        "\n",
        "for i in range(10):\n",
        "    plt.subplot(2, 5, i+1)\n",
        "    plt.imshow(digits.data[i].reshape(8, 8), cmap='gray')\n",
        "    plt.axis('off')\n",
        "plt.show()"
      ],
      "metadata": {
        "colab": {
          "base_uri": "https://localhost:8080/",
          "height": 207
        },
        "id": "GiqsjBJULebk",
        "outputId": "7b9f9a61-c761-4a4e-9dab-f2af8c13276e"
      },
      "execution_count": null,
      "outputs": [
        {
          "output_type": "display_data",
          "data": {
            "image/png": "[encoded data removed]",
            "text/plain": [
              "<Figure size 432x288 with 10 Axes>"
            ]
          },
          "metadata": {
            "needs_background": "light"
          }
        }
      ]
    },
    {
      "cell_type": "markdown",
      "source": [
        "순서대로 sepal length, sepal width, petal length, petal width를 나타낸다."
      ],
      "metadata": {
        "id": "LYni4zd_E3X5"
      }
    },
    {
      "cell_type": "code",
      "source": [
        "# 라벨지 확인\n",
        "\n",
        "digits_label = digits.target    #데이터의 target을 digits_label 변수에 저장\n",
        "print(digits_label.shape)\n",
        "digits_label\n",
        "digits.target_names    #라벨의 이름들 확인"
      ],
      "metadata": {
        "colab": {
          "base_uri": "https://localhost:8080/"
        },
        "id": "SaAnYchLFD7Q",
        "outputId": "bb0b1e8c-47b0-4deb-d61b-1a06af88563a"
      },
      "execution_count": null,
      "outputs": [
        {
          "output_type": "stream",
          "name": "stdout",
          "text": [
            "(1797,)\n"
          ]
        },
        {
          "output_type": "execute_result",
          "data": {
            "text/plain": [
              "array([0, 1, 2, 3, 4, 5, 6, 7, 8, 9])"
            ]
          },
          "metadata": {},
          "execution_count": 8
        }
      ]
    },
    {
      "cell_type": "code",
      "source": [
        "# 데이터에 대한 설명 보기\n",
        "\n",
        "print(digits.DESCR)"
      ],
      "metadata": {
        "colab": {
          "base_uri": "https://localhost:8080/"
        },
        "id": "kgyb-JWgG8zJ",
        "outputId": "15a1267f-ce99-4fd7-b3bb-cf3c05a1ecce"
      },
      "execution_count": null,
      "outputs": [
        {
          "output_type": "stream",
          "name": "stdout",
          "text": [
            ".. _digits_dataset:\n",
            "\n",
            "Optical recognition of handwritten digits dataset\n",
            "--------------------------------------------------\n",
            "\n",
            "**Data Set Characteristics:**\n",
            "\n",
            "    :Number of Instances: 1797\n",
            "    :Number of Attributes: 64\n",
            "    :Attribute Information: 8x8 image of integer pixels in the range 0..16.\n",
            "    :Missing Attribute Values: None\n",
            "    :Creator: E. Alpaydin (alpaydin '@' boun.edu.tr)\n",
            "    :Date: July; 1998\n",
            "\n",
            "This is a copy of the test set of the UCI ML hand-written digits datasets\n",
            "https://archive.ics.uci.edu/ml/datasets/Optical+Recognition+of+Handwritten+Digits\n",
            "\n",
            "The data set contains images of hand-written digits: 10 classes where\n",
            "each class refers to a digit.\n",
            "\n",
            "Preprocessing programs made available by NIST were used to extract\n",
            "normalized bitmaps of handwritten digits from a preprinted form. From a\n",
            "total of 43 people, 30 contributed to the training set and different 13\n",
            "to the test set. 32x32 bitmaps are divided into nonoverlapping blocks of\n",
            "4x4 and the number of on pixels are counted in each block. This generates\n",
            "an input matrix of 8x8 where each element is an integer in the range\n",
            "0..16. This reduces dimensionality and gives invariance to small\n",
            "distortions.\n",
            "\n",
            "For info on NIST preprocessing routines, see M. D. Garris, J. L. Blue, G.\n",
            "T. Candela, D. L. Dimmick, J. Geist, P. J. Grother, S. A. Janet, and C.\n",
            "L. Wilson, NIST Form-Based Handprint Recognition System, NISTIR 5469,\n",
            "1994.\n",
            "\n",
            ".. topic:: References\n",
            "\n",
            "  - C. Kaynak (1995) Methods of Combining Multiple Classifiers and Their\n",
            "    Applications to Handwritten Digit Recognition, MSc Thesis, Institute of\n",
            "    Graduate Studies in Science and Engineering, Bogazici University.\n",
            "  - E. Alpaydin, C. Kaynak (1998) Cascading Classifiers, Kybernetika.\n",
            "  - Ken Tang and Ponnuthurai N. Suganthan and Xi Yao and A. Kai Qin.\n",
            "    Linear dimensionalityreduction using relevance weighted LDA. School of\n",
            "    Electrical and Electronic Engineering Nanyang Technological University.\n",
            "    2005.\n",
            "  - Claudio Gentile. A New Approximate Maximal Margin Classification\n",
            "    Algorithm. NIPS. 2000.\n",
            "\n"
          ]
        }
      ]
    },
    {
      "cell_type": "markdown",
      "source": [
        "- 총 5620 개의 데이터 -> DESCR 설명 중 오류 -> 총 1797개의 데이터\n",
        "- feature 은 64개의 픽셀값 (8x8 이미지)\n",
        "- 10개의 라벨\n",
        "- 결측치 없음"
      ],
      "metadata": {
        "id": "VFMyJ2M8HIAY"
      }
    },
    {
      "cell_type": "markdown",
      "source": [
        "### **2. 데이터셋 분리**\n",
        "\n",
        "데이터셋 분리는 sklearn.model_selection 패키지의 train_test_split 함수로 간단하게 분리 할 수 있다.\n",
        "\n",
        "이를 활용해 training dataset과 test dataset을 분리해보겠다."
      ],
      "metadata": {
        "id": "9MdJ34D6GVWr"
      }
    },
    {
      "cell_type": "code",
      "source": [
        "X_train, X_test, y_train, y_test = train_test_split(digits_data,\n",
        "                                                   digits_label,\n",
        "                                                   test_size=0.2,\n",
        "                                                   random_state=7)\n",
        "\n",
        "print('X_train 개수: ', len(X_train),', X_test 개수: ', len(X_test))\n",
        "\n",
        "#만들어진 데이터셋 확인\n",
        "X_train.shape, y_train.shape\n",
        "X_test.shape, y_test.shape"
      ],
      "metadata": {
        "colab": {
          "base_uri": "https://localhost:8080/"
        },
        "id": "1z93eUK-GT8e",
        "outputId": "5d8bb9b6-aa72-4840-ba9d-debcec96be92"
      },
      "execution_count": null,
      "outputs": [
        {
          "output_type": "stream",
          "name": "stdout",
          "text": [
            "X_train 개수:  1437 , X_test 개수:  360\n"
          ]
        },
        {
          "output_type": "execute_result",
          "data": {
            "text/plain": [
              "((360, 64), (360,))"
            ]
          },
          "metadata": {},
          "execution_count": 10
        }
      ]
    },
    {
      "cell_type": "markdown",
      "source": [
        "### **3. 모델 학습 및 측정**\n",
        "\n",
        "### (1) Decision Tree 사용"
      ],
      "metadata": {
        "id": "UpGSpQ6SI3p8"
      }
    },
    {
      "cell_type": "code",
      "source": [
        "#모델 학습\n",
        "from sklearn.tree import DecisionTreeClassifier\n",
        "from sklearn.metrics import accuracy_score\n",
        "\n",
        "decision_tree = DecisionTreeClassifier(random_state=32)    #decision_tree 라는 변수에 모델을 저장\n",
        "decision_tree.fit(X_train, y_train)\n",
        "\n",
        "#test 데이터로 예측+정확도 확인\n",
        "y_pred = decision_tree.predict(X_test)\n",
        "\n",
        "print(classification_report(y_test, y_pred))\n",
        "accuracy = accuracy_score(y_test, y_pred)\n",
        "accuracy"
      ],
      "metadata": {
        "colab": {
          "base_uri": "https://localhost:8080/"
        },
        "id": "70PazPXpJN8W",
        "outputId": "64e9580b-5c9e-42d7-fb95-58db22f94625"
      },
      "execution_count": null,
      "outputs": [
        {
          "output_type": "stream",
          "name": "stdout",
          "text": [
            "              precision    recall  f1-score   support\n",
            "\n",
            "           0       1.00      0.98      0.99        43\n",
            "           1       0.81      0.81      0.81        42\n",
            "           2       0.79      0.82      0.80        40\n",
            "           3       0.79      0.91      0.85        34\n",
            "           4       0.83      0.95      0.89        37\n",
            "           5       0.90      0.96      0.93        28\n",
            "           6       0.84      0.93      0.88        28\n",
            "           7       0.96      0.82      0.89        33\n",
            "           8       0.88      0.65      0.75        43\n",
            "           9       0.78      0.78      0.78        32\n",
            "\n",
            "    accuracy                           0.86       360\n",
            "   macro avg       0.86      0.86      0.86       360\n",
            "weighted avg       0.86      0.86      0.85       360\n",
            "\n"
          ]
        },
        {
          "output_type": "execute_result",
          "data": {
            "text/plain": [
              "0.8555555555555555"
            ]
          },
          "metadata": {},
          "execution_count": 11
        }
      ]
    },
    {
      "cell_type": "markdown",
      "source": [
        "### **❗ 분석**\n",
        " accuracy 결과를 보면 대략 84%의 정확도로 생각보다 높지 않은 수치가 나왔다.\n",
        "\n",
        "  성능 지표를 살펴보면 숫자손글씨 3, 8,9에서 f1-score 이 0.8 이하로 낮게 나온 것을 볼 수 있다. \n",
        "  \n",
        "  이 숫자손글씨들의 판단률이 낮아지면서 전체적인 정확도에 영향을 주었다고 생각한다."
      ],
      "metadata": {
        "id": "QpQP2KWKUbc-"
      }
    },
    {
      "cell_type": "markdown",
      "source": [
        "###  (2) Random Forest 사용"
      ],
      "metadata": {
        "id": "uRtn70q-JMfW"
      }
    },
    {
      "cell_type": "code",
      "source": [
        "#모델 학습\n",
        "from sklearn.ensemble import RandomForestClassifier\n",
        "\n",
        "X_train, X_test, y_train, y_test = train_test_split(digits_data, \n",
        "                                                    digits_label, \n",
        "                                                    test_size=0.2, \n",
        "                                                    random_state=21)\n",
        "\n",
        "random_forest = RandomForestClassifier(random_state=32)\n",
        "random_forest.fit(X_train, y_train)\n",
        "y_pred = random_forest.predict(X_test)\n",
        "\n",
        "#test 데이터로 예측+정확도 확인\n",
        "print(classification_report(y_test, y_pred))\n",
        "accuracy = accuracy_score(y_test, y_pred)\n",
        "accuracy"
      ],
      "metadata": {
        "colab": {
          "base_uri": "https://localhost:8080/"
        },
        "id": "26YmIwy-Kfi-",
        "outputId": "189bd5a5-78be-4274-f964-56f3cc2190af"
      },
      "execution_count": null,
      "outputs": [
        {
          "output_type": "stream",
          "name": "stdout",
          "text": [
            "              precision    recall  f1-score   support\n",
            "\n",
            "           0       0.97      0.94      0.95        32\n",
            "           1       0.97      1.00      0.99        36\n",
            "           2       1.00      1.00      1.00        30\n",
            "           3       0.98      0.98      0.98        41\n",
            "           4       0.94      0.97      0.95        32\n",
            "           5       1.00      0.98      0.99        46\n",
            "           6       1.00      0.97      0.98        32\n",
            "           7       0.98      1.00      0.99        40\n",
            "           8       0.93      0.98      0.95        42\n",
            "           9       1.00      0.93      0.96        29\n",
            "\n",
            "    accuracy                           0.97       360\n",
            "   macro avg       0.98      0.97      0.97       360\n",
            "weighted avg       0.98      0.97      0.98       360\n",
            "\n"
          ]
        },
        {
          "output_type": "execute_result",
          "data": {
            "text/plain": [
              "0.975"
            ]
          },
          "metadata": {},
          "execution_count": 28
        }
      ]
    },
    {
      "cell_type": "markdown",
      "source": [
        "### **❗ 분석**\n",
        "\n",
        " 성능지표를 살펴보면 전반적으로 수치가 높다.\n",
        " \n",
        " 대부분 90후반대에 분포하는데 눈에 띄는 것은 숫자손글씨 2가 100%의 올바르게 판단하였다는 것이다.\n",
        "\n",
        " Decision Tree에 비하면 상당히 성능이 좋음을 알 수 있다."
      ],
      "metadata": {
        "id": "6BlDTGHCWmJQ"
      }
    },
    {
      "cell_type": "markdown",
      "source": [
        "### (3) Support Vector Machine (SVM) 사용"
      ],
      "metadata": {
        "id": "j7NpZmD7PnV7"
      }
    },
    {
      "cell_type": "code",
      "source": [
        "#모델 학습\n",
        "from sklearn import svm\n",
        "svm_model = svm.SVC()\n",
        "\n",
        "svm_model.fit(X_train, y_train)\n",
        "y_pred = svm_model.predict(X_test)\n",
        "\n",
        "#test 데이터로 예측+정확도 확인\n",
        "print(classification_report(y_test, y_pred))\n",
        "accuracy = accuracy_score(y_test, y_pred)\n",
        "accuracy"
      ],
      "metadata": {
        "colab": {
          "base_uri": "https://localhost:8080/"
        },
        "id": "vaPLhJmePh6J",
        "outputId": "0aa3c1ba-a450-4837-ec4b-c9eea2d2bb71"
      },
      "execution_count": null,
      "outputs": [
        {
          "output_type": "stream",
          "name": "stdout",
          "text": [
            "              precision    recall  f1-score   support\n",
            "\n",
            "           0       1.00      0.97      0.98        32\n",
            "           1       0.95      1.00      0.97        36\n",
            "           2       1.00      1.00      1.00        30\n",
            "           3       1.00      1.00      1.00        41\n",
            "           4       0.97      1.00      0.98        32\n",
            "           5       0.98      1.00      0.99        46\n",
            "           6       1.00      1.00      1.00        32\n",
            "           7       1.00      1.00      1.00        40\n",
            "           8       0.98      0.95      0.96        42\n",
            "           9       1.00      0.93      0.96        29\n",
            "\n",
            "    accuracy                           0.99       360\n",
            "   macro avg       0.99      0.99      0.99       360\n",
            "weighted avg       0.99      0.99      0.99       360\n",
            "\n"
          ]
        },
        {
          "output_type": "execute_result",
          "data": {
            "text/plain": [
              "0.9861111111111112"
            ]
          },
          "metadata": {},
          "execution_count": 29
        }
      ]
    },
    {
      "cell_type": "markdown",
      "source": [
        "### **❗ 분석**\n",
        "\n",
        "성능지표를 대충 훑어보기만 해도 100% 올바르게 판단한 숫자들이 몇 개 보인다.\n",
        "\n",
        "40%에 해당하는 숫자들이 f1-score에서 1.00 수치를 얻었고, SVM 모델이 숫자손글씨를 판단하는데 가장 적합한 모델이라고 생각한다."
      ],
      "metadata": {
        "id": "Wgdxf0L4XCNV"
      }
    },
    {
      "cell_type": "markdown",
      "source": [
        "### (4) Stochastic Gradient Descent Classifier (SGDClassifier)"
      ],
      "metadata": {
        "id": "WjQyEes8RP1U"
      }
    },
    {
      "cell_type": "code",
      "source": [
        "#모델 학습\n",
        "from sklearn.linear_model import SGDClassifier\n",
        "sgd_model = SGDClassifier()\n",
        "\n",
        "sgd_model.fit(X_train, y_train)\n",
        "y_pred = sgd_model.predict(X_test)\n",
        "\n",
        "#test 데이터로 예측+정확도 확인\n",
        "print(classification_report(y_test, y_pred))\n",
        "accuracy = accuracy_score(y_test, y_pred)\n",
        "accuracy"
      ],
      "metadata": {
        "colab": {
          "base_uri": "https://localhost:8080/"
        },
        "id": "rjiBfjoURQNU",
        "outputId": "44cd0b20-5953-4035-b904-7a1267d77e15"
      },
      "execution_count": null,
      "outputs": [
        {
          "output_type": "stream",
          "name": "stdout",
          "text": [
            "              precision    recall  f1-score   support\n",
            "\n",
            "           0       1.00      0.97      0.98        32\n",
            "           1       0.92      0.92      0.92        36\n",
            "           2       0.97      0.97      0.97        30\n",
            "           3       0.91      0.98      0.94        41\n",
            "           4       0.97      0.97      0.97        32\n",
            "           5       0.97      0.85      0.91        46\n",
            "           6       1.00      1.00      1.00        32\n",
            "           7       0.95      1.00      0.98        40\n",
            "           8       0.87      0.93      0.90        42\n",
            "           9       0.93      0.90      0.91        29\n",
            "\n",
            "    accuracy                           0.94       360\n",
            "   macro avg       0.95      0.95      0.95       360\n",
            "weighted avg       0.95      0.94      0.94       360\n",
            "\n"
          ]
        },
        {
          "output_type": "execute_result",
          "data": {
            "text/plain": [
              "0.9444444444444444"
            ]
          },
          "metadata": {},
          "execution_count": 30
        }
      ]
    },
    {
      "cell_type": "markdown",
      "source": [
        "### **❗ 분석**\n",
        "\n",
        "성능 지표를 살펴보면 90% 초반대부터 후반대까지 골고루 분포해있다.\n",
        "\n",
        "상대적으로 숫자손글씨 1, 5, 8, 9의 f1-score가 다른 숫자손글씨들에 비해 낮은 모습을 보여주는데\n",
        "\n",
        "이들이 정확도에 영향을 주었다고 생각한다."
      ],
      "metadata": {
        "id": "ZNuQegdGYFwe"
      }
    },
    {
      "cell_type": "markdown",
      "source": [
        "### (5) Logistic Regression 사용"
      ],
      "metadata": {
        "id": "LSQN7mODRQkm"
      }
    },
    {
      "cell_type": "code",
      "source": [
        "#모델 학습\n",
        "from sklearn.linear_model import LogisticRegression\n",
        "logistic_model = LogisticRegression()\n",
        "\n",
        "logistic_model.fit(X_train, y_train)\n",
        "y_pred = logistic_model.predict(X_test)\n",
        "\n",
        "#test 데이터로 예측+정확도 확인\n",
        "print(classification_report(y_test, y_pred))\n",
        "accuracy = accuracy_score(y_test, y_pred)\n",
        "accuracy"
      ],
      "metadata": {
        "colab": {
          "base_uri": "https://localhost:8080/"
        },
        "id": "zR_mEuMHRQ6D",
        "outputId": "a74a9391-2355-46a3-b06d-01117eca20ad"
      },
      "execution_count": null,
      "outputs": [
        {
          "output_type": "stream",
          "name": "stdout",
          "text": [
            "              precision    recall  f1-score   support\n",
            "\n",
            "           0       1.00      1.00      1.00        32\n",
            "           1       0.95      0.97      0.96        36\n",
            "           2       1.00      1.00      1.00        30\n",
            "           3       0.98      1.00      0.99        41\n",
            "           4       0.94      0.97      0.95        32\n",
            "           5       0.98      0.98      0.98        46\n",
            "           6       1.00      1.00      1.00        32\n",
            "           7       0.97      0.97      0.97        40\n",
            "           8       1.00      0.95      0.98        42\n",
            "           9       0.96      0.93      0.95        29\n",
            "\n",
            "    accuracy                           0.98       360\n",
            "   macro avg       0.98      0.98      0.98       360\n",
            "weighted avg       0.98      0.98      0.98       360\n",
            "\n"
          ]
        },
        {
          "output_type": "stream",
          "name": "stderr",
          "text": [
            "/usr/local/lib/python3.7/dist-packages/sklearn/linear_model/_logistic.py:818: ConvergenceWarning: lbfgs failed to converge (status=1):\n",
            "STOP: TOTAL NO. of ITERATIONS REACHED LIMIT.\n",
            "\n",
            "Increase the number of iterations (max_iter) or scale the data as shown in:\n",
            "    https://scikit-learn.org/stable/modules/preprocessing.html\n",
            "Please also refer to the documentation for alternative solver options:\n",
            "    https://scikit-learn.org/stable/modules/linear_model.html#logistic-regression\n",
            "  extra_warning_msg=_LOGISTIC_SOLVER_CONVERGENCE_MSG,\n"
          ]
        },
        {
          "output_type": "execute_result",
          "data": {
            "text/plain": [
              "0.9777777777777777"
            ]
          },
          "metadata": {},
          "execution_count": 32
        }
      ]
    },
    {
      "cell_type": "markdown",
      "source": [
        "### **❗ 분석**\n",
        "\n",
        "전반적으로 성능지표 수치들이 높다.\n",
        "\n",
        "100% 올바르게 판단된 숫자손글씨가 전체의 30%이지만 다른 숫자손글씨들도 매우 우수한 수치를 가졌기 때문에,\n",
        "\n",
        "아주 근소한 차이로 Random Forest 모델보다 높은 정확도를 가진 것을 확인할 수 있다.\n",
        "\n",
        "따라서 Random Forest와 Logistic Regression 모델이 숫자손글씨 판별하는데 가장 적합한 모델이라고 생각한다."
      ],
      "metadata": {
        "id": "tDkwKGSCYcwQ"
      }
    },
    {
      "cell_type": "markdown",
      "source": [
        "### **4. 결론**\n",
        "\n",
        "\n",
        "\n",
        "---\n",
        "\n",
        "### [accuracy]\n",
        "\n",
        "\n",
        "(1) Decision Tree    0.8444444444444444\n",
        "\n",
        "(2) Random Forest   0.975\n",
        "\n",
        "(3) SVM    0.9861111111111112\n",
        "\n",
        "(4) SGDClassifier    0.9444444444444444\n",
        "\n",
        "(5) Logistic Regression    0.9777777777777777\n",
        "\n",
        "\n",
        "---\n",
        "- 숫자 손글씨 판별은 0~9까지의 균등한 자료들을 좀 더 정확하게 맞춰야하기 때문에 '정확도'를 평가 지표로 사용하였다.\n",
        "\n",
        "- Decision Tree 는 유일하게 90%를 넘지 못한 수치를 보여주었는데, 5개의 모델을 비교해본 결과 해당 모델은 숫자손글씨를 판별하는데 적합하지 않은 모델이라고 판단된다.\n",
        "- 특히나 Random Forest, SVM, Logistic Regression 는 97%를 넘는 고정확도를 보여주는데 성능지표를 살펴봐도 상당히 우수한 수치들을 얻었음을 확인할 수 있다.\n",
        "- 모델 적합성을 판단할 때는 정확도 뿐만 아니라 성능지표도 같이 확인하는 것이 좋다.\n",
        "- F1 score는 Recall과 Precision의 조화평균을 의미한다.\n",
        "\n",
        "\n",
        "# 가장 적합한 모델 : Random Forest, Logistic Regression\n"
      ],
      "metadata": {
        "id": "KU5FZ3ZPSoQX"
      }
    },
    {
      "cell_type": "markdown",
      "source": [
        "\n",
        "\n",
        "---\n",
        "\n"
      ],
      "metadata": {
        "id": "KmlZff2aZnP7"
      }
    },
    {
      "cell_type": "markdown",
      "source": [
        "## <2> 와인을 분류해봅시다.\n",
        "\n",
        "### **1. 데이터 준비**"
      ],
      "metadata": {
        "id": "lhQwOFzyZrug"
      }
    },
    {
      "cell_type": "code",
      "source": [
        "from sklearn.datasets import load_wine\n",
        "from sklearn.model_selection import train_test_split\n",
        "from sklearn.metrics import classification_report"
      ],
      "metadata": {
        "id": "vOqHDs2jZ4mq"
      },
      "execution_count": null,
      "outputs": []
    },
    {
      "cell_type": "code",
      "source": [
        "wine = load_wine()    #load_wine() 메소드를 이용하여 변수 wine에 데이터를 할당\n",
        "wine_data = wine.data      # wine feature데이터 저장 저장\n",
        "wine_label = wine.target    # wine 의 라벨 저장\n",
        "\n",
        "#데이터 확인\n",
        "wine.keys()\n",
        "print(wine_data.shape)\n",
        "wine_data[0]\n",
        "\n",
        "print(\"데이터 확인 끝!\")\n",
        "\n",
        "#라벨지 확인\n",
        "print(wine_label.shape)\n",
        "print(wine_label[:])\n",
        "print(wine.target_names)\n",
        "\n",
        "print(\"라벨지 확인 끝!\")\n",
        "\n",
        "#와인 데이터 설명 보기\n",
        "print(wine.DESCR)"
      ],
      "metadata": {
        "colab": {
          "base_uri": "https://localhost:8080/"
        },
        "id": "dsBXf6vxaG2K",
        "outputId": "0998526c-41e4-4f4e-a7fa-2ce62993f671"
      },
      "execution_count": null,
      "outputs": [
        {
          "output_type": "stream",
          "name": "stdout",
          "text": [
            "(178, 13)\n",
            "데이터 확인 끝!\n",
            "(178,)\n",
            "[0 0 0 0 0 0 0 0 0 0 0 0 0 0 0 0 0 0 0 0 0 0 0 0 0 0 0 0 0 0 0 0 0 0 0 0 0\n",
            " 0 0 0 0 0 0 0 0 0 0 0 0 0 0 0 0 0 0 0 0 0 0 1 1 1 1 1 1 1 1 1 1 1 1 1 1 1\n",
            " 1 1 1 1 1 1 1 1 1 1 1 1 1 1 1 1 1 1 1 1 1 1 1 1 1 1 1 1 1 1 1 1 1 1 1 1 1\n",
            " 1 1 1 1 1 1 1 1 1 1 1 1 1 1 1 1 1 1 1 2 2 2 2 2 2 2 2 2 2 2 2 2 2 2 2 2 2\n",
            " 2 2 2 2 2 2 2 2 2 2 2 2 2 2 2 2 2 2 2 2 2 2 2 2 2 2 2 2 2 2]\n",
            "['class_0' 'class_1' 'class_2']\n",
            "라벨지 확인 끝!\n",
            ".. _wine_dataset:\n",
            "\n",
            "Wine recognition dataset\n",
            "------------------------\n",
            "\n",
            "**Data Set Characteristics:**\n",
            "\n",
            "    :Number of Instances: 178 (50 in each of three classes)\n",
            "    :Number of Attributes: 13 numeric, predictive attributes and the class\n",
            "    :Attribute Information:\n",
            " \t\t- Alcohol\n",
            " \t\t- Malic acid\n",
            " \t\t- Ash\n",
            "\t\t- Alcalinity of ash  \n",
            " \t\t- Magnesium\n",
            "\t\t- Total phenols\n",
            " \t\t- Flavanoids\n",
            " \t\t- Nonflavanoid phenols\n",
            " \t\t- Proanthocyanins\n",
            "\t\t- Color intensity\n",
            " \t\t- Hue\n",
            " \t\t- OD280/OD315 of diluted wines\n",
            " \t\t- Proline\n",
            "\n",
            "    - class:\n",
            "            - class_0\n",
            "            - class_1\n",
            "            - class_2\n",
            "\t\t\n",
            "    :Summary Statistics:\n",
            "    \n",
            "    ============================= ==== ===== ======= =====\n",
            "                                   Min   Max   Mean     SD\n",
            "    ============================= ==== ===== ======= =====\n",
            "    Alcohol:                      11.0  14.8    13.0   0.8\n",
            "    Malic Acid:                   0.74  5.80    2.34  1.12\n",
            "    Ash:                          1.36  3.23    2.36  0.27\n",
            "    Alcalinity of Ash:            10.6  30.0    19.5   3.3\n",
            "    Magnesium:                    70.0 162.0    99.7  14.3\n",
            "    Total Phenols:                0.98  3.88    2.29  0.63\n",
            "    Flavanoids:                   0.34  5.08    2.03  1.00\n",
            "    Nonflavanoid Phenols:         0.13  0.66    0.36  0.12\n",
            "    Proanthocyanins:              0.41  3.58    1.59  0.57\n",
            "    Colour Intensity:              1.3  13.0     5.1   2.3\n",
            "    Hue:                          0.48  1.71    0.96  0.23\n",
            "    OD280/OD315 of diluted wines: 1.27  4.00    2.61  0.71\n",
            "    Proline:                       278  1680     746   315\n",
            "    ============================= ==== ===== ======= =====\n",
            "\n",
            "    :Missing Attribute Values: None\n",
            "    :Class Distribution: class_0 (59), class_1 (71), class_2 (48)\n",
            "    :Creator: R.A. Fisher\n",
            "    :Donor: Michael Marshall (MARSHALL%PLU@io.arc.nasa.gov)\n",
            "    :Date: July, 1988\n",
            "\n",
            "This is a copy of UCI ML Wine recognition datasets.\n",
            "https://archive.ics.uci.edu/ml/machine-learning-databases/wine/wine.data\n",
            "\n",
            "The data is the results of a chemical analysis of wines grown in the same\n",
            "region in Italy by three different cultivators. There are thirteen different\n",
            "measurements taken for different constituents found in the three types of\n",
            "wine.\n",
            "\n",
            "Original Owners: \n",
            "\n",
            "Forina, M. et al, PARVUS - \n",
            "An Extendible Package for Data Exploration, Classification and Correlation. \n",
            "Institute of Pharmaceutical and Food Analysis and Technologies,\n",
            "Via Brigata Salerno, 16147 Genoa, Italy.\n",
            "\n",
            "Citation:\n",
            "\n",
            "Lichman, M. (2013). UCI Machine Learning Repository\n",
            "[https://archive.ics.uci.edu/ml]. Irvine, CA: University of California,\n",
            "School of Information and Computer Science. \n",
            "\n",
            ".. topic:: References\n",
            "\n",
            "  (1) S. Aeberhard, D. Coomans and O. de Vel, \n",
            "  Comparison of Classifiers in High Dimensional Settings, \n",
            "  Tech. Rep. no. 92-02, (1992), Dept. of Computer Science and Dept. of  \n",
            "  Mathematics and Statistics, James Cook University of North Queensland. \n",
            "  (Also submitted to Technometrics). \n",
            "\n",
            "  The data was used with many others for comparing various \n",
            "  classifiers. The classes are separable, though only RDA \n",
            "  has achieved 100% correct classification. \n",
            "  (RDA : 100%, QDA 99.4%, LDA 98.9%, 1NN 96.1% (z-transformed data)) \n",
            "  (All results using the leave-one-out technique) \n",
            "\n",
            "  (2) S. Aeberhard, D. Coomans and O. de Vel, \n",
            "  \"THE CLASSIFICATION PERFORMANCE OF RDA\" \n",
            "  Tech. Rep. no. 92-01, (1992), Dept. of Computer Science and Dept. of \n",
            "  Mathematics and Statistics, James Cook University of North Queensland. \n",
            "  (Also submitted to Journal of Chemometrics).\n",
            "\n"
          ]
        }
      ]
    },
    {
      "cell_type": "markdown",
      "source": [
        "- 총 178 개의 데이터\n",
        "- feature 은 총 13개\n",
        "- 3개의 라벨 - 0 (59개), 1 (71개), 2 (48개))\n",
        "- 결측치 없음"
      ],
      "metadata": {
        "id": "Qm9CcE1xcAlW"
      }
    },
    {
      "cell_type": "markdown",
      "source": [
        "### **2. 데이터셋 분리**"
      ],
      "metadata": {
        "id": "tAfGZo44cRQ7"
      }
    },
    {
      "cell_type": "code",
      "source": [
        "X_train, X_test, y_train, y_test = train_test_split(wine_data, wine_label, test_size=0.2, random_state=7)\n",
        "\n",
        "print('X_train 개수: ', len(X_train),', X_test 개수: ', len(X_test))\n",
        "\n",
        "#만들어진 데이터셋 확인\n",
        "X_train.shape, y_train.shape\n",
        "X_test.shape, y_test.shape"
      ],
      "metadata": {
        "colab": {
          "base_uri": "https://localhost:8080/"
        },
        "outputId": "bb95b792-a4c5-49df-874d-eee320ad612b",
        "id": "XTqHKBHicToI"
      },
      "execution_count": null,
      "outputs": [
        {
          "output_type": "stream",
          "name": "stdout",
          "text": [
            "X_train 개수:  142 , X_test 개수:  36\n"
          ]
        },
        {
          "output_type": "execute_result",
          "data": {
            "text/plain": [
              "((36, 13), (36,))"
            ]
          },
          "metadata": {},
          "execution_count": 40
        }
      ]
    },
    {
      "cell_type": "markdown",
      "source": [
        "### **3. 모델 학습 및 측정**\n",
        "\n",
        "### (1) Decision Tree 사용"
      ],
      "metadata": {
        "id": "6JzRrHCpcoVR"
      }
    },
    {
      "cell_type": "code",
      "source": [
        "#모델 학습\n",
        "from sklearn.tree import DecisionTreeClassifier\n",
        "from sklearn.metrics import accuracy_score\n",
        "\n",
        "decision_tree = DecisionTreeClassifier(random_state=32)    #decision_tree 라는 변수에 모델을 저장\n",
        "decision_tree.fit(X_train, y_train)\n",
        "\n",
        "#test 데이터로 예측+정확도 확인\n",
        "y_pred = decision_tree.predict(X_test)\n",
        "\n",
        "print(classification_report(y_test, y_pred))\n",
        "accuracy = accuracy_score(y_test, y_pred)\n",
        "accuracy"
      ],
      "metadata": {
        "colab": {
          "base_uri": "https://localhost:8080/"
        },
        "id": "mWI7uMS3cTfP",
        "outputId": "a90a7587-94bb-4c3a-fc62-8c817c7aa177"
      },
      "execution_count": null,
      "outputs": [
        {
          "output_type": "stream",
          "name": "stdout",
          "text": [
            "              precision    recall  f1-score   support\n",
            "\n",
            "           0       1.00      1.00      1.00         7\n",
            "           1       0.89      1.00      0.94        17\n",
            "           2       1.00      0.83      0.91        12\n",
            "\n",
            "    accuracy                           0.94        36\n",
            "   macro avg       0.96      0.94      0.95        36\n",
            "weighted avg       0.95      0.94      0.94        36\n",
            "\n"
          ]
        },
        {
          "output_type": "execute_result",
          "data": {
            "text/plain": [
              "0.9444444444444444"
            ]
          },
          "metadata": {},
          "execution_count": 41
        }
      ]
    },
    {
      "cell_type": "markdown",
      "source": [
        "### **❗ 분석**\n",
        "\n",
        "\n",
        "f1-score 와 정확도 모두 0.9를 넘긴 준수한 수치를 보여준다.\n",
        "\n"
      ],
      "metadata": {
        "id": "UyeGZBtfm5K-"
      }
    },
    {
      "cell_type": "markdown",
      "source": [
        "###  (2) Random Forest 사용"
      ],
      "metadata": {
        "id": "6lJNsHrhdAZk"
      }
    },
    {
      "cell_type": "code",
      "source": [
        "#모델 학습\n",
        "from sklearn.ensemble import RandomForestClassifier\n",
        "\n",
        "random_forest = RandomForestClassifier(random_state=32)\n",
        "random_forest.fit(X_train, y_train)\n",
        "y_pred = random_forest.predict(X_test)\n",
        "\n",
        "#test 데이터로 예측+정확도 확인\n",
        "print(classification_report(y_test, y_pred))\n",
        "accuracy = accuracy_score(y_test, y_pred)\n",
        "accuracy"
      ],
      "metadata": {
        "colab": {
          "base_uri": "https://localhost:8080/"
        },
        "id": "3y58d3BJc7i4",
        "outputId": "b0231b50-9a56-4d39-ab9c-9d97f538555c"
      },
      "execution_count": null,
      "outputs": [
        {
          "output_type": "stream",
          "name": "stdout",
          "text": [
            "              precision    recall  f1-score   support\n",
            "\n",
            "           0       1.00      1.00      1.00        15\n",
            "           1       1.00      1.00      1.00        10\n",
            "           2       1.00      1.00      1.00        11\n",
            "\n",
            "    accuracy                           1.00        36\n",
            "   macro avg       1.00      1.00      1.00        36\n",
            "weighted avg       1.00      1.00      1.00        36\n",
            "\n"
          ]
        },
        {
          "output_type": "execute_result",
          "data": {
            "text/plain": [
              "1.0"
            ]
          },
          "metadata": {},
          "execution_count": 46
        }
      ]
    },
    {
      "cell_type": "markdown",
      "source": [
        "### **❗ 분석**\n",
        "\n",
        "Random Forest 학습 결과 100%로 완벽한 수치를 보여준다.\n",
        "\n",
        "성능 지표로도 우수한 결과가 나왔기 때문에 해당 모델은 와인 분류하기에 가장 적합하다고 생각한다."
      ],
      "metadata": {
        "id": "zvsJX2Ct1OXM"
      }
    },
    {
      "cell_type": "markdown",
      "source": [
        "### (3) Support Vector Machine (SVM) 사용"
      ],
      "metadata": {
        "id": "oVGrPCUWdlSm"
      }
    },
    {
      "cell_type": "code",
      "source": [
        "#모델 학습\n",
        "from sklearn import svm\n",
        "svm_model = svm.SVC()\n",
        "\n",
        "svm_model.fit(X_train, y_train)\n",
        "y_pred = svm_model.predict(X_test)\n",
        "\n",
        "#test 데이터로 예측+정확도 확인\n",
        "print(classification_report(y_test, y_pred))\n",
        "accuracy = accuracy_score(y_test, y_pred)\n",
        "accuracy"
      ],
      "metadata": {
        "colab": {
          "base_uri": "https://localhost:8080/"
        },
        "id": "Pglko_a4dIcX",
        "outputId": "9fb5b060-0121-489f-ff60-2b56fd88210a"
      },
      "execution_count": null,
      "outputs": [
        {
          "output_type": "stream",
          "name": "stdout",
          "text": [
            "              precision    recall  f1-score   support\n",
            "\n",
            "           0       0.86      0.80      0.83        15\n",
            "           1       0.45      1.00      0.62        10\n",
            "           2       0.00      0.00      0.00        11\n",
            "\n",
            "    accuracy                           0.61        36\n",
            "   macro avg       0.44      0.60      0.48        36\n",
            "weighted avg       0.48      0.61      0.52        36\n",
            "\n"
          ]
        },
        {
          "output_type": "stream",
          "name": "stderr",
          "text": [
            "/usr/local/lib/python3.7/dist-packages/sklearn/metrics/_classification.py:1318: UndefinedMetricWarning: Precision and F-score are ill-defined and being set to 0.0 in labels with no predicted samples. Use `zero_division` parameter to control this behavior.\n",
            "  _warn_prf(average, modifier, msg_start, len(result))\n",
            "/usr/local/lib/python3.7/dist-packages/sklearn/metrics/_classification.py:1318: UndefinedMetricWarning: Precision and F-score are ill-defined and being set to 0.0 in labels with no predicted samples. Use `zero_division` parameter to control this behavior.\n",
            "  _warn_prf(average, modifier, msg_start, len(result))\n",
            "/usr/local/lib/python3.7/dist-packages/sklearn/metrics/_classification.py:1318: UndefinedMetricWarning: Precision and F-score are ill-defined and being set to 0.0 in labels with no predicted samples. Use `zero_division` parameter to control this behavior.\n",
            "  _warn_prf(average, modifier, msg_start, len(result))\n"
          ]
        },
        {
          "output_type": "execute_result",
          "data": {
            "text/plain": [
              "0.6111111111111112"
            ]
          },
          "metadata": {},
          "execution_count": 44
        }
      ]
    },
    {
      "cell_type": "markdown",
      "source": [
        "### **❗ 분석**\n",
        "\n",
        "해당 모델의 f1-score 수치가 0.5 정도이다.\n",
        "\n",
        "상당히 낮은 수치이기 때문에 부적합한 모델이다."
      ],
      "metadata": {
        "id": "gnrRhdDOnJ6G"
      }
    },
    {
      "cell_type": "markdown",
      "source": [
        "### (4) Stochastic Gradient Descent Classifier (SGDClassifier)"
      ],
      "metadata": {
        "id": "sqhxFXWidnO8"
      }
    },
    {
      "cell_type": "code",
      "source": [
        "#모델 학습\n",
        "from sklearn.linear_model import SGDClassifier\n",
        "sgd_model = SGDClassifier()\n",
        "\n",
        "sgd_model.fit(X_train, y_train)\n",
        "y_pred = sgd_model.predict(X_test)\n",
        "\n",
        "#test 데이터로 예측+정확도 확인\n",
        "print(classification_report(y_test, y_pred))\n",
        "accuracy = accuracy_score(y_test, y_pred)\n",
        "accuracy"
      ],
      "metadata": {
        "colab": {
          "base_uri": "https://localhost:8080/"
        },
        "id": "XqRBdqrLdgQR",
        "outputId": "d5e2357d-70ca-47c8-a014-3bf1bf849e78"
      },
      "execution_count": null,
      "outputs": [
        {
          "output_type": "stream",
          "name": "stdout",
          "text": [
            "              precision    recall  f1-score   support\n",
            "\n",
            "           0       0.60      1.00      0.75        15\n",
            "           1       0.45      0.50      0.48        10\n",
            "           2       0.00      0.00      0.00        11\n",
            "\n",
            "    accuracy                           0.56        36\n",
            "   macro avg       0.35      0.50      0.41        36\n",
            "weighted avg       0.38      0.56      0.44        36\n",
            "\n"
          ]
        },
        {
          "output_type": "stream",
          "name": "stderr",
          "text": [
            "/usr/local/lib/python3.7/dist-packages/sklearn/metrics/_classification.py:1318: UndefinedMetricWarning: Precision and F-score are ill-defined and being set to 0.0 in labels with no predicted samples. Use `zero_division` parameter to control this behavior.\n",
            "  _warn_prf(average, modifier, msg_start, len(result))\n",
            "/usr/local/lib/python3.7/dist-packages/sklearn/metrics/_classification.py:1318: UndefinedMetricWarning: Precision and F-score are ill-defined and being set to 0.0 in labels with no predicted samples. Use `zero_division` parameter to control this behavior.\n",
            "  _warn_prf(average, modifier, msg_start, len(result))\n",
            "/usr/local/lib/python3.7/dist-packages/sklearn/metrics/_classification.py:1318: UndefinedMetricWarning: Precision and F-score are ill-defined and being set to 0.0 in labels with no predicted samples. Use `zero_division` parameter to control this behavior.\n",
            "  _warn_prf(average, modifier, msg_start, len(result))\n"
          ]
        },
        {
          "output_type": "execute_result",
          "data": {
            "text/plain": [
              "0.5555555555555556"
            ]
          },
          "metadata": {},
          "execution_count": 45
        }
      ]
    },
    {
      "cell_type": "markdown",
      "source": [
        "### **❗ 분석**\n",
        "\n",
        "해당 모델의 f1-score 는 0.5도 되지 않는 아주 낮은 수치이다.\n",
        "\n",
        "따라서 매우 부적합한 모델이다."
      ],
      "metadata": {
        "id": "IMyryRSM6Thv"
      }
    },
    {
      "cell_type": "markdown",
      "source": [
        "### (5) Logistic Regression 사용"
      ],
      "metadata": {
        "id": "K7jNck10doD_"
      }
    },
    {
      "cell_type": "code",
      "source": [
        "#모델 학습\n",
        "from sklearn.linear_model import LogisticRegression\n",
        "logistic_model = LogisticRegression()\n",
        "\n",
        "logistic_model.fit(X_train, y_train)\n",
        "y_pred = logistic_model.predict(X_test)\n",
        "\n",
        "#test 데이터로 예측+정확도 확인\n",
        "print(classification_report(y_test, y_pred))\n",
        "accuracy = accuracy_score(y_test, y_pred)\n",
        "accuracy"
      ],
      "metadata": {
        "colab": {
          "base_uri": "https://localhost:8080/"
        },
        "id": "Wx2TTMuOdz1l",
        "outputId": "f2771238-6d6c-4608-d1fc-af14b9ab1e1f"
      },
      "execution_count": null,
      "outputs": [
        {
          "output_type": "stream",
          "name": "stdout",
          "text": [
            "              precision    recall  f1-score   support\n",
            "\n",
            "           0       1.00      1.00      1.00        15\n",
            "           1       1.00      1.00      1.00        10\n",
            "           2       1.00      1.00      1.00        11\n",
            "\n",
            "    accuracy                           1.00        36\n",
            "   macro avg       1.00      1.00      1.00        36\n",
            "weighted avg       1.00      1.00      1.00        36\n",
            "\n"
          ]
        },
        {
          "output_type": "stream",
          "name": "stderr",
          "text": [
            "/usr/local/lib/python3.7/dist-packages/sklearn/linear_model/_logistic.py:818: ConvergenceWarning: lbfgs failed to converge (status=1):\n",
            "STOP: TOTAL NO. of ITERATIONS REACHED LIMIT.\n",
            "\n",
            "Increase the number of iterations (max_iter) or scale the data as shown in:\n",
            "    https://scikit-learn.org/stable/modules/preprocessing.html\n",
            "Please also refer to the documentation for alternative solver options:\n",
            "    https://scikit-learn.org/stable/modules/linear_model.html#logistic-regression\n",
            "  extra_warning_msg=_LOGISTIC_SOLVER_CONVERGENCE_MSG,\n"
          ]
        },
        {
          "output_type": "execute_result",
          "data": {
            "text/plain": [
              "1.0"
            ]
          },
          "metadata": {},
          "execution_count": 47
        }
      ]
    },
    {
      "cell_type": "markdown",
      "source": [
        "### **❗ 분석**\n",
        "\n",
        "\n",
        "학습 결과 100%로 완벽한 수치를 보여준다.\n",
        "\n",
        "성능 지표로도 우수한 결과가 나왔기 때문에 해당 모델은 와인 분류하기에 가장 적합하다고 생각한다."
      ],
      "metadata": {
        "id": "TkwFAAOO6Rru"
      }
    },
    {
      "cell_type": "markdown",
      "source": [
        "### **4. 결론**\n",
        "\n",
        "\n",
        "\n",
        "---\n",
        "\n",
        "### [f1-score]\n",
        "\n",
        "\n",
        "(1) Decision Tree    0.94\n",
        "\n",
        "(2) Random Forest   1.00\n",
        "\n",
        "(3) SVM    0.52\n",
        "\n",
        "(4) SGDClassifier    0.44\n",
        "\n",
        "(5) Logistic Regression    1.00\n",
        "\n",
        "\n",
        "---\n",
        "f1-score를 살펴보면 SVM, SGDClassifier 모델은 매우 낮은 수치가 나왔다.\n",
        "\n",
        "따라서 이 모델들은 가장 부적합한 모델이 될 것 이다.\n",
        "\n",
        "Random Forest, Logistic Regression 모델들은 f1-score 수치도 1.0이지만 정확도도 1.0으로 반환하였다. \n",
        "\n",
        "따라서 이 모델들이 가장 정확한 모델들이라고 판단하였다.\n",
        "\n",
        "\n",
        "#가장 적합한 모델 : Random Forest, Logistic Regression\n",
        "\n",
        "\n"
      ],
      "metadata": {
        "id": "Bl_YcEUkeIy_"
      }
    },
    {
      "cell_type": "markdown",
      "source": [
        "\n",
        "\n",
        "---\n",
        "\n"
      ],
      "metadata": {
        "id": "iHt5aT_t4d0k"
      }
    },
    {
      "cell_type": "markdown",
      "source": [
        "## <3> 유방암 여부를 진단해봅시다.\n",
        "\n",
        "### **1. 데이터 준비**"
      ],
      "metadata": {
        "id": "G3904bdX4fKU"
      }
    },
    {
      "cell_type": "code",
      "source": [
        "from sklearn.datasets import load_breast_cancer\n",
        "from sklearn.model_selection import train_test_split\n",
        "from sklearn.metrics import classification_report"
      ],
      "metadata": {
        "id": "yhIK0qF34fr_"
      },
      "execution_count": null,
      "outputs": []
    },
    {
      "cell_type": "code",
      "source": [
        "breast_cancer = load_breast_cancer()    #load_breast_cancer() 메소드를 이용하여 변수 breast_cancer에 데이터를 할당\n",
        "breast_cancer_data = breast_cancer.data      # breast_cancer feature데이터 저장 저장\n",
        "breast_cancer_label = breast_cancer.target    # breast_cancer 의 라벨 저장\n",
        "\n",
        "#데이터 확인\n",
        "breast_cancer.keys()\n",
        "print(breast_cancer_data.shape)\n",
        "breast_cancer_data[0]\n",
        "\n",
        "print(\"데이터 확인 끝!\")\n",
        "\n",
        "#라벨지 확인\n",
        "print(breast_cancer_label.shape)\n",
        "print(breast_cancer_label[:])\n",
        "print(breast_cancer.target_names)\n",
        "\n",
        "print(\"라벨지 확인 끝!\")\n",
        "\n",
        "#유방암 데이터 설명 보기\n",
        "print(breast_cancer.DESCR)"
      ],
      "metadata": {
        "colab": {
          "base_uri": "https://localhost:8080/"
        },
        "id": "C-630dUj4k_I",
        "outputId": "745bd64e-1f7a-48f7-cf0c-23bf9791a71c"
      },
      "execution_count": null,
      "outputs": [
        {
          "output_type": "stream",
          "name": "stdout",
          "text": [
            "(569, 30)\n",
            "데이터 확인 끝!\n",
            "(569,)\n",
            "[0 0 0 0 0 0 0 0 0 0 0 0 0 0 0 0 0 0 0 1 1 1 0 0 0 0 0 0 0 0 0 0 0 0 0 0 0\n",
            " 1 0 0 0 0 0 0 0 0 1 0 1 1 1 1 1 0 0 1 0 0 1 1 1 1 0 1 0 0 1 1 1 1 0 1 0 0\n",
            " 1 0 1 0 0 1 1 1 0 0 1 0 0 0 1 1 1 0 1 1 0 0 1 1 1 0 0 1 1 1 1 0 1 1 0 1 1\n",
            " 1 1 1 1 1 1 0 0 0 1 0 0 1 1 1 0 0 1 0 1 0 0 1 0 0 1 1 0 1 1 0 1 1 1 1 0 1\n",
            " 1 1 1 1 1 1 1 1 0 1 1 1 1 0 0 1 0 1 1 0 0 1 1 0 0 1 1 1 1 0 1 1 0 0 0 1 0\n",
            " 1 0 1 1 1 0 1 1 0 0 1 0 0 0 0 1 0 0 0 1 0 1 0 1 1 0 1 0 0 0 0 1 1 0 0 1 1\n",
            " 1 0 1 1 1 1 1 0 0 1 1 0 1 1 0 0 1 0 1 1 1 1 0 1 1 1 1 1 0 1 0 0 0 0 0 0 0\n",
            " 0 0 0 0 0 0 0 1 1 1 1 1 1 0 1 0 1 1 0 1 1 0 1 0 0 1 1 1 1 1 1 1 1 1 1 1 1\n",
            " 1 0 1 1 0 1 0 1 1 1 1 1 1 1 1 1 1 1 1 1 1 0 1 1 1 0 1 0 1 1 1 1 0 0 0 1 1\n",
            " 1 1 0 1 0 1 0 1 1 1 0 1 1 1 1 1 1 1 0 0 0 1 1 1 1 1 1 1 1 1 1 1 0 0 1 0 0\n",
            " 0 1 0 0 1 1 1 1 1 0 1 1 1 1 1 0 1 1 1 0 1 1 0 0 1 1 1 1 1 1 0 1 1 1 1 1 1\n",
            " 1 0 1 1 1 1 1 0 1 1 0 1 1 1 1 1 1 1 1 1 1 1 1 0 1 0 0 1 0 1 1 1 1 1 0 1 1\n",
            " 0 1 0 1 1 0 1 0 1 1 1 1 1 1 1 1 0 0 1 1 1 1 1 1 0 1 1 1 1 1 1 1 1 1 1 0 1\n",
            " 1 1 1 1 1 1 0 1 0 1 1 0 1 1 1 1 1 0 0 1 0 1 0 1 1 1 1 1 0 1 1 0 1 0 1 0 0\n",
            " 1 1 1 0 1 1 1 1 1 1 1 1 1 1 1 0 1 0 0 1 1 1 1 1 1 1 1 1 1 1 1 1 1 1 1 1 1\n",
            " 1 1 1 1 1 1 1 0 0 0 0 0 0 1]\n",
            "['malignant' 'benign']\n",
            "라벨지 확인 끝!\n",
            ".. _breast_cancer_dataset:\n",
            "\n",
            "Breast cancer wisconsin (diagnostic) dataset\n",
            "--------------------------------------------\n",
            "\n",
            "**Data Set Characteristics:**\n",
            "\n",
            "    :Number of Instances: 569\n",
            "\n",
            "    :Number of Attributes: 30 numeric, predictive attributes and the class\n",
            "\n",
            "    :Attribute Information:\n",
            "        - radius (mean of distances from center to points on the perimeter)\n",
            "        - texture (standard deviation of gray-scale values)\n",
            "        - perimeter\n",
            "        - area\n",
            "        - smoothness (local variation in radius lengths)\n",
            "        - compactness (perimeter^2 / area - 1.0)\n",
            "        - concavity (severity of concave portions of the contour)\n",
            "        - concave points (number of concave portions of the contour)\n",
            "        - symmetry\n",
            "        - fractal dimension (\"coastline approximation\" - 1)\n",
            "\n",
            "        The mean, standard error, and \"worst\" or largest (mean of the three\n",
            "        worst/largest values) of these features were computed for each image,\n",
            "        resulting in 30 features.  For instance, field 0 is Mean Radius, field\n",
            "        10 is Radius SE, field 20 is Worst Radius.\n",
            "\n",
            "        - class:\n",
            "                - WDBC-Malignant\n",
            "                - WDBC-Benign\n",
            "\n",
            "    :Summary Statistics:\n",
            "\n",
            "    ===================================== ====== ======\n",
            "                                           Min    Max\n",
            "    ===================================== ====== ======\n",
            "    radius (mean):                        6.981  28.11\n",
            "    texture (mean):                       9.71   39.28\n",
            "    perimeter (mean):                     43.79  188.5\n",
            "    area (mean):                          143.5  2501.0\n",
            "    smoothness (mean):                    0.053  0.163\n",
            "    compactness (mean):                   0.019  0.345\n",
            "    concavity (mean):                     0.0    0.427\n",
            "    concave points (mean):                0.0    0.201\n",
            "    symmetry (mean):                      0.106  0.304\n",
            "    fractal dimension (mean):             0.05   0.097\n",
            "    radius (standard error):              0.112  2.873\n",
            "    texture (standard error):             0.36   4.885\n",
            "    perimeter (standard error):           0.757  21.98\n",
            "    area (standard error):                6.802  542.2\n",
            "    smoothness (standard error):          0.002  0.031\n",
            "    compactness (standard error):         0.002  0.135\n",
            "    concavity (standard error):           0.0    0.396\n",
            "    concave points (standard error):      0.0    0.053\n",
            "    symmetry (standard error):            0.008  0.079\n",
            "    fractal dimension (standard error):   0.001  0.03\n",
            "    radius (worst):                       7.93   36.04\n",
            "    texture (worst):                      12.02  49.54\n",
            "    perimeter (worst):                    50.41  251.2\n",
            "    area (worst):                         185.2  4254.0\n",
            "    smoothness (worst):                   0.071  0.223\n",
            "    compactness (worst):                  0.027  1.058\n",
            "    concavity (worst):                    0.0    1.252\n",
            "    concave points (worst):               0.0    0.291\n",
            "    symmetry (worst):                     0.156  0.664\n",
            "    fractal dimension (worst):            0.055  0.208\n",
            "    ===================================== ====== ======\n",
            "\n",
            "    :Missing Attribute Values: None\n",
            "\n",
            "    :Class Distribution: 212 - Malignant, 357 - Benign\n",
            "\n",
            "    :Creator:  Dr. William H. Wolberg, W. Nick Street, Olvi L. Mangasarian\n",
            "\n",
            "    :Donor: Nick Street\n",
            "\n",
            "    :Date: November, 1995\n",
            "\n",
            "This is a copy of UCI ML Breast Cancer Wisconsin (Diagnostic) datasets.\n",
            "https://goo.gl/U2Uwz2\n",
            "\n",
            "Features are computed from a digitized image of a fine needle\n",
            "aspirate (FNA) of a breast mass.  They describe\n",
            "characteristics of the cell nuclei present in the image.\n",
            "\n",
            "Separating plane described above was obtained using\n",
            "Multisurface Method-Tree (MSM-T) [K. P. Bennett, \"Decision Tree\n",
            "Construction Via Linear Programming.\" Proceedings of the 4th\n",
            "Midwest Artificial Intelligence and Cognitive Science Society,\n",
            "pp. 97-101, 1992], a classification method which uses linear\n",
            "programming to construct a decision tree.  Relevant features\n",
            "were selected using an exhaustive search in the space of 1-4\n",
            "features and 1-3 separating planes.\n",
            "\n",
            "The actual linear program used to obtain the separating plane\n",
            "in the 3-dimensional space is that described in:\n",
            "[K. P. Bennett and O. L. Mangasarian: \"Robust Linear\n",
            "Programming Discrimination of Two Linearly Inseparable Sets\",\n",
            "Optimization Methods and Software 1, 1992, 23-34].\n",
            "\n",
            "This database is also available through the UW CS ftp server:\n",
            "\n",
            "ftp ftp.cs.wisc.edu\n",
            "cd math-prog/cpo-dataset/machine-learn/WDBC/\n",
            "\n",
            ".. topic:: References\n",
            "\n",
            "   - W.N. Street, W.H. Wolberg and O.L. Mangasarian. Nuclear feature extraction \n",
            "     for breast tumor diagnosis. IS&T/SPIE 1993 International Symposium on \n",
            "     Electronic Imaging: Science and Technology, volume 1905, pages 861-870,\n",
            "     San Jose, CA, 1993.\n",
            "   - O.L. Mangasarian, W.N. Street and W.H. Wolberg. Breast cancer diagnosis and \n",
            "     prognosis via linear programming. Operations Research, 43(4), pages 570-577, \n",
            "     July-August 1995.\n",
            "   - W.H. Wolberg, W.N. Street, and O.L. Mangasarian. Machine learning techniques\n",
            "     to diagnose breast cancer from fine-needle aspirates. Cancer Letters 77 (1994) \n",
            "     163-171.\n"
          ]
        }
      ]
    },
    {
      "cell_type": "markdown",
      "source": [
        "- 총 569 개의 데이터\n",
        "- feature 은 총 30개\n",
        "- 2개의 라벨 - Malignant(악성 종양) 212개 , Benign(양성 종양) 357개\n",
        "- 결측치 없음\n"
      ],
      "metadata": {
        "id": "JtiuAWWQ5o16"
      }
    },
    {
      "cell_type": "markdown",
      "source": [
        "### **2. 데이터셋 분리**"
      ],
      "metadata": {
        "id": "dRRNtNdN4_ZV"
      }
    },
    {
      "cell_type": "code",
      "source": [
        "X_train, X_test, y_train, y_test = train_test_split(breast_cancer_data, breast_cancer_label, test_size=0.2, random_state=7)\n",
        "\n",
        "print('X_train 개수: ', len(X_train),', X_test 개수: ', len(X_test))\n",
        "\n",
        "#만들어진 데이터셋 확인\n",
        "X_train.shape, y_train.shape\n",
        "X_test.shape, y_test.shape"
      ],
      "metadata": {
        "colab": {
          "base_uri": "https://localhost:8080/"
        },
        "id": "w7X5Feov5TJu",
        "outputId": "e0019c56-7283-4d6e-8cb0-e50c57e451ef"
      },
      "execution_count": null,
      "outputs": [
        {
          "output_type": "stream",
          "name": "stdout",
          "text": [
            "X_train 개수:  455 , X_test 개수:  114\n"
          ]
        },
        {
          "output_type": "execute_result",
          "data": {
            "text/plain": [
              "((114, 30), (114,))"
            ]
          },
          "metadata": {},
          "execution_count": 4
        }
      ]
    },
    {
      "cell_type": "markdown",
      "source": [
        "### **3. 모델 학습 및 측정**\n",
        "\n",
        "### (1) Decision Tree 사용"
      ],
      "metadata": {
        "id": "zkn5I1rg4_fV"
      }
    },
    {
      "cell_type": "code",
      "source": [
        "#모델 학습\n",
        "from sklearn.tree import DecisionTreeClassifier\n",
        "from sklearn.metrics import accuracy_score\n",
        "\n",
        "decision_tree = DecisionTreeClassifier(random_state=32)    #decision_tree 라는 변수에 모델을 저장\n",
        "decision_tree.fit(X_train, y_train)\n",
        "\n",
        "#test 데이터로 예측+정확도 확인\n",
        "y_pred = decision_tree.predict(X_test)\n",
        "\n",
        "print(classification_report(y_test, y_pred))\n",
        "accuracy = accuracy_score(y_test, y_pred)\n",
        "accuracy"
      ],
      "metadata": {
        "colab": {
          "base_uri": "https://localhost:8080/"
        },
        "id": "bfxJ1Kcc94f6",
        "outputId": "c0173cf0-de5d-488a-8301-328b19c008b1"
      },
      "execution_count": null,
      "outputs": [
        {
          "output_type": "stream",
          "name": "stdout",
          "text": [
            "              precision    recall  f1-score   support\n",
            "\n",
            "           0       0.92      0.82      0.87        40\n",
            "           1       0.91      0.96      0.93        74\n",
            "\n",
            "    accuracy                           0.91       114\n",
            "   macro avg       0.91      0.89      0.90       114\n",
            "weighted avg       0.91      0.91      0.91       114\n",
            "\n"
          ]
        },
        {
          "output_type": "execute_result",
          "data": {
            "text/plain": [
              "0.9122807017543859"
            ]
          },
          "metadata": {},
          "execution_count": 5
        }
      ]
    },
    {
      "cell_type": "markdown",
      "source": [
        "### **❗ 분석**\n",
        "\n",
        "recall 이 0.96으로 정확도보다 근소하게 높다."
      ],
      "metadata": {
        "id": "DhNtB3Wl14AP"
      }
    },
    {
      "cell_type": "markdown",
      "source": [
        "###  (2) Random Forest 사용"
      ],
      "metadata": {
        "id": "h_MJdk_--pia"
      }
    },
    {
      "cell_type": "code",
      "source": [
        "#모델 학습\n",
        "from sklearn.ensemble import RandomForestClassifier\n",
        "\n",
        "random_forest = RandomForestClassifier(random_state=32)\n",
        "random_forest.fit(X_train, y_train)\n",
        "y_pred = random_forest.predict(X_test)\n",
        "\n",
        "#test 데이터로 예측+정확도 확인\n",
        "print(classification_report(y_test, y_pred))\n",
        "accuracy = accuracy_score(y_test, y_pred)\n",
        "accuracy"
      ],
      "metadata": {
        "colab": {
          "base_uri": "https://localhost:8080/"
        },
        "id": "XRlOKig9-qCM",
        "outputId": "bc6b4349-49d2-4edf-9639-b5c74e0d6ffb"
      },
      "execution_count": null,
      "outputs": [
        {
          "output_type": "stream",
          "name": "stdout",
          "text": [
            "              precision    recall  f1-score   support\n",
            "\n",
            "           0       1.00      1.00      1.00        40\n",
            "           1       1.00      1.00      1.00        74\n",
            "\n",
            "    accuracy                           1.00       114\n",
            "   macro avg       1.00      1.00      1.00       114\n",
            "weighted avg       1.00      1.00      1.00       114\n",
            "\n"
          ]
        },
        {
          "output_type": "execute_result",
          "data": {
            "text/plain": [
              "1.0"
            ]
          },
          "metadata": {},
          "execution_count": 6
        }
      ]
    },
    {
      "cell_type": "markdown",
      "source": [
        "### **❗ 분석**\n",
        "\n",
        "성능 지표 모두 1 그리고 정확도도 100%의 수치를 반환받았다.\n",
        "\n",
        "따라서 어떠한 지표로 봐도 해당 모델은 유방암 판별에 상당히 적합한 모델이라고 생각할 수 있다."
      ],
      "metadata": {
        "id": "63lUyCnH2Ass"
      }
    },
    {
      "cell_type": "markdown",
      "source": [
        "### (3) Support Vector Machine (SVM) 사용"
      ],
      "metadata": {
        "id": "eYxJw60G-swL"
      }
    },
    {
      "cell_type": "code",
      "source": [
        "#모델 학습\n",
        "from sklearn import svm\n",
        "svm_model = svm.SVC()\n",
        "\n",
        "svm_model.fit(X_train, y_train)\n",
        "y_pred = svm_model.predict(X_test)\n",
        "\n",
        "#test 데이터로 예측+정확도 확인\n",
        "print(classification_report(y_test, y_pred))\n",
        "accuracy = accuracy_score(y_test, y_pred)\n",
        "accuracy"
      ],
      "metadata": {
        "colab": {
          "base_uri": "https://localhost:8080/"
        },
        "id": "rOmG_NWl-z2_",
        "outputId": "eedc646e-b916-48cc-f6ce-018a5482599f"
      },
      "execution_count": null,
      "outputs": [
        {
          "output_type": "stream",
          "name": "stdout",
          "text": [
            "              precision    recall  f1-score   support\n",
            "\n",
            "           0       1.00      0.72      0.84        40\n",
            "           1       0.87      1.00      0.93        74\n",
            "\n",
            "    accuracy                           0.90       114\n",
            "   macro avg       0.94      0.86      0.89       114\n",
            "weighted avg       0.92      0.90      0.90       114\n",
            "\n"
          ]
        },
        {
          "output_type": "execute_result",
          "data": {
            "text/plain": [
              "0.9035087719298246"
            ]
          },
          "metadata": {},
          "execution_count": 7
        }
      ]
    },
    {
      "cell_type": "markdown",
      "source": [
        "### **❗ 분석**\n",
        "\n",
        "recall 을 보면 1로 매우 높은 수치를 받았다.\n",
        "\n",
        "하지만 정확도를 보면 90% 정도로 recall에 비하면 좋지 않은 수치이다.\n",
        "\n",
        "따라서 이 모델 수치를 상회하는 모델이 있다면 해당 모델은 유방암 판단에 적합하지 않은 모델이 될 것이다."
      ],
      "metadata": {
        "id": "mkE9o5IP2FCW"
      }
    },
    {
      "cell_type": "markdown",
      "source": [
        "### (4) Stochastic Gradient Descent Classifier (SGDClassifier)"
      ],
      "metadata": {
        "id": "8PD8FhnC-1Sn"
      }
    },
    {
      "cell_type": "code",
      "source": [
        "#모델 학습\n",
        "from sklearn.linear_model import SGDClassifier\n",
        "sgd_model = SGDClassifier()\n",
        "\n",
        "sgd_model.fit(X_train, y_train)\n",
        "y_pred = sgd_model.predict(X_test)\n",
        "\n",
        "#test 데이터로 예측+정확도 확인\n",
        "print(classification_report(y_test, y_pred))\n",
        "accuracy = accuracy_score(y_test, y_pred)\n",
        "accuracy"
      ],
      "metadata": {
        "colab": {
          "base_uri": "https://localhost:8080/"
        },
        "id": "3jWv_W7d-6ti",
        "outputId": "a74f2c48-3147-4998-f3a4-4ff87be9079a"
      },
      "execution_count": null,
      "outputs": [
        {
          "output_type": "stream",
          "name": "stdout",
          "text": [
            "              precision    recall  f1-score   support\n",
            "\n",
            "           0       0.94      0.72      0.82        40\n",
            "           1       0.87      0.97      0.92        74\n",
            "\n",
            "    accuracy                           0.89       114\n",
            "   macro avg       0.90      0.85      0.87       114\n",
            "weighted avg       0.89      0.89      0.88       114\n",
            "\n"
          ]
        },
        {
          "output_type": "execute_result",
          "data": {
            "text/plain": [
              "0.8859649122807017"
            ]
          },
          "metadata": {},
          "execution_count": 8
        }
      ]
    },
    {
      "cell_type": "markdown",
      "source": [
        "### **❗ 분석**\n",
        "\n",
        "해당 모델은 recall 수치는 0.97로 상당히 우수한 편에 있다.\n",
        "\n",
        "하지만 정확도로 보면 0.9도 못 미치는 수치로 유방암 판별에 좋은 모델은 아니라고 생각한다."
      ],
      "metadata": {
        "id": "3eTcbvtV2lAO"
      }
    },
    {
      "cell_type": "markdown",
      "source": [
        "### (5) Logistic Regression 사용"
      ],
      "metadata": {
        "id": "lyTSTJb_-7Pa"
      }
    },
    {
      "cell_type": "code",
      "source": [
        "#모델 학습\n",
        "from sklearn.linear_model import LogisticRegression\n",
        "logistic_model = LogisticRegression()\n",
        "\n",
        "logistic_model.fit(X_train, y_train)\n",
        "y_pred = logistic_model.predict(X_test)\n",
        "\n",
        "#test 데이터로 예측+정확도 확인\n",
        "print(classification_report(y_test, y_pred))\n",
        "accuracy = accuracy_score(y_test, y_pred)\n",
        "accuracy"
      ],
      "metadata": {
        "colab": {
          "base_uri": "https://localhost:8080/"
        },
        "id": "abe3lwZ2-9kD",
        "outputId": "1995b21a-ee88-4626-9a92-c1dd0907b078"
      },
      "execution_count": null,
      "outputs": [
        {
          "output_type": "stream",
          "name": "stdout",
          "text": [
            "              precision    recall  f1-score   support\n",
            "\n",
            "           0       1.00      0.82      0.90        40\n",
            "           1       0.91      1.00      0.95        74\n",
            "\n",
            "    accuracy                           0.94       114\n",
            "   macro avg       0.96      0.91      0.93       114\n",
            "weighted avg       0.94      0.94      0.94       114\n",
            "\n"
          ]
        },
        {
          "output_type": "stream",
          "name": "stderr",
          "text": [
            "/usr/local/lib/python3.7/dist-packages/sklearn/linear_model/_logistic.py:818: ConvergenceWarning: lbfgs failed to converge (status=1):\n",
            "STOP: TOTAL NO. of ITERATIONS REACHED LIMIT.\n",
            "\n",
            "Increase the number of iterations (max_iter) or scale the data as shown in:\n",
            "    https://scikit-learn.org/stable/modules/preprocessing.html\n",
            "Please also refer to the documentation for alternative solver options:\n",
            "    https://scikit-learn.org/stable/modules/linear_model.html#logistic-regression\n",
            "  extra_warning_msg=_LOGISTIC_SOLVER_CONVERGENCE_MSG,\n"
          ]
        },
        {
          "output_type": "execute_result",
          "data": {
            "text/plain": [
              "0.9385964912280702"
            ]
          },
          "metadata": {},
          "execution_count": 9
        }
      ]
    },
    {
      "cell_type": "markdown",
      "source": [
        "### **❗ 분석**\n",
        "\n",
        " Logistic Regression 모델 또한 recall 수치는 1.0으로 상당히 좋다.\n",
        "\n",
        " 하지만 그에 비해 정확도는 0.93 으로 다소 아쉽다."
      ],
      "metadata": {
        "id": "xJU8Ns742xX1"
      }
    },
    {
      "cell_type": "markdown",
      "source": [
        "### **4. 결론**\n",
        "\n",
        "\n",
        "\n",
        "---\n",
        "\n",
        "### [Recall]\n",
        "\n",
        "\n",
        "(1) Decision Tree    0.96\n",
        "\n",
        "(2) Random Forest   1.00\n",
        "\n",
        "(3) SVM    1.00\n",
        "\n",
        "(4) SGDClassifier    0.97\n",
        "\n",
        "(5) Logistic Regression    1.00\n",
        "\n",
        "\n",
        "---\n",
        "\n",
        "유방암 여부 판단하기 위한 모델을 선정하기 위해\n",
        "\n",
        "평가 지표들 중 'Recall'을 가장 중점적으로 보았다.\n",
        "\n",
        "왜냐하면 유방암 양성을 음성으로 판별하면 안되기 때문에(큰일남) 이를 위해서 recall 지표를 살펴보는 것이 가장 정확하다고 생각한다.\n",
        "\n",
        "단순히 recall 수치만 비교하면 사실상 전부 다 좋은 수치를 얻었기 때문에 유방함 판별에 적합해 보인다. 특히나 Random Forest, SVM, Logistic Regression 는 recall이 1.0 이기 때문에 무조건적으로 적합한 모델같아 보인다.\n",
        "\n",
        "하지만 모델 선정할 때는 한 가지의 지표만 보는 등의 오류를 범하지 않아야한다.\n",
        "그래서 두 번 째로는 정확도를 살펴보았고, 정확도 또한 100%를 반환한 Random Forest가 유방암 판별에 가장 정확한 모델이라고 생각한다.\n",
        "\n",
        "#가장 적합한 모델 : Random Forest\n",
        "\n",
        "\n"
      ],
      "metadata": {
        "id": "eqE2whpO_BIF"
      }
    },
    {
      "cell_type": "markdown",
      "source": [
        "\n",
        "\n",
        "---\n",
        "\n"
      ],
      "metadata": {
        "id": "rDmPRx2tAChM"
      }
    },
    {
      "cell_type": "markdown",
      "source": [
        "## <4> 회고\n",
        "\n",
        "처음에 프로젝트 전 이론으로만 봤을 때 각 모델들의 산출 방식과 성능 지표들을 잘 이해하지 못했다.\n",
        "\n",
        "직접 프로젝트를 진행해보니 조금씩 모델들이 이해됐고, 특히나 성능 지표들을 알아가는 눈이 생긴 것 같아 스스로 이 점에 대해서 뿌듯해한다.\n",
        "\n",
        "개인적으로 각 모델들에 대한 그래프들도 뽑아보고 싶었으나 너무 길어질 것 같아 여기엔 넣지 않았다.\n",
        "\n",
        "그래프를 뽑아 관련 함수들에 대해 이해해보는 시간도 굉장히 좋을 것 같다.\n",
        "\n",
        "exploration1 할 때만 해도 막히는 부분들이 많아 흥미를 느끼지 못했는데, 2부터는 조금씩 내가 아는 부분들이 생기니 조금 더 흥미를 가지고 진행할 수 있게 되었다.\n",
        "\n",
        "초반 코드를 짤 때 import 해야하는 코드들을 한 번에 정리하지 못해 계속 오류가 나곤 했는데 첫 번째 미니 프로젝트를 진행하면서 코드를 한 번 정리를 하게 되니 어떤 코드가 대충 어디 위치에서 쓰이게 된지 알게 되었다.\n",
        "\n",
        "생각보다 막힘없이 진행할 수 있어서 기뻤다!"
      ],
      "metadata": {
        "id": "aJmOkq_fADZN"
      }
    }
  ]
}